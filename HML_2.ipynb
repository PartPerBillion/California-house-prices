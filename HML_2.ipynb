{
  "nbformat": 4,
  "nbformat_minor": 0,
  "metadata": {
    "colab": {
      "name": "HML 2.ipynb",
      "provenance": [],
      "collapsed_sections": []
    },
    "kernelspec": {
      "name": "python3",
      "display_name": "Python 3"
    },
    "language_info": {
      "name": "python"
    }
  },
  "cells": [
    {
      "cell_type": "code",
      "source": [
        "import os\n",
        "import sys\n",
        "import numpy as np\n",
        "import matplotlib as mpl\n",
        "import matplotlib.pyplot as plt\n",
        "\n",
        "mpl.rc('axes', labelsize = 14)\n",
        "mpl.rc('xtick', labelsize = 12)\n",
        "mpl.rc('ytick', labelsize = 12)"
      ],
      "metadata": {
        "id": "88Y24uOn4OST"
      },
      "execution_count": 2,
      "outputs": []
    },
    {
      "cell_type": "code",
      "source": [
        "rootdir = '.'\n",
        "chapterid = 'end_to_end_project'\n",
        "imagespath = os.path.join(rootdir + 'images' + chapterid)\n",
        "os.makedirs(imagespath, exist_ok = True)"
      ],
      "metadata": {
        "id": "qz1vOqG34OVF"
      },
      "execution_count": 3,
      "outputs": []
    },
    {
      "cell_type": "code",
      "source": [
        "def savefig(figid, tight_layout= True, fig_extension='png', resolution =  300):\n",
        "  path = os.path.join(imagespath + figid + '.' + fig_extension)\n",
        "  print('saving figure...', figid)\n",
        "  if tight_layout:\n",
        "    plt.tight_layout()\n",
        "  plt.savefig(path, format = fig_extension, dpi = resolution)"
      ],
      "metadata": {
        "id": "XE90G01G5gwp"
      },
      "execution_count": 4,
      "outputs": []
    },
    {
      "cell_type": "markdown",
      "source": [
        "## Get the data"
      ],
      "metadata": {
        "id": "72iMUvwIrBkK"
      }
    },
    {
      "cell_type": "code",
      "source": [
        "import tarfile\n",
        "import urllib.request\n",
        "\n",
        "download_root = 'https://raw.githubusercontent.com/ageron/handson-ml2/master/'\n",
        "housing_url = download_root + 'datasets/housing/housing.tgz'\n",
        "housing_path = os.path.join('datasets' + 'housing')\n",
        "\n",
        "def fetch_housing_data(hp = housing_path, hu = housing_url):\n",
        "  if not os.path.isdir(hp):\n",
        "    os.makedirs(hp)\n",
        "  tp = os.path.join(hp,'housing.tgz')\n",
        "  urllib.request.urlretrieve(hu, tp)\n",
        "  ht = tarfile.open(tp)\n",
        "  ht.extractall(path = hp)\n",
        "  ht.close()"
      ],
      "metadata": {
        "id": "m9tr-DuD_7Ap"
      },
      "execution_count": 5,
      "outputs": []
    },
    {
      "cell_type": "code",
      "source": [
        "fetch_housing_data()"
      ],
      "metadata": {
        "id": "LRAkgldJsPDw"
      },
      "execution_count": 6,
      "outputs": []
    },
    {
      "cell_type": "code",
      "source": [
        "import pandas as pd\n",
        "\n",
        "def load_housing_data(hp = housing_path):\n",
        "  cp = os.path.join(hp, 'housing.csv')\n",
        "  return pd.read_csv(cp)"
      ],
      "metadata": {
        "id": "_o7r2qOY1tcw"
      },
      "execution_count": 7,
      "outputs": []
    },
    {
      "cell_type": "code",
      "source": [
        "h = load_housing_data()\n",
        "h.head()"
      ],
      "metadata": {
        "colab": {
          "base_uri": "https://localhost:8080/",
          "height": 206
        },
        "id": "Ox9qxTUTDWX7",
        "outputId": "b4e7a2f1-0b6e-49f7-8c32-177f9ae42137"
      },
      "execution_count": 8,
      "outputs": [
        {
          "output_type": "execute_result",
          "data": {
            "text/plain": [
              "   longitude  latitude  housing_median_age  total_rooms  total_bedrooms  \\\n",
              "0    -122.23     37.88                41.0        880.0           129.0   \n",
              "1    -122.22     37.86                21.0       7099.0          1106.0   \n",
              "2    -122.24     37.85                52.0       1467.0           190.0   \n",
              "3    -122.25     37.85                52.0       1274.0           235.0   \n",
              "4    -122.25     37.85                52.0       1627.0           280.0   \n",
              "\n",
              "   population  households  median_income  median_house_value ocean_proximity  \n",
              "0       322.0       126.0         8.3252            452600.0        NEAR BAY  \n",
              "1      2401.0      1138.0         8.3014            358500.0        NEAR BAY  \n",
              "2       496.0       177.0         7.2574            352100.0        NEAR BAY  \n",
              "3       558.0       219.0         5.6431            341300.0        NEAR BAY  \n",
              "4       565.0       259.0         3.8462            342200.0        NEAR BAY  "
            ],
            "text/html": [
              "\n",
              "  <div id=\"df-91a56636-506f-47ba-9485-f925d6b7d2cd\">\n",
              "    <div class=\"colab-df-container\">\n",
              "      <div>\n",
              "<style scoped>\n",
              "    .dataframe tbody tr th:only-of-type {\n",
              "        vertical-align: middle;\n",
              "    }\n",
              "\n",
              "    .dataframe tbody tr th {\n",
              "        vertical-align: top;\n",
              "    }\n",
              "\n",
              "    .dataframe thead th {\n",
              "        text-align: right;\n",
              "    }\n",
              "</style>\n",
              "<table border=\"1\" class=\"dataframe\">\n",
              "  <thead>\n",
              "    <tr style=\"text-align: right;\">\n",
              "      <th></th>\n",
              "      <th>longitude</th>\n",
              "      <th>latitude</th>\n",
              "      <th>housing_median_age</th>\n",
              "      <th>total_rooms</th>\n",
              "      <th>total_bedrooms</th>\n",
              "      <th>population</th>\n",
              "      <th>households</th>\n",
              "      <th>median_income</th>\n",
              "      <th>median_house_value</th>\n",
              "      <th>ocean_proximity</th>\n",
              "    </tr>\n",
              "  </thead>\n",
              "  <tbody>\n",
              "    <tr>\n",
              "      <th>0</th>\n",
              "      <td>-122.23</td>\n",
              "      <td>37.88</td>\n",
              "      <td>41.0</td>\n",
              "      <td>880.0</td>\n",
              "      <td>129.0</td>\n",
              "      <td>322.0</td>\n",
              "      <td>126.0</td>\n",
              "      <td>8.3252</td>\n",
              "      <td>452600.0</td>\n",
              "      <td>NEAR BAY</td>\n",
              "    </tr>\n",
              "    <tr>\n",
              "      <th>1</th>\n",
              "      <td>-122.22</td>\n",
              "      <td>37.86</td>\n",
              "      <td>21.0</td>\n",
              "      <td>7099.0</td>\n",
              "      <td>1106.0</td>\n",
              "      <td>2401.0</td>\n",
              "      <td>1138.0</td>\n",
              "      <td>8.3014</td>\n",
              "      <td>358500.0</td>\n",
              "      <td>NEAR BAY</td>\n",
              "    </tr>\n",
              "    <tr>\n",
              "      <th>2</th>\n",
              "      <td>-122.24</td>\n",
              "      <td>37.85</td>\n",
              "      <td>52.0</td>\n",
              "      <td>1467.0</td>\n",
              "      <td>190.0</td>\n",
              "      <td>496.0</td>\n",
              "      <td>177.0</td>\n",
              "      <td>7.2574</td>\n",
              "      <td>352100.0</td>\n",
              "      <td>NEAR BAY</td>\n",
              "    </tr>\n",
              "    <tr>\n",
              "      <th>3</th>\n",
              "      <td>-122.25</td>\n",
              "      <td>37.85</td>\n",
              "      <td>52.0</td>\n",
              "      <td>1274.0</td>\n",
              "      <td>235.0</td>\n",
              "      <td>558.0</td>\n",
              "      <td>219.0</td>\n",
              "      <td>5.6431</td>\n",
              "      <td>341300.0</td>\n",
              "      <td>NEAR BAY</td>\n",
              "    </tr>\n",
              "    <tr>\n",
              "      <th>4</th>\n",
              "      <td>-122.25</td>\n",
              "      <td>37.85</td>\n",
              "      <td>52.0</td>\n",
              "      <td>1627.0</td>\n",
              "      <td>280.0</td>\n",
              "      <td>565.0</td>\n",
              "      <td>259.0</td>\n",
              "      <td>3.8462</td>\n",
              "      <td>342200.0</td>\n",
              "      <td>NEAR BAY</td>\n",
              "    </tr>\n",
              "  </tbody>\n",
              "</table>\n",
              "</div>\n",
              "      <button class=\"colab-df-convert\" onclick=\"convertToInteractive('df-91a56636-506f-47ba-9485-f925d6b7d2cd')\"\n",
              "              title=\"Convert this dataframe to an interactive table.\"\n",
              "              style=\"display:none;\">\n",
              "        \n",
              "  <svg xmlns=\"http://www.w3.org/2000/svg\" height=\"24px\"viewBox=\"0 0 24 24\"\n",
              "       width=\"24px\">\n",
              "    <path d=\"M0 0h24v24H0V0z\" fill=\"none\"/>\n",
              "    <path d=\"M18.56 5.44l.94 2.06.94-2.06 2.06-.94-2.06-.94-.94-2.06-.94 2.06-2.06.94zm-11 1L8.5 8.5l.94-2.06 2.06-.94-2.06-.94L8.5 2.5l-.94 2.06-2.06.94zm10 10l.94 2.06.94-2.06 2.06-.94-2.06-.94-.94-2.06-.94 2.06-2.06.94z\"/><path d=\"M17.41 7.96l-1.37-1.37c-.4-.4-.92-.59-1.43-.59-.52 0-1.04.2-1.43.59L10.3 9.45l-7.72 7.72c-.78.78-.78 2.05 0 2.83L4 21.41c.39.39.9.59 1.41.59.51 0 1.02-.2 1.41-.59l7.78-7.78 2.81-2.81c.8-.78.8-2.07 0-2.86zM5.41 20L4 18.59l7.72-7.72 1.47 1.35L5.41 20z\"/>\n",
              "  </svg>\n",
              "      </button>\n",
              "      \n",
              "  <style>\n",
              "    .colab-df-container {\n",
              "      display:flex;\n",
              "      flex-wrap:wrap;\n",
              "      gap: 12px;\n",
              "    }\n",
              "\n",
              "    .colab-df-convert {\n",
              "      background-color: #E8F0FE;\n",
              "      border: none;\n",
              "      border-radius: 50%;\n",
              "      cursor: pointer;\n",
              "      display: none;\n",
              "      fill: #1967D2;\n",
              "      height: 32px;\n",
              "      padding: 0 0 0 0;\n",
              "      width: 32px;\n",
              "    }\n",
              "\n",
              "    .colab-df-convert:hover {\n",
              "      background-color: #E2EBFA;\n",
              "      box-shadow: 0px 1px 2px rgba(60, 64, 67, 0.3), 0px 1px 3px 1px rgba(60, 64, 67, 0.15);\n",
              "      fill: #174EA6;\n",
              "    }\n",
              "\n",
              "    [theme=dark] .colab-df-convert {\n",
              "      background-color: #3B4455;\n",
              "      fill: #D2E3FC;\n",
              "    }\n",
              "\n",
              "    [theme=dark] .colab-df-convert:hover {\n",
              "      background-color: #434B5C;\n",
              "      box-shadow: 0px 1px 3px 1px rgba(0, 0, 0, 0.15);\n",
              "      filter: drop-shadow(0px 1px 2px rgba(0, 0, 0, 0.3));\n",
              "      fill: #FFFFFF;\n",
              "    }\n",
              "  </style>\n",
              "\n",
              "      <script>\n",
              "        const buttonEl =\n",
              "          document.querySelector('#df-91a56636-506f-47ba-9485-f925d6b7d2cd button.colab-df-convert');\n",
              "        buttonEl.style.display =\n",
              "          google.colab.kernel.accessAllowed ? 'block' : 'none';\n",
              "\n",
              "        async function convertToInteractive(key) {\n",
              "          const element = document.querySelector('#df-91a56636-506f-47ba-9485-f925d6b7d2cd');\n",
              "          const dataTable =\n",
              "            await google.colab.kernel.invokeFunction('convertToInteractive',\n",
              "                                                     [key], {});\n",
              "          if (!dataTable) return;\n",
              "\n",
              "          const docLinkHtml = 'Like what you see? Visit the ' +\n",
              "            '<a target=\"_blank\" href=https://colab.research.google.com/notebooks/data_table.ipynb>data table notebook</a>'\n",
              "            + ' to learn more about interactive tables.';\n",
              "          element.innerHTML = '';\n",
              "          dataTable['output_type'] = 'display_data';\n",
              "          await google.colab.output.renderOutput(dataTable, element);\n",
              "          const docLink = document.createElement('div');\n",
              "          docLink.innerHTML = docLinkHtml;\n",
              "          element.appendChild(docLink);\n",
              "        }\n",
              "      </script>\n",
              "    </div>\n",
              "  </div>\n",
              "  "
            ]
          },
          "metadata": {},
          "execution_count": 8
        }
      ]
    },
    {
      "cell_type": "code",
      "source": [
        "h.info()"
      ],
      "metadata": {
        "colab": {
          "base_uri": "https://localhost:8080/"
        },
        "id": "rWChfe2aEMt7",
        "outputId": "f755ebef-2abc-497a-bccf-65c1db29419d"
      },
      "execution_count": 9,
      "outputs": [
        {
          "output_type": "stream",
          "name": "stdout",
          "text": [
            "<class 'pandas.core.frame.DataFrame'>\n",
            "RangeIndex: 20640 entries, 0 to 20639\n",
            "Data columns (total 10 columns):\n",
            " #   Column              Non-Null Count  Dtype  \n",
            "---  ------              --------------  -----  \n",
            " 0   longitude           20640 non-null  float64\n",
            " 1   latitude            20640 non-null  float64\n",
            " 2   housing_median_age  20640 non-null  float64\n",
            " 3   total_rooms         20640 non-null  float64\n",
            " 4   total_bedrooms      20433 non-null  float64\n",
            " 5   population          20640 non-null  float64\n",
            " 6   households          20640 non-null  float64\n",
            " 7   median_income       20640 non-null  float64\n",
            " 8   median_house_value  20640 non-null  float64\n",
            " 9   ocean_proximity     20640 non-null  object \n",
            "dtypes: float64(9), object(1)\n",
            "memory usage: 1.6+ MB\n"
          ]
        }
      ]
    },
    {
      "cell_type": "code",
      "source": [
        "h['ocean_proximity'].value_counts()"
      ],
      "metadata": {
        "colab": {
          "base_uri": "https://localhost:8080/"
        },
        "id": "T0yh93ZnEP7b",
        "outputId": "5f5c2c81-758d-440d-e68d-7c1c1dd6f714"
      },
      "execution_count": 10,
      "outputs": [
        {
          "output_type": "execute_result",
          "data": {
            "text/plain": [
              "<1H OCEAN     9136\n",
              "INLAND        6551\n",
              "NEAR OCEAN    2658\n",
              "NEAR BAY      2290\n",
              "ISLAND           5\n",
              "Name: ocean_proximity, dtype: int64"
            ]
          },
          "metadata": {},
          "execution_count": 10
        }
      ]
    },
    {
      "cell_type": "code",
      "source": [
        "h.describe()"
      ],
      "metadata": {
        "colab": {
          "base_uri": "https://localhost:8080/",
          "height": 300
        },
        "id": "bJVbYu0WEXIM",
        "outputId": "a68eb51f-f363-43e6-a5b5-fc99001f8af4"
      },
      "execution_count": 11,
      "outputs": [
        {
          "output_type": "execute_result",
          "data": {
            "text/plain": [
              "          longitude      latitude  housing_median_age   total_rooms  \\\n",
              "count  20640.000000  20640.000000        20640.000000  20640.000000   \n",
              "mean    -119.569704     35.631861           28.639486   2635.763081   \n",
              "std        2.003532      2.135952           12.585558   2181.615252   \n",
              "min     -124.350000     32.540000            1.000000      2.000000   \n",
              "25%     -121.800000     33.930000           18.000000   1447.750000   \n",
              "50%     -118.490000     34.260000           29.000000   2127.000000   \n",
              "75%     -118.010000     37.710000           37.000000   3148.000000   \n",
              "max     -114.310000     41.950000           52.000000  39320.000000   \n",
              "\n",
              "       total_bedrooms    population    households  median_income  \\\n",
              "count    20433.000000  20640.000000  20640.000000   20640.000000   \n",
              "mean       537.870553   1425.476744    499.539680       3.870671   \n",
              "std        421.385070   1132.462122    382.329753       1.899822   \n",
              "min          1.000000      3.000000      1.000000       0.499900   \n",
              "25%        296.000000    787.000000    280.000000       2.563400   \n",
              "50%        435.000000   1166.000000    409.000000       3.534800   \n",
              "75%        647.000000   1725.000000    605.000000       4.743250   \n",
              "max       6445.000000  35682.000000   6082.000000      15.000100   \n",
              "\n",
              "       median_house_value  \n",
              "count        20640.000000  \n",
              "mean        206855.816909  \n",
              "std         115395.615874  \n",
              "min          14999.000000  \n",
              "25%         119600.000000  \n",
              "50%         179700.000000  \n",
              "75%         264725.000000  \n",
              "max         500001.000000  "
            ],
            "text/html": [
              "\n",
              "  <div id=\"df-eb380b85-6573-4726-b75b-01e569517378\">\n",
              "    <div class=\"colab-df-container\">\n",
              "      <div>\n",
              "<style scoped>\n",
              "    .dataframe tbody tr th:only-of-type {\n",
              "        vertical-align: middle;\n",
              "    }\n",
              "\n",
              "    .dataframe tbody tr th {\n",
              "        vertical-align: top;\n",
              "    }\n",
              "\n",
              "    .dataframe thead th {\n",
              "        text-align: right;\n",
              "    }\n",
              "</style>\n",
              "<table border=\"1\" class=\"dataframe\">\n",
              "  <thead>\n",
              "    <tr style=\"text-align: right;\">\n",
              "      <th></th>\n",
              "      <th>longitude</th>\n",
              "      <th>latitude</th>\n",
              "      <th>housing_median_age</th>\n",
              "      <th>total_rooms</th>\n",
              "      <th>total_bedrooms</th>\n",
              "      <th>population</th>\n",
              "      <th>households</th>\n",
              "      <th>median_income</th>\n",
              "      <th>median_house_value</th>\n",
              "    </tr>\n",
              "  </thead>\n",
              "  <tbody>\n",
              "    <tr>\n",
              "      <th>count</th>\n",
              "      <td>20640.000000</td>\n",
              "      <td>20640.000000</td>\n",
              "      <td>20640.000000</td>\n",
              "      <td>20640.000000</td>\n",
              "      <td>20433.000000</td>\n",
              "      <td>20640.000000</td>\n",
              "      <td>20640.000000</td>\n",
              "      <td>20640.000000</td>\n",
              "      <td>20640.000000</td>\n",
              "    </tr>\n",
              "    <tr>\n",
              "      <th>mean</th>\n",
              "      <td>-119.569704</td>\n",
              "      <td>35.631861</td>\n",
              "      <td>28.639486</td>\n",
              "      <td>2635.763081</td>\n",
              "      <td>537.870553</td>\n",
              "      <td>1425.476744</td>\n",
              "      <td>499.539680</td>\n",
              "      <td>3.870671</td>\n",
              "      <td>206855.816909</td>\n",
              "    </tr>\n",
              "    <tr>\n",
              "      <th>std</th>\n",
              "      <td>2.003532</td>\n",
              "      <td>2.135952</td>\n",
              "      <td>12.585558</td>\n",
              "      <td>2181.615252</td>\n",
              "      <td>421.385070</td>\n",
              "      <td>1132.462122</td>\n",
              "      <td>382.329753</td>\n",
              "      <td>1.899822</td>\n",
              "      <td>115395.615874</td>\n",
              "    </tr>\n",
              "    <tr>\n",
              "      <th>min</th>\n",
              "      <td>-124.350000</td>\n",
              "      <td>32.540000</td>\n",
              "      <td>1.000000</td>\n",
              "      <td>2.000000</td>\n",
              "      <td>1.000000</td>\n",
              "      <td>3.000000</td>\n",
              "      <td>1.000000</td>\n",
              "      <td>0.499900</td>\n",
              "      <td>14999.000000</td>\n",
              "    </tr>\n",
              "    <tr>\n",
              "      <th>25%</th>\n",
              "      <td>-121.800000</td>\n",
              "      <td>33.930000</td>\n",
              "      <td>18.000000</td>\n",
              "      <td>1447.750000</td>\n",
              "      <td>296.000000</td>\n",
              "      <td>787.000000</td>\n",
              "      <td>280.000000</td>\n",
              "      <td>2.563400</td>\n",
              "      <td>119600.000000</td>\n",
              "    </tr>\n",
              "    <tr>\n",
              "      <th>50%</th>\n",
              "      <td>-118.490000</td>\n",
              "      <td>34.260000</td>\n",
              "      <td>29.000000</td>\n",
              "      <td>2127.000000</td>\n",
              "      <td>435.000000</td>\n",
              "      <td>1166.000000</td>\n",
              "      <td>409.000000</td>\n",
              "      <td>3.534800</td>\n",
              "      <td>179700.000000</td>\n",
              "    </tr>\n",
              "    <tr>\n",
              "      <th>75%</th>\n",
              "      <td>-118.010000</td>\n",
              "      <td>37.710000</td>\n",
              "      <td>37.000000</td>\n",
              "      <td>3148.000000</td>\n",
              "      <td>647.000000</td>\n",
              "      <td>1725.000000</td>\n",
              "      <td>605.000000</td>\n",
              "      <td>4.743250</td>\n",
              "      <td>264725.000000</td>\n",
              "    </tr>\n",
              "    <tr>\n",
              "      <th>max</th>\n",
              "      <td>-114.310000</td>\n",
              "      <td>41.950000</td>\n",
              "      <td>52.000000</td>\n",
              "      <td>39320.000000</td>\n",
              "      <td>6445.000000</td>\n",
              "      <td>35682.000000</td>\n",
              "      <td>6082.000000</td>\n",
              "      <td>15.000100</td>\n",
              "      <td>500001.000000</td>\n",
              "    </tr>\n",
              "  </tbody>\n",
              "</table>\n",
              "</div>\n",
              "      <button class=\"colab-df-convert\" onclick=\"convertToInteractive('df-eb380b85-6573-4726-b75b-01e569517378')\"\n",
              "              title=\"Convert this dataframe to an interactive table.\"\n",
              "              style=\"display:none;\">\n",
              "        \n",
              "  <svg xmlns=\"http://www.w3.org/2000/svg\" height=\"24px\"viewBox=\"0 0 24 24\"\n",
              "       width=\"24px\">\n",
              "    <path d=\"M0 0h24v24H0V0z\" fill=\"none\"/>\n",
              "    <path d=\"M18.56 5.44l.94 2.06.94-2.06 2.06-.94-2.06-.94-.94-2.06-.94 2.06-2.06.94zm-11 1L8.5 8.5l.94-2.06 2.06-.94-2.06-.94L8.5 2.5l-.94 2.06-2.06.94zm10 10l.94 2.06.94-2.06 2.06-.94-2.06-.94-.94-2.06-.94 2.06-2.06.94z\"/><path d=\"M17.41 7.96l-1.37-1.37c-.4-.4-.92-.59-1.43-.59-.52 0-1.04.2-1.43.59L10.3 9.45l-7.72 7.72c-.78.78-.78 2.05 0 2.83L4 21.41c.39.39.9.59 1.41.59.51 0 1.02-.2 1.41-.59l7.78-7.78 2.81-2.81c.8-.78.8-2.07 0-2.86zM5.41 20L4 18.59l7.72-7.72 1.47 1.35L5.41 20z\"/>\n",
              "  </svg>\n",
              "      </button>\n",
              "      \n",
              "  <style>\n",
              "    .colab-df-container {\n",
              "      display:flex;\n",
              "      flex-wrap:wrap;\n",
              "      gap: 12px;\n",
              "    }\n",
              "\n",
              "    .colab-df-convert {\n",
              "      background-color: #E8F0FE;\n",
              "      border: none;\n",
              "      border-radius: 50%;\n",
              "      cursor: pointer;\n",
              "      display: none;\n",
              "      fill: #1967D2;\n",
              "      height: 32px;\n",
              "      padding: 0 0 0 0;\n",
              "      width: 32px;\n",
              "    }\n",
              "\n",
              "    .colab-df-convert:hover {\n",
              "      background-color: #E2EBFA;\n",
              "      box-shadow: 0px 1px 2px rgba(60, 64, 67, 0.3), 0px 1px 3px 1px rgba(60, 64, 67, 0.15);\n",
              "      fill: #174EA6;\n",
              "    }\n",
              "\n",
              "    [theme=dark] .colab-df-convert {\n",
              "      background-color: #3B4455;\n",
              "      fill: #D2E3FC;\n",
              "    }\n",
              "\n",
              "    [theme=dark] .colab-df-convert:hover {\n",
              "      background-color: #434B5C;\n",
              "      box-shadow: 0px 1px 3px 1px rgba(0, 0, 0, 0.15);\n",
              "      filter: drop-shadow(0px 1px 2px rgba(0, 0, 0, 0.3));\n",
              "      fill: #FFFFFF;\n",
              "    }\n",
              "  </style>\n",
              "\n",
              "      <script>\n",
              "        const buttonEl =\n",
              "          document.querySelector('#df-eb380b85-6573-4726-b75b-01e569517378 button.colab-df-convert');\n",
              "        buttonEl.style.display =\n",
              "          google.colab.kernel.accessAllowed ? 'block' : 'none';\n",
              "\n",
              "        async function convertToInteractive(key) {\n",
              "          const element = document.querySelector('#df-eb380b85-6573-4726-b75b-01e569517378');\n",
              "          const dataTable =\n",
              "            await google.colab.kernel.invokeFunction('convertToInteractive',\n",
              "                                                     [key], {});\n",
              "          if (!dataTable) return;\n",
              "\n",
              "          const docLinkHtml = 'Like what you see? Visit the ' +\n",
              "            '<a target=\"_blank\" href=https://colab.research.google.com/notebooks/data_table.ipynb>data table notebook</a>'\n",
              "            + ' to learn more about interactive tables.';\n",
              "          element.innerHTML = '';\n",
              "          dataTable['output_type'] = 'display_data';\n",
              "          await google.colab.output.renderOutput(dataTable, element);\n",
              "          const docLink = document.createElement('div');\n",
              "          docLink.innerHTML = docLinkHtml;\n",
              "          element.appendChild(docLink);\n",
              "        }\n",
              "      </script>\n",
              "    </div>\n",
              "  </div>\n",
              "  "
            ]
          },
          "metadata": {},
          "execution_count": 11
        }
      ]
    },
    {
      "cell_type": "code",
      "source": [
        "%matplotlib inline\n",
        "h.hist(bins = 50, figsize = (20, 14))\n",
        "savefig('attribute_histogram')"
      ],
      "metadata": {
        "colab": {
          "base_uri": "https://localhost:8080/",
          "height": 1000
        },
        "id": "OuBbMeBUEaQK",
        "outputId": "d605c60d-67e9-4d9b-8cc0-1a2e3f17877b"
      },
      "execution_count": 12,
      "outputs": [
        {
          "output_type": "stream",
          "name": "stdout",
          "text": [
            "saving figure... attribute_histogram\n"
          ]
        },
        {
          "output_type": "display_data",
          "data": {
            "text/plain": [
              "<Figure size 1440x1008 with 9 Axes>"
            ],
            "image/png": "[encoded data removed]"
          },
          "metadata": {
            "needs_background": "light"
          }
        }
      ]
    },
    {
      "cell_type": "markdown",
      "source": [
        "## Test set"
      ],
      "metadata": {
        "id": "p5tDiShaEzQq"
      }
    },
    {
      "cell_type": "code",
      "source": [
        "from sklearn.model_selection import train_test_split\n",
        "\n",
        "rs, es = train_test_split(h, test_size = 0.2, random_state = 9)"
      ],
      "metadata": {
        "id": "OsuvbZhjExWr"
      },
      "execution_count": 13,
      "outputs": []
    },
    {
      "cell_type": "code",
      "source": [
        "print(es.shape, rs.shape)"
      ],
      "metadata": {
        "colab": {
          "base_uri": "https://localhost:8080/"
        },
        "id": "UECuOWmJfs45",
        "outputId": "f9510d5e-37c5-4a42-b14a-0f5c929e0951"
      },
      "execution_count": 14,
      "outputs": [
        {
          "output_type": "stream",
          "name": "stdout",
          "text": [
            "(4128, 10) (16512, 10)\n"
          ]
        }
      ]
    },
    {
      "cell_type": "code",
      "source": [
        "es.head()"
      ],
      "metadata": {
        "colab": {
          "base_uri": "https://localhost:8080/",
          "height": 206
        },
        "id": "6FzpTDtUFcFe",
        "outputId": "ed7e3b88-153e-41b9-9af4-0d67bfc3ae6a"
      },
      "execution_count": 15,
      "outputs": [
        {
          "output_type": "execute_result",
          "data": {
            "text/plain": [
              "       longitude  latitude  housing_median_age  total_rooms  total_bedrooms  \\\n",
              "20558    -121.80     38.67                10.0       2086.0           380.0   \n",
              "11430    -117.97     33.66                22.0       3914.0           600.0   \n",
              "2656     -124.25     40.28                32.0       1430.0           419.0   \n",
              "14267    -117.11     32.69                37.0       2395.0           627.0   \n",
              "3684     -118.37     34.21                36.0       1392.0           326.0   \n",
              "\n",
              "       population  households  median_income  median_house_value  \\\n",
              "20558      1073.0       378.0         4.5526            154400.0   \n",
              "11430      1871.0       607.0         5.8541            281500.0   \n",
              "2656        434.0       187.0         1.9417             76100.0   \n",
              "14267      2489.0       599.0         1.5933             86300.0   \n",
              "3684       1181.0       303.0         3.1563            176400.0   \n",
              "\n",
              "      ocean_proximity  \n",
              "20558          INLAND  \n",
              "11430       <1H OCEAN  \n",
              "2656       NEAR OCEAN  \n",
              "14267      NEAR OCEAN  \n",
              "3684        <1H OCEAN  "
            ],
            "text/html": [
              "\n",
              "  <div id=\"df-ab14b3d9-e2e3-48e0-8ba1-7c67b39523e1\">\n",
              "    <div class=\"colab-df-container\">\n",
              "      <div>\n",
              "<style scoped>\n",
              "    .dataframe tbody tr th:only-of-type {\n",
              "        vertical-align: middle;\n",
              "    }\n",
              "\n",
              "    .dataframe tbody tr th {\n",
              "        vertical-align: top;\n",
              "    }\n",
              "\n",
              "    .dataframe thead th {\n",
              "        text-align: right;\n",
              "    }\n",
              "</style>\n",
              "<table border=\"1\" class=\"dataframe\">\n",
              "  <thead>\n",
              "    <tr style=\"text-align: right;\">\n",
              "      <th></th>\n",
              "      <th>longitude</th>\n",
              "      <th>latitude</th>\n",
              "      <th>housing_median_age</th>\n",
              "      <th>total_rooms</th>\n",
              "      <th>total_bedrooms</th>\n",
              "      <th>population</th>\n",
              "      <th>households</th>\n",
              "      <th>median_income</th>\n",
              "      <th>median_house_value</th>\n",
              "      <th>ocean_proximity</th>\n",
              "    </tr>\n",
              "  </thead>\n",
              "  <tbody>\n",
              "    <tr>\n",
              "      <th>20558</th>\n",
              "      <td>-121.80</td>\n",
              "      <td>38.67</td>\n",
              "      <td>10.0</td>\n",
              "      <td>2086.0</td>\n",
              "      <td>380.0</td>\n",
              "      <td>1073.0</td>\n",
              "      <td>378.0</td>\n",
              "      <td>4.5526</td>\n",
              "      <td>154400.0</td>\n",
              "      <td>INLAND</td>\n",
              "    </tr>\n",
              "    <tr>\n",
              "      <th>11430</th>\n",
              "      <td>-117.97</td>\n",
              "      <td>33.66</td>\n",
              "      <td>22.0</td>\n",
              "      <td>3914.0</td>\n",
              "      <td>600.0</td>\n",
              "      <td>1871.0</td>\n",
              "      <td>607.0</td>\n",
              "      <td>5.8541</td>\n",
              "      <td>281500.0</td>\n",
              "      <td>&lt;1H OCEAN</td>\n",
              "    </tr>\n",
              "    <tr>\n",
              "      <th>2656</th>\n",
              "      <td>-124.25</td>\n",
              "      <td>40.28</td>\n",
              "      <td>32.0</td>\n",
              "      <td>1430.0</td>\n",
              "      <td>419.0</td>\n",
              "      <td>434.0</td>\n",
              "      <td>187.0</td>\n",
              "      <td>1.9417</td>\n",
              "      <td>76100.0</td>\n",
              "      <td>NEAR OCEAN</td>\n",
              "    </tr>\n",
              "    <tr>\n",
              "      <th>14267</th>\n",
              "      <td>-117.11</td>\n",
              "      <td>32.69</td>\n",
              "      <td>37.0</td>\n",
              "      <td>2395.0</td>\n",
              "      <td>627.0</td>\n",
              "      <td>2489.0</td>\n",
              "      <td>599.0</td>\n",
              "      <td>1.5933</td>\n",
              "      <td>86300.0</td>\n",
              "      <td>NEAR OCEAN</td>\n",
              "    </tr>\n",
              "    <tr>\n",
              "      <th>3684</th>\n",
              "      <td>-118.37</td>\n",
              "      <td>34.21</td>\n",
              "      <td>36.0</td>\n",
              "      <td>1392.0</td>\n",
              "      <td>326.0</td>\n",
              "      <td>1181.0</td>\n",
              "      <td>303.0</td>\n",
              "      <td>3.1563</td>\n",
              "      <td>176400.0</td>\n",
              "      <td>&lt;1H OCEAN</td>\n",
              "    </tr>\n",
              "  </tbody>\n",
              "</table>\n",
              "</div>\n",
              "      <button class=\"colab-df-convert\" onclick=\"convertToInteractive('df-ab14b3d9-e2e3-48e0-8ba1-7c67b39523e1')\"\n",
              "              title=\"Convert this dataframe to an interactive table.\"\n",
              "              style=\"display:none;\">\n",
              "        \n",
              "  <svg xmlns=\"http://www.w3.org/2000/svg\" height=\"24px\"viewBox=\"0 0 24 24\"\n",
              "       width=\"24px\">\n",
              "    <path d=\"M0 0h24v24H0V0z\" fill=\"none\"/>\n",
              "    <path d=\"M18.56 5.44l.94 2.06.94-2.06 2.06-.94-2.06-.94-.94-2.06-.94 2.06-2.06.94zm-11 1L8.5 8.5l.94-2.06 2.06-.94-2.06-.94L8.5 2.5l-.94 2.06-2.06.94zm10 10l.94 2.06.94-2.06 2.06-.94-2.06-.94-.94-2.06-.94 2.06-2.06.94z\"/><path d=\"M17.41 7.96l-1.37-1.37c-.4-.4-.92-.59-1.43-.59-.52 0-1.04.2-1.43.59L10.3 9.45l-7.72 7.72c-.78.78-.78 2.05 0 2.83L4 21.41c.39.39.9.59 1.41.59.51 0 1.02-.2 1.41-.59l7.78-7.78 2.81-2.81c.8-.78.8-2.07 0-2.86zM5.41 20L4 18.59l7.72-7.72 1.47 1.35L5.41 20z\"/>\n",
              "  </svg>\n",
              "      </button>\n",
              "      \n",
              "  <style>\n",
              "    .colab-df-container {\n",
              "      display:flex;\n",
              "      flex-wrap:wrap;\n",
              "      gap: 12px;\n",
              "    }\n",
              "\n",
              "    .colab-df-convert {\n",
              "      background-color: #E8F0FE;\n",
              "      border: none;\n",
              "      border-radius: 50%;\n",
              "      cursor: pointer;\n",
              "      display: none;\n",
              "      fill: #1967D2;\n",
              "      height: 32px;\n",
              "      padding: 0 0 0 0;\n",
              "      width: 32px;\n",
              "    }\n",
              "\n",
              "    .colab-df-convert:hover {\n",
              "      background-color: #E2EBFA;\n",
              "      box-shadow: 0px 1px 2px rgba(60, 64, 67, 0.3), 0px 1px 3px 1px rgba(60, 64, 67, 0.15);\n",
              "      fill: #174EA6;\n",
              "    }\n",
              "\n",
              "    [theme=dark] .colab-df-convert {\n",
              "      background-color: #3B4455;\n",
              "      fill: #D2E3FC;\n",
              "    }\n",
              "\n",
              "    [theme=dark] .colab-df-convert:hover {\n",
              "      background-color: #434B5C;\n",
              "      box-shadow: 0px 1px 3px 1px rgba(0, 0, 0, 0.15);\n",
              "      filter: drop-shadow(0px 1px 2px rgba(0, 0, 0, 0.3));\n",
              "      fill: #FFFFFF;\n",
              "    }\n",
              "  </style>\n",
              "\n",
              "      <script>\n",
              "        const buttonEl =\n",
              "          document.querySelector('#df-ab14b3d9-e2e3-48e0-8ba1-7c67b39523e1 button.colab-df-convert');\n",
              "        buttonEl.style.display =\n",
              "          google.colab.kernel.accessAllowed ? 'block' : 'none';\n",
              "\n",
              "        async function convertToInteractive(key) {\n",
              "          const element = document.querySelector('#df-ab14b3d9-e2e3-48e0-8ba1-7c67b39523e1');\n",
              "          const dataTable =\n",
              "            await google.colab.kernel.invokeFunction('convertToInteractive',\n",
              "                                                     [key], {});\n",
              "          if (!dataTable) return;\n",
              "\n",
              "          const docLinkHtml = 'Like what you see? Visit the ' +\n",
              "            '<a target=\"_blank\" href=https://colab.research.google.com/notebooks/data_table.ipynb>data table notebook</a>'\n",
              "            + ' to learn more about interactive tables.';\n",
              "          element.innerHTML = '';\n",
              "          dataTable['output_type'] = 'display_data';\n",
              "          await google.colab.output.renderOutput(dataTable, element);\n",
              "          const docLink = document.createElement('div');\n",
              "          docLink.innerHTML = docLinkHtml;\n",
              "          element.appendChild(docLink);\n",
              "        }\n",
              "      </script>\n",
              "    </div>\n",
              "  </div>\n",
              "  "
            ]
          },
          "metadata": {},
          "execution_count": 15
        }
      ]
    },
    {
      "cell_type": "code",
      "source": [
        "h['median_income'].hist();"
      ],
      "metadata": {
        "colab": {
          "base_uri": "https://localhost:8080/",
          "height": 268
        },
        "id": "z6GpwIaDFfT_",
        "outputId": "b658c9b6-e49b-47cd-d119-acf9bec00df5"
      },
      "execution_count": 16,
      "outputs": [
        {
          "output_type": "display_data",
          "data": {
            "text/plain": [
              "<Figure size 432x288 with 1 Axes>"
            ],
            "image/png": "[encoded data removed]"
          },
          "metadata": {
            "needs_background": "light"
          }
        }
      ]
    },
    {
      "cell_type": "code",
      "source": [
        "h['income_cat'] = pd.cut(h['median_income'],\n",
        "                         bins = [0.,1.5,3.,4.5,6,np.inf],\n",
        "                         labels = [1,2,3,4,5])"
      ],
      "metadata": {
        "id": "Gsy5FbAPFobO"
      },
      "execution_count": 17,
      "outputs": []
    },
    {
      "cell_type": "code",
      "source": [
        "h['income_cat'].value_counts()"
      ],
      "metadata": {
        "colab": {
          "base_uri": "https://localhost:8080/"
        },
        "id": "Vsna5J4jGLM-",
        "outputId": "7324c05f-ba3f-4d9d-cf1d-8003d0eaa3b2"
      },
      "execution_count": 18,
      "outputs": [
        {
          "output_type": "execute_result",
          "data": {
            "text/plain": [
              "3    7236\n",
              "2    6581\n",
              "4    3639\n",
              "5    2362\n",
              "1     822\n",
              "Name: income_cat, dtype: int64"
            ]
          },
          "metadata": {},
          "execution_count": 18
        }
      ]
    },
    {
      "cell_type": "code",
      "source": [
        "h['income_cat'].hist();"
      ],
      "metadata": {
        "colab": {
          "base_uri": "https://localhost:8080/",
          "height": 268
        },
        "id": "9wKGMNXCGDNR",
        "outputId": "05bef65f-8e46-4cc4-ce3d-51548f06d493"
      },
      "execution_count": 19,
      "outputs": [
        {
          "output_type": "display_data",
          "data": {
            "text/plain": [
              "<Figure size 432x288 with 1 Axes>"
            ],
            "image/png": "[encoded data removed]"
          },
          "metadata": {
            "needs_background": "light"
          }
        }
      ]
    },
    {
      "cell_type": "code",
      "source": [
        "from sklearn.model_selection import StratifiedShuffleSplit\n",
        "\n",
        "sss = StratifiedShuffleSplit(n_splits = 1, test_size = 0.2, random_state = 9)\n",
        "\n",
        "for ri, ei in sss.split(h,h['income_cat']):\n",
        "  sr = h.loc[ri]\n",
        "  se = h.loc[ei]"
      ],
      "metadata": {
        "id": "yPoz6AjJGQnC"
      },
      "execution_count": 20,
      "outputs": []
    },
    {
      "cell_type": "code",
      "source": [
        "se['income_cat'].value_counts()/len(se)"
      ],
      "metadata": {
        "colab": {
          "base_uri": "https://localhost:8080/"
        },
        "id": "O0gf4J-aHXps",
        "outputId": "b793310a-a92d-431a-e4ef-77c0841cbce8"
      },
      "execution_count": 21,
      "outputs": [
        {
          "output_type": "execute_result",
          "data": {
            "text/plain": [
              "3    0.350533\n",
              "2    0.318798\n",
              "4    0.176357\n",
              "5    0.114341\n",
              "1    0.039971\n",
              "Name: income_cat, dtype: float64"
            ]
          },
          "metadata": {},
          "execution_count": 21
        }
      ]
    },
    {
      "cell_type": "code",
      "source": [
        "h['income_cat'].value_counts()/len(h)"
      ],
      "metadata": {
        "colab": {
          "base_uri": "https://localhost:8080/"
        },
        "id": "ZxiDB-MLHk9J",
        "outputId": "174589fb-d218-4780-db17-462e49feb003"
      },
      "execution_count": 22,
      "outputs": [
        {
          "output_type": "execute_result",
          "data": {
            "text/plain": [
              "3    0.350581\n",
              "2    0.318847\n",
              "4    0.176308\n",
              "5    0.114438\n",
              "1    0.039826\n",
              "Name: income_cat, dtype: float64"
            ]
          },
          "metadata": {},
          "execution_count": 22
        }
      ]
    },
    {
      "cell_type": "code",
      "source": [
        "def icp(d):\n",
        "  return d['income_cat'].value_counts()/len(d)"
      ],
      "metadata": {
        "id": "YwemnMFNHqiL"
      },
      "execution_count": 23,
      "outputs": []
    },
    {
      "cell_type": "code",
      "source": [
        "rs, es = train_test_split(h, test_size = 0.2, random_state = 9)\n",
        "\n",
        "cp = pd.DataFrame({'overall':icp(h),\n",
        "                   'stratified':icp(se),\n",
        "                   'random':icp(es),}).sort_index()\n",
        "\n",
        "cp['rand % error'] = 100*cp['random']/cp['overall']-100\n",
        "cp['strat % error'] = 100*cp['stratified']/cp['overall']-100"
      ],
      "metadata": {
        "id": "8C17XdTcIRiD"
      },
      "execution_count": 24,
      "outputs": []
    },
    {
      "cell_type": "code",
      "source": [
        "cp"
      ],
      "metadata": {
        "colab": {
          "base_uri": "https://localhost:8080/",
          "height": 206
        },
        "id": "I3n-rNrIJqrx",
        "outputId": "a74156e1-20c9-449b-b4c6-3373bec38199"
      },
      "execution_count": 25,
      "outputs": [
        {
          "output_type": "execute_result",
          "data": {
            "text/plain": [
              "    overall  stratified    random  rand % error  strat % error\n",
              "1  0.039826    0.039971  0.039002     -2.068127       0.364964\n",
              "2  0.318847    0.318798  0.307655     -3.510105      -0.015195\n",
              "3  0.350581    0.350533  0.356105      1.575456      -0.013820\n",
              "4  0.176308    0.176357  0.186531      5.798296       0.027480\n",
              "5  0.114438    0.114341  0.110707     -3.259949      -0.084674"
            ],
            "text/html": [
              "\n",
              "  <div id=\"df-0ef3cda8-31df-4e15-93f9-71e99196d659\">\n",
              "    <div class=\"colab-df-container\">\n",
              "      <div>\n",
              "<style scoped>\n",
              "    .dataframe tbody tr th:only-of-type {\n",
              "        vertical-align: middle;\n",
              "    }\n",
              "\n",
              "    .dataframe tbody tr th {\n",
              "        vertical-align: top;\n",
              "    }\n",
              "\n",
              "    .dataframe thead th {\n",
              "        text-align: right;\n",
              "    }\n",
              "</style>\n",
              "<table border=\"1\" class=\"dataframe\">\n",
              "  <thead>\n",
              "    <tr style=\"text-align: right;\">\n",
              "      <th></th>\n",
              "      <th>overall</th>\n",
              "      <th>stratified</th>\n",
              "      <th>random</th>\n",
              "      <th>rand % error</th>\n",
              "      <th>strat % error</th>\n",
              "    </tr>\n",
              "  </thead>\n",
              "  <tbody>\n",
              "    <tr>\n",
              "      <th>1</th>\n",
              "      <td>0.039826</td>\n",
              "      <td>0.039971</td>\n",
              "      <td>0.039002</td>\n",
              "      <td>-2.068127</td>\n",
              "      <td>0.364964</td>\n",
              "    </tr>\n",
              "    <tr>\n",
              "      <th>2</th>\n",
              "      <td>0.318847</td>\n",
              "      <td>0.318798</td>\n",
              "      <td>0.307655</td>\n",
              "      <td>-3.510105</td>\n",
              "      <td>-0.015195</td>\n",
              "    </tr>\n",
              "    <tr>\n",
              "      <th>3</th>\n",
              "      <td>0.350581</td>\n",
              "      <td>0.350533</td>\n",
              "      <td>0.356105</td>\n",
              "      <td>1.575456</td>\n",
              "      <td>-0.013820</td>\n",
              "    </tr>\n",
              "    <tr>\n",
              "      <th>4</th>\n",
              "      <td>0.176308</td>\n",
              "      <td>0.176357</td>\n",
              "      <td>0.186531</td>\n",
              "      <td>5.798296</td>\n",
              "      <td>0.027480</td>\n",
              "    </tr>\n",
              "    <tr>\n",
              "      <th>5</th>\n",
              "      <td>0.114438</td>\n",
              "      <td>0.114341</td>\n",
              "      <td>0.110707</td>\n",
              "      <td>-3.259949</td>\n",
              "      <td>-0.084674</td>\n",
              "    </tr>\n",
              "  </tbody>\n",
              "</table>\n",
              "</div>\n",
              "      <button class=\"colab-df-convert\" onclick=\"convertToInteractive('df-0ef3cda8-31df-4e15-93f9-71e99196d659')\"\n",
              "              title=\"Convert this dataframe to an interactive table.\"\n",
              "              style=\"display:none;\">\n",
              "        \n",
              "  <svg xmlns=\"http://www.w3.org/2000/svg\" height=\"24px\"viewBox=\"0 0 24 24\"\n",
              "       width=\"24px\">\n",
              "    <path d=\"M0 0h24v24H0V0z\" fill=\"none\"/>\n",
              "    <path d=\"M18.56 5.44l.94 2.06.94-2.06 2.06-.94-2.06-.94-.94-2.06-.94 2.06-2.06.94zm-11 1L8.5 8.5l.94-2.06 2.06-.94-2.06-.94L8.5 2.5l-.94 2.06-2.06.94zm10 10l.94 2.06.94-2.06 2.06-.94-2.06-.94-.94-2.06-.94 2.06-2.06.94z\"/><path d=\"M17.41 7.96l-1.37-1.37c-.4-.4-.92-.59-1.43-.59-.52 0-1.04.2-1.43.59L10.3 9.45l-7.72 7.72c-.78.78-.78 2.05 0 2.83L4 21.41c.39.39.9.59 1.41.59.51 0 1.02-.2 1.41-.59l7.78-7.78 2.81-2.81c.8-.78.8-2.07 0-2.86zM5.41 20L4 18.59l7.72-7.72 1.47 1.35L5.41 20z\"/>\n",
              "  </svg>\n",
              "      </button>\n",
              "      \n",
              "  <style>\n",
              "    .colab-df-container {\n",
              "      display:flex;\n",
              "      flex-wrap:wrap;\n",
              "      gap: 12px;\n",
              "    }\n",
              "\n",
              "    .colab-df-convert {\n",
              "      background-color: #E8F0FE;\n",
              "      border: none;\n",
              "      border-radius: 50%;\n",
              "      cursor: pointer;\n",
              "      display: none;\n",
              "      fill: #1967D2;\n",
              "      height: 32px;\n",
              "      padding: 0 0 0 0;\n",
              "      width: 32px;\n",
              "    }\n",
              "\n",
              "    .colab-df-convert:hover {\n",
              "      background-color: #E2EBFA;\n",
              "      box-shadow: 0px 1px 2px rgba(60, 64, 67, 0.3), 0px 1px 3px 1px rgba(60, 64, 67, 0.15);\n",
              "      fill: #174EA6;\n",
              "    }\n",
              "\n",
              "    [theme=dark] .colab-df-convert {\n",
              "      background-color: #3B4455;\n",
              "      fill: #D2E3FC;\n",
              "    }\n",
              "\n",
              "    [theme=dark] .colab-df-convert:hover {\n",
              "      background-color: #434B5C;\n",
              "      box-shadow: 0px 1px 3px 1px rgba(0, 0, 0, 0.15);\n",
              "      filter: drop-shadow(0px 1px 2px rgba(0, 0, 0, 0.3));\n",
              "      fill: #FFFFFF;\n",
              "    }\n",
              "  </style>\n",
              "\n",
              "      <script>\n",
              "        const buttonEl =\n",
              "          document.querySelector('#df-0ef3cda8-31df-4e15-93f9-71e99196d659 button.colab-df-convert');\n",
              "        buttonEl.style.display =\n",
              "          google.colab.kernel.accessAllowed ? 'block' : 'none';\n",
              "\n",
              "        async function convertToInteractive(key) {\n",
              "          const element = document.querySelector('#df-0ef3cda8-31df-4e15-93f9-71e99196d659');\n",
              "          const dataTable =\n",
              "            await google.colab.kernel.invokeFunction('convertToInteractive',\n",
              "                                                     [key], {});\n",
              "          if (!dataTable) return;\n",
              "\n",
              "          const docLinkHtml = 'Like what you see? Visit the ' +\n",
              "            '<a target=\"_blank\" href=https://colab.research.google.com/notebooks/data_table.ipynb>data table notebook</a>'\n",
              "            + ' to learn more about interactive tables.';\n",
              "          element.innerHTML = '';\n",
              "          dataTable['output_type'] = 'display_data';\n",
              "          await google.colab.output.renderOutput(dataTable, element);\n",
              "          const docLink = document.createElement('div');\n",
              "          docLink.innerHTML = docLinkHtml;\n",
              "          element.appendChild(docLink);\n",
              "        }\n",
              "      </script>\n",
              "    </div>\n",
              "  </div>\n",
              "  "
            ]
          },
          "metadata": {},
          "execution_count": 25
        }
      ]
    },
    {
      "cell_type": "markdown",
      "source": [
        "## Data Visualization"
      ],
      "metadata": {
        "id": "3k6XLm_eJ3mT"
      }
    },
    {
      "cell_type": "code",
      "source": [
        "h.plot(kind = 'scatter', x = 'longitude', y = 'latitude', alpha = 0.3,\n",
        "       s = h['population']/100, label = 'pop', figsize = (10,7),\n",
        "       c = h['median_house_value'], cmap = 'jet', sharex = False);\n",
        "savefig('housing price map')"
      ],
      "metadata": {
        "colab": {
          "base_uri": "https://localhost:8080/",
          "height": 531
        },
        "id": "AAkI8FzUJ6Q8",
        "outputId": "5efb03dc-67fa-46ef-e4ed-a530e27a1aa3"
      },
      "execution_count": 26,
      "outputs": [
        {
          "output_type": "stream",
          "name": "stdout",
          "text": [
            "saving figure... housing price map\n"
          ]
        },
        {
          "output_type": "display_data",
          "data": {
            "text/plain": [
              "<Figure size 720x504 with 2 Axes>"
            ],
            "image/png": "[encoded data removed]"
          },
          "metadata": {
            "needs_background": "light"
          }
        }
      ]
    },
    {
      "cell_type": "code",
      "source": [
        "corr = h.corr()\n",
        "abs(corr['median_house_value']).sort_values(ascending = False)"
      ],
      "metadata": {
        "colab": {
          "base_uri": "https://localhost:8080/"
        },
        "id": "9oQuCv2-LfXc",
        "outputId": "64b46b15-3492-4635-bba0-a43898f299c7"
      },
      "execution_count": 27,
      "outputs": [
        {
          "output_type": "execute_result",
          "data": {
            "text/plain": [
              "median_house_value    1.000000\n",
              "median_income         0.688075\n",
              "latitude              0.144160\n",
              "total_rooms           0.134153\n",
              "housing_median_age    0.105623\n",
              "households            0.065843\n",
              "total_bedrooms        0.049686\n",
              "longitude             0.045967\n",
              "population            0.024650\n",
              "Name: median_house_value, dtype: float64"
            ]
          },
          "metadata": {},
          "execution_count": 27
        }
      ]
    },
    {
      "cell_type": "code",
      "source": [
        "from pandas.plotting import scatter_matrix\n",
        "\n",
        "atr = ['median_house_value','median_income','total_rooms','housing_median_age']\n",
        "scatter_matrix(h[atr], figsize = (10,7))\n",
        "savefig('attributes scatter matrix')"
      ],
      "metadata": {
        "colab": {
          "base_uri": "https://localhost:8080/",
          "height": 546
        },
        "id": "12M8obM-L1Q7",
        "outputId": "a3c10c3c-75ea-4c4a-a5a4-aef2f8e8d17d"
      },
      "execution_count": 28,
      "outputs": [
        {
          "output_type": "stream",
          "name": "stdout",
          "text": [
            "saving figure... attributes scatter matrix\n"
          ]
        },
        {
          "output_type": "display_data",
          "data": {
            "text/plain": [
              "<Figure size 720x504 with 16 Axes>"
            ],
            "image/png": "[encoded data removed]"
          },
          "metadata": {
            "needs_background": "light"
          }
        }
      ]
    },
    {
      "cell_type": "code",
      "source": [
        "h.plot(kind = 'scatter', x = 'median_income', y = 'median_house_value',alpha = 0.2);"
      ],
      "metadata": {
        "colab": {
          "base_uri": "https://localhost:8080/",
          "height": 286
        },
        "id": "fwrA-4g-OG-H",
        "outputId": "aac3bcaa-5409-440d-ce44-6cc54559fb6e"
      },
      "execution_count": 29,
      "outputs": [
        {
          "output_type": "display_data",
          "data": {
            "text/plain": [
              "<Figure size 432x288 with 1 Axes>"
            ],
            "image/png": "[encoded data removed]"
          },
          "metadata": {
            "needs_background": "light"
          }
        }
      ]
    },
    {
      "cell_type": "markdown",
      "source": [
        "## Feature extraction"
      ],
      "metadata": {
        "id": "oL1MXEMFOmLV"
      }
    },
    {
      "cell_type": "code",
      "source": [
        "h['room/household'] = h['total_rooms']/h['households']\n",
        "h['pop/household'] = h['population']/h['households']\n",
        "h['bedrooms/room'] = h['total_bedrooms']/h['total_rooms']"
      ],
      "metadata": {
        "id": "vFUYpP_GOryy"
      },
      "execution_count": 30,
      "outputs": []
    },
    {
      "cell_type": "code",
      "source": [
        "corr = h.corr()\n",
        "abs(corr['median_house_value']).sort_values(ascending = False)"
      ],
      "metadata": {
        "colab": {
          "base_uri": "https://localhost:8080/"
        },
        "id": "Vl7TeFUiPSiN",
        "outputId": "727bde02-7bef-43ec-c68f-2cc9f32095b0"
      },
      "execution_count": 31,
      "outputs": [
        {
          "output_type": "execute_result",
          "data": {
            "text/plain": [
              "median_house_value    1.000000\n",
              "median_income         0.688075\n",
              "bedrooms/room         0.255880\n",
              "room/household        0.151948\n",
              "latitude              0.144160\n",
              "total_rooms           0.134153\n",
              "housing_median_age    0.105623\n",
              "households            0.065843\n",
              "total_bedrooms        0.049686\n",
              "longitude             0.045967\n",
              "population            0.024650\n",
              "pop/household         0.023737\n",
              "Name: median_house_value, dtype: float64"
            ]
          },
          "metadata": {},
          "execution_count": 31
        }
      ]
    },
    {
      "cell_type": "code",
      "source": [
        "h.plot(kind = 'scatter', x = 'bedrooms/room', y = 'median_house_value', alpha = 0.3);"
      ],
      "metadata": {
        "colab": {
          "base_uri": "https://localhost:8080/",
          "height": 286
        },
        "id": "49fy5xTVPtGu",
        "outputId": "2f393a93-8753-4ae7-94fb-fd969368128f"
      },
      "execution_count": 32,
      "outputs": [
        {
          "output_type": "display_data",
          "data": {
            "text/plain": [
              "<Figure size 432x288 with 1 Axes>"
            ],
            "image/png": "[encoded data removed]"
          },
          "metadata": {
            "needs_background": "light"
          }
        }
      ]
    },
    {
      "cell_type": "code",
      "source": [
        "h.describe()"
      ],
      "metadata": {
        "colab": {
          "base_uri": "https://localhost:8080/",
          "height": 300
        },
        "id": "h4OrYzdAQHgg",
        "outputId": "78974a03-65bb-4551-9a2e-31d72c843fdd"
      },
      "execution_count": 33,
      "outputs": [
        {
          "output_type": "execute_result",
          "data": {
            "text/plain": [
              "          longitude      latitude  housing_median_age   total_rooms  \\\n",
              "count  20640.000000  20640.000000        20640.000000  20640.000000   \n",
              "mean    -119.569704     35.631861           28.639486   2635.763081   \n",
              "std        2.003532      2.135952           12.585558   2181.615252   \n",
              "min     -124.350000     32.540000            1.000000      2.000000   \n",
              "25%     -121.800000     33.930000           18.000000   1447.750000   \n",
              "50%     -118.490000     34.260000           29.000000   2127.000000   \n",
              "75%     -118.010000     37.710000           37.000000   3148.000000   \n",
              "max     -114.310000     41.950000           52.000000  39320.000000   \n",
              "\n",
              "       total_bedrooms    population    households  median_income  \\\n",
              "count    20433.000000  20640.000000  20640.000000   20640.000000   \n",
              "mean       537.870553   1425.476744    499.539680       3.870671   \n",
              "std        421.385070   1132.462122    382.329753       1.899822   \n",
              "min          1.000000      3.000000      1.000000       0.499900   \n",
              "25%        296.000000    787.000000    280.000000       2.563400   \n",
              "50%        435.000000   1166.000000    409.000000       3.534800   \n",
              "75%        647.000000   1725.000000    605.000000       4.743250   \n",
              "max       6445.000000  35682.000000   6082.000000      15.000100   \n",
              "\n",
              "       median_house_value  room/household  pop/household  bedrooms/room  \n",
              "count        20640.000000    20640.000000   20640.000000   20433.000000  \n",
              "mean        206855.816909        5.429000       3.070655       0.213039  \n",
              "std         115395.615874        2.474173      10.386050       0.057983  \n",
              "min          14999.000000        0.846154       0.692308       0.100000  \n",
              "25%         119600.000000        4.440716       2.429741       0.175427  \n",
              "50%         179700.000000        5.229129       2.818116       0.203162  \n",
              "75%         264725.000000        6.052381       3.282261       0.239821  \n",
              "max         500001.000000      141.909091    1243.333333       1.000000  "
            ],
            "text/html": [
              "\n",
              "  <div id=\"df-ee361770-caad-4cff-8729-992eab9ace1c\">\n",
              "    <div class=\"colab-df-container\">\n",
              "      <div>\n",
              "<style scoped>\n",
              "    .dataframe tbody tr th:only-of-type {\n",
              "        vertical-align: middle;\n",
              "    }\n",
              "\n",
              "    .dataframe tbody tr th {\n",
              "        vertical-align: top;\n",
              "    }\n",
              "\n",
              "    .dataframe thead th {\n",
              "        text-align: right;\n",
              "    }\n",
              "</style>\n",
              "<table border=\"1\" class=\"dataframe\">\n",
              "  <thead>\n",
              "    <tr style=\"text-align: right;\">\n",
              "      <th></th>\n",
              "      <th>longitude</th>\n",
              "      <th>latitude</th>\n",
              "      <th>housing_median_age</th>\n",
              "      <th>total_rooms</th>\n",
              "      <th>total_bedrooms</th>\n",
              "      <th>population</th>\n",
              "      <th>households</th>\n",
              "      <th>median_income</th>\n",
              "      <th>median_house_value</th>\n",
              "      <th>room/household</th>\n",
              "      <th>pop/household</th>\n",
              "      <th>bedrooms/room</th>\n",
              "    </tr>\n",
              "  </thead>\n",
              "  <tbody>\n",
              "    <tr>\n",
              "      <th>count</th>\n",
              "      <td>20640.000000</td>\n",
              "      <td>20640.000000</td>\n",
              "      <td>20640.000000</td>\n",
              "      <td>20640.000000</td>\n",
              "      <td>20433.000000</td>\n",
              "      <td>20640.000000</td>\n",
              "      <td>20640.000000</td>\n",
              "      <td>20640.000000</td>\n",
              "      <td>20640.000000</td>\n",
              "      <td>20640.000000</td>\n",
              "      <td>20640.000000</td>\n",
              "      <td>20433.000000</td>\n",
              "    </tr>\n",
              "    <tr>\n",
              "      <th>mean</th>\n",
              "      <td>-119.569704</td>\n",
              "      <td>35.631861</td>\n",
              "      <td>28.639486</td>\n",
              "      <td>2635.763081</td>\n",
              "      <td>537.870553</td>\n",
              "      <td>1425.476744</td>\n",
              "      <td>499.539680</td>\n",
              "      <td>3.870671</td>\n",
              "      <td>206855.816909</td>\n",
              "      <td>5.429000</td>\n",
              "      <td>3.070655</td>\n",
              "      <td>0.213039</td>\n",
              "    </tr>\n",
              "    <tr>\n",
              "      <th>std</th>\n",
              "      <td>2.003532</td>\n",
              "      <td>2.135952</td>\n",
              "      <td>12.585558</td>\n",
              "      <td>2181.615252</td>\n",
              "      <td>421.385070</td>\n",
              "      <td>1132.462122</td>\n",
              "      <td>382.329753</td>\n",
              "      <td>1.899822</td>\n",
              "      <td>115395.615874</td>\n",
              "      <td>2.474173</td>\n",
              "      <td>10.386050</td>\n",
              "      <td>0.057983</td>\n",
              "    </tr>\n",
              "    <tr>\n",
              "      <th>min</th>\n",
              "      <td>-124.350000</td>\n",
              "      <td>32.540000</td>\n",
              "      <td>1.000000</td>\n",
              "      <td>2.000000</td>\n",
              "      <td>1.000000</td>\n",
              "      <td>3.000000</td>\n",
              "      <td>1.000000</td>\n",
              "      <td>0.499900</td>\n",
              "      <td>14999.000000</td>\n",
              "      <td>0.846154</td>\n",
              "      <td>0.692308</td>\n",
              "      <td>0.100000</td>\n",
              "    </tr>\n",
              "    <tr>\n",
              "      <th>25%</th>\n",
              "      <td>-121.800000</td>\n",
              "      <td>33.930000</td>\n",
              "      <td>18.000000</td>\n",
              "      <td>1447.750000</td>\n",
              "      <td>296.000000</td>\n",
              "      <td>787.000000</td>\n",
              "      <td>280.000000</td>\n",
              "      <td>2.563400</td>\n",
              "      <td>119600.000000</td>\n",
              "      <td>4.440716</td>\n",
              "      <td>2.429741</td>\n",
              "      <td>0.175427</td>\n",
              "    </tr>\n",
              "    <tr>\n",
              "      <th>50%</th>\n",
              "      <td>-118.490000</td>\n",
              "      <td>34.260000</td>\n",
              "      <td>29.000000</td>\n",
              "      <td>2127.000000</td>\n",
              "      <td>435.000000</td>\n",
              "      <td>1166.000000</td>\n",
              "      <td>409.000000</td>\n",
              "      <td>3.534800</td>\n",
              "      <td>179700.000000</td>\n",
              "      <td>5.229129</td>\n",
              "      <td>2.818116</td>\n",
              "      <td>0.203162</td>\n",
              "    </tr>\n",
              "    <tr>\n",
              "      <th>75%</th>\n",
              "      <td>-118.010000</td>\n",
              "      <td>37.710000</td>\n",
              "      <td>37.000000</td>\n",
              "      <td>3148.000000</td>\n",
              "      <td>647.000000</td>\n",
              "      <td>1725.000000</td>\n",
              "      <td>605.000000</td>\n",
              "      <td>4.743250</td>\n",
              "      <td>264725.000000</td>\n",
              "      <td>6.052381</td>\n",
              "      <td>3.282261</td>\n",
              "      <td>0.239821</td>\n",
              "    </tr>\n",
              "    <tr>\n",
              "      <th>max</th>\n",
              "      <td>-114.310000</td>\n",
              "      <td>41.950000</td>\n",
              "      <td>52.000000</td>\n",
              "      <td>39320.000000</td>\n",
              "      <td>6445.000000</td>\n",
              "      <td>35682.000000</td>\n",
              "      <td>6082.000000</td>\n",
              "      <td>15.000100</td>\n",
              "      <td>500001.000000</td>\n",
              "      <td>141.909091</td>\n",
              "      <td>1243.333333</td>\n",
              "      <td>1.000000</td>\n",
              "    </tr>\n",
              "  </tbody>\n",
              "</table>\n",
              "</div>\n",
              "      <button class=\"colab-df-convert\" onclick=\"convertToInteractive('df-ee361770-caad-4cff-8729-992eab9ace1c')\"\n",
              "              title=\"Convert this dataframe to an interactive table.\"\n",
              "              style=\"display:none;\">\n",
              "        \n",
              "  <svg xmlns=\"http://www.w3.org/2000/svg\" height=\"24px\"viewBox=\"0 0 24 24\"\n",
              "       width=\"24px\">\n",
              "    <path d=\"M0 0h24v24H0V0z\" fill=\"none\"/>\n",
              "    <path d=\"M18.56 5.44l.94 2.06.94-2.06 2.06-.94-2.06-.94-.94-2.06-.94 2.06-2.06.94zm-11 1L8.5 8.5l.94-2.06 2.06-.94-2.06-.94L8.5 2.5l-.94 2.06-2.06.94zm10 10l.94 2.06.94-2.06 2.06-.94-2.06-.94-.94-2.06-.94 2.06-2.06.94z\"/><path d=\"M17.41 7.96l-1.37-1.37c-.4-.4-.92-.59-1.43-.59-.52 0-1.04.2-1.43.59L10.3 9.45l-7.72 7.72c-.78.78-.78 2.05 0 2.83L4 21.41c.39.39.9.59 1.41.59.51 0 1.02-.2 1.41-.59l7.78-7.78 2.81-2.81c.8-.78.8-2.07 0-2.86zM5.41 20L4 18.59l7.72-7.72 1.47 1.35L5.41 20z\"/>\n",
              "  </svg>\n",
              "      </button>\n",
              "      \n",
              "  <style>\n",
              "    .colab-df-container {\n",
              "      display:flex;\n",
              "      flex-wrap:wrap;\n",
              "      gap: 12px;\n",
              "    }\n",
              "\n",
              "    .colab-df-convert {\n",
              "      background-color: #E8F0FE;\n",
              "      border: none;\n",
              "      border-radius: 50%;\n",
              "      cursor: pointer;\n",
              "      display: none;\n",
              "      fill: #1967D2;\n",
              "      height: 32px;\n",
              "      padding: 0 0 0 0;\n",
              "      width: 32px;\n",
              "    }\n",
              "\n",
              "    .colab-df-convert:hover {\n",
              "      background-color: #E2EBFA;\n",
              "      box-shadow: 0px 1px 2px rgba(60, 64, 67, 0.3), 0px 1px 3px 1px rgba(60, 64, 67, 0.15);\n",
              "      fill: #174EA6;\n",
              "    }\n",
              "\n",
              "    [theme=dark] .colab-df-convert {\n",
              "      background-color: #3B4455;\n",
              "      fill: #D2E3FC;\n",
              "    }\n",
              "\n",
              "    [theme=dark] .colab-df-convert:hover {\n",
              "      background-color: #434B5C;\n",
              "      box-shadow: 0px 1px 3px 1px rgba(0, 0, 0, 0.15);\n",
              "      filter: drop-shadow(0px 1px 2px rgba(0, 0, 0, 0.3));\n",
              "      fill: #FFFFFF;\n",
              "    }\n",
              "  </style>\n",
              "\n",
              "      <script>\n",
              "        const buttonEl =\n",
              "          document.querySelector('#df-ee361770-caad-4cff-8729-992eab9ace1c button.colab-df-convert');\n",
              "        buttonEl.style.display =\n",
              "          google.colab.kernel.accessAllowed ? 'block' : 'none';\n",
              "\n",
              "        async function convertToInteractive(key) {\n",
              "          const element = document.querySelector('#df-ee361770-caad-4cff-8729-992eab9ace1c');\n",
              "          const dataTable =\n",
              "            await google.colab.kernel.invokeFunction('convertToInteractive',\n",
              "                                                     [key], {});\n",
              "          if (!dataTable) return;\n",
              "\n",
              "          const docLinkHtml = 'Like what you see? Visit the ' +\n",
              "            '<a target=\"_blank\" href=https://colab.research.google.com/notebooks/data_table.ipynb>data table notebook</a>'\n",
              "            + ' to learn more about interactive tables.';\n",
              "          element.innerHTML = '';\n",
              "          dataTable['output_type'] = 'display_data';\n",
              "          await google.colab.output.renderOutput(dataTable, element);\n",
              "          const docLink = document.createElement('div');\n",
              "          docLink.innerHTML = docLinkHtml;\n",
              "          element.appendChild(docLink);\n",
              "        }\n",
              "      </script>\n",
              "    </div>\n",
              "  </div>\n",
              "  "
            ]
          },
          "metadata": {},
          "execution_count": 33
        }
      ]
    },
    {
      "cell_type": "code",
      "source": [
        "j = rs.drop(columns = ['income_cat'])\n",
        "t = j.drop('median_house_value', axis = 1)\n",
        "hl = j['median_house_value']"
      ],
      "metadata": {
        "id": "7oFUzbfcYpEB"
      },
      "execution_count": 34,
      "outputs": []
    },
    {
      "cell_type": "markdown",
      "source": [
        "## Data cleaning"
      ],
      "metadata": {
        "id": "rihF1p36QNTZ"
      }
    },
    {
      "cell_type": "code",
      "source": [
        "from sklearn.base import BaseEstimator, TransformerMixin\n",
        "\n",
        "rx, bx, px, hx = 3,4,5,6\n",
        "\n",
        "class caa(BaseEstimator, TransformerMixin):\n",
        "\n",
        "  def __init__(self, add_bedrooms_per_room = True):\n",
        "    self.add_bedrooms_per_room = add_bedrooms_per_room\n",
        "  \n",
        "  def fit(self,X,y = None):\n",
        "    return self\n",
        "  \n",
        "  def transform(self,X):\n",
        "    room_household = X[:,rx]/X[:,hx]\n",
        "    pop_household = X[:,px]/X[:,hx]\n",
        "\n",
        "    if self.add_bedrooms_per_room:\n",
        "      bedrooms_room = X[:,bx]/X[:,rx]\n",
        "      return np.c_[X,room_household,pop_household,bedrooms_room]\n",
        "    else:\n",
        "      return np.c_[X,room_household,pop_household]\n",
        "\n",
        "atb_add = caa(add_bedrooms_per_room = True)\n",
        "nh = atb_add.transform(t.values)"
      ],
      "metadata": {
        "id": "8WZBEO1aQRh8"
      },
      "execution_count": 35,
      "outputs": []
    },
    {
      "cell_type": "code",
      "source": [
        "coln = 'total_rooms', 'total_bedrooms', 'population', 'households'\n",
        "\n",
        "rx,bx,px,hx = [t.columns.get_loc(c) for c in coln]"
      ],
      "metadata": {
        "id": "YfOXpXK0WrSU"
      },
      "execution_count": 36,
      "outputs": []
    },
    {
      "cell_type": "code",
      "source": [
        "nh = pd.DataFrame(nh, columns = list(t.columns)+['rooms/household','pop/household','bedrooms/room'],\n",
        "                  index = t.index)\n",
        "\n",
        "nh.head()"
      ],
      "metadata": {
        "colab": {
          "base_uri": "https://localhost:8080/",
          "height": 206
        },
        "id": "opZ2rT9HXRWd",
        "outputId": "caade444-b2e0-49e0-fd4e-5c4ea693c416"
      },
      "execution_count": 37,
      "outputs": [
        {
          "output_type": "execute_result",
          "data": {
            "text/plain": [
              "      longitude latitude housing_median_age total_rooms total_bedrooms  \\\n",
              "15404   -117.24    33.23               13.0      3756.0          648.0   \n",
              "16396   -121.24    38.01               22.0      1526.0          299.0   \n",
              "2428    -119.52    36.61               33.0      1225.0          275.0   \n",
              "7702    -118.13    33.96               36.0      1933.0          341.0   \n",
              "12966   -121.32     38.7               16.0      2966.0          578.0   \n",
              "\n",
              "      population households median_income ocean_proximity rooms/household  \\\n",
              "15404     1767.0      614.0        4.0776       <1H OCEAN        6.117264   \n",
              "16396      790.0      300.0        2.4342          INLAND        5.086667   \n",
              "2428      1065.0      248.0        1.8958          INLAND        4.939516   \n",
              "7702       958.0      335.0        4.4732       <1H OCEAN        5.770149   \n",
              "12966     1365.0      480.0        3.2444          INLAND        6.179167   \n",
              "\n",
              "      pop/household bedrooms/room  \n",
              "15404       2.87785      0.172524  \n",
              "16396      2.633333      0.195937  \n",
              "2428       4.294355       0.22449  \n",
              "7702       2.859701       0.17641  \n",
              "12966       2.84375      0.194875  "
            ],
            "text/html": [
              "\n",
              "  <div id=\"df-0c282807-f934-4f1a-b8c6-bfb8bcbf063e\">\n",
              "    <div class=\"colab-df-container\">\n",
              "      <div>\n",
              "<style scoped>\n",
              "    .dataframe tbody tr th:only-of-type {\n",
              "        vertical-align: middle;\n",
              "    }\n",
              "\n",
              "    .dataframe tbody tr th {\n",
              "        vertical-align: top;\n",
              "    }\n",
              "\n",
              "    .dataframe thead th {\n",
              "        text-align: right;\n",
              "    }\n",
              "</style>\n",
              "<table border=\"1\" class=\"dataframe\">\n",
              "  <thead>\n",
              "    <tr style=\"text-align: right;\">\n",
              "      <th></th>\n",
              "      <th>longitude</th>\n",
              "      <th>latitude</th>\n",
              "      <th>housing_median_age</th>\n",
              "      <th>total_rooms</th>\n",
              "      <th>total_bedrooms</th>\n",
              "      <th>population</th>\n",
              "      <th>households</th>\n",
              "      <th>median_income</th>\n",
              "      <th>ocean_proximity</th>\n",
              "      <th>rooms/household</th>\n",
              "      <th>pop/household</th>\n",
              "      <th>bedrooms/room</th>\n",
              "    </tr>\n",
              "  </thead>\n",
              "  <tbody>\n",
              "    <tr>\n",
              "      <th>15404</th>\n",
              "      <td>-117.24</td>\n",
              "      <td>33.23</td>\n",
              "      <td>13.0</td>\n",
              "      <td>3756.0</td>\n",
              "      <td>648.0</td>\n",
              "      <td>1767.0</td>\n",
              "      <td>614.0</td>\n",
              "      <td>4.0776</td>\n",
              "      <td>&lt;1H OCEAN</td>\n",
              "      <td>6.117264</td>\n",
              "      <td>2.87785</td>\n",
              "      <td>0.172524</td>\n",
              "    </tr>\n",
              "    <tr>\n",
              "      <th>16396</th>\n",
              "      <td>-121.24</td>\n",
              "      <td>38.01</td>\n",
              "      <td>22.0</td>\n",
              "      <td>1526.0</td>\n",
              "      <td>299.0</td>\n",
              "      <td>790.0</td>\n",
              "      <td>300.0</td>\n",
              "      <td>2.4342</td>\n",
              "      <td>INLAND</td>\n",
              "      <td>5.086667</td>\n",
              "      <td>2.633333</td>\n",
              "      <td>0.195937</td>\n",
              "    </tr>\n",
              "    <tr>\n",
              "      <th>2428</th>\n",
              "      <td>-119.52</td>\n",
              "      <td>36.61</td>\n",
              "      <td>33.0</td>\n",
              "      <td>1225.0</td>\n",
              "      <td>275.0</td>\n",
              "      <td>1065.0</td>\n",
              "      <td>248.0</td>\n",
              "      <td>1.8958</td>\n",
              "      <td>INLAND</td>\n",
              "      <td>4.939516</td>\n",
              "      <td>4.294355</td>\n",
              "      <td>0.22449</td>\n",
              "    </tr>\n",
              "    <tr>\n",
              "      <th>7702</th>\n",
              "      <td>-118.13</td>\n",
              "      <td>33.96</td>\n",
              "      <td>36.0</td>\n",
              "      <td>1933.0</td>\n",
              "      <td>341.0</td>\n",
              "      <td>958.0</td>\n",
              "      <td>335.0</td>\n",
              "      <td>4.4732</td>\n",
              "      <td>&lt;1H OCEAN</td>\n",
              "      <td>5.770149</td>\n",
              "      <td>2.859701</td>\n",
              "      <td>0.17641</td>\n",
              "    </tr>\n",
              "    <tr>\n",
              "      <th>12966</th>\n",
              "      <td>-121.32</td>\n",
              "      <td>38.7</td>\n",
              "      <td>16.0</td>\n",
              "      <td>2966.0</td>\n",
              "      <td>578.0</td>\n",
              "      <td>1365.0</td>\n",
              "      <td>480.0</td>\n",
              "      <td>3.2444</td>\n",
              "      <td>INLAND</td>\n",
              "      <td>6.179167</td>\n",
              "      <td>2.84375</td>\n",
              "      <td>0.194875</td>\n",
              "    </tr>\n",
              "  </tbody>\n",
              "</table>\n",
              "</div>\n",
              "      <button class=\"colab-df-convert\" onclick=\"convertToInteractive('df-0c282807-f934-4f1a-b8c6-bfb8bcbf063e')\"\n",
              "              title=\"Convert this dataframe to an interactive table.\"\n",
              "              style=\"display:none;\">\n",
              "        \n",
              "  <svg xmlns=\"http://www.w3.org/2000/svg\" height=\"24px\"viewBox=\"0 0 24 24\"\n",
              "       width=\"24px\">\n",
              "    <path d=\"M0 0h24v24H0V0z\" fill=\"none\"/>\n",
              "    <path d=\"M18.56 5.44l.94 2.06.94-2.06 2.06-.94-2.06-.94-.94-2.06-.94 2.06-2.06.94zm-11 1L8.5 8.5l.94-2.06 2.06-.94-2.06-.94L8.5 2.5l-.94 2.06-2.06.94zm10 10l.94 2.06.94-2.06 2.06-.94-2.06-.94-.94-2.06-.94 2.06-2.06.94z\"/><path d=\"M17.41 7.96l-1.37-1.37c-.4-.4-.92-.59-1.43-.59-.52 0-1.04.2-1.43.59L10.3 9.45l-7.72 7.72c-.78.78-.78 2.05 0 2.83L4 21.41c.39.39.9.59 1.41.59.51 0 1.02-.2 1.41-.59l7.78-7.78 2.81-2.81c.8-.78.8-2.07 0-2.86zM5.41 20L4 18.59l7.72-7.72 1.47 1.35L5.41 20z\"/>\n",
              "  </svg>\n",
              "      </button>\n",
              "      \n",
              "  <style>\n",
              "    .colab-df-container {\n",
              "      display:flex;\n",
              "      flex-wrap:wrap;\n",
              "      gap: 12px;\n",
              "    }\n",
              "\n",
              "    .colab-df-convert {\n",
              "      background-color: #E8F0FE;\n",
              "      border: none;\n",
              "      border-radius: 50%;\n",
              "      cursor: pointer;\n",
              "      display: none;\n",
              "      fill: #1967D2;\n",
              "      height: 32px;\n",
              "      padding: 0 0 0 0;\n",
              "      width: 32px;\n",
              "    }\n",
              "\n",
              "    .colab-df-convert:hover {\n",
              "      background-color: #E2EBFA;\n",
              "      box-shadow: 0px 1px 2px rgba(60, 64, 67, 0.3), 0px 1px 3px 1px rgba(60, 64, 67, 0.15);\n",
              "      fill: #174EA6;\n",
              "    }\n",
              "\n",
              "    [theme=dark] .colab-df-convert {\n",
              "      background-color: #3B4455;\n",
              "      fill: #D2E3FC;\n",
              "    }\n",
              "\n",
              "    [theme=dark] .colab-df-convert:hover {\n",
              "      background-color: #434B5C;\n",
              "      box-shadow: 0px 1px 3px 1px rgba(0, 0, 0, 0.15);\n",
              "      filter: drop-shadow(0px 1px 2px rgba(0, 0, 0, 0.3));\n",
              "      fill: #FFFFFF;\n",
              "    }\n",
              "  </style>\n",
              "\n",
              "      <script>\n",
              "        const buttonEl =\n",
              "          document.querySelector('#df-0c282807-f934-4f1a-b8c6-bfb8bcbf063e button.colab-df-convert');\n",
              "        buttonEl.style.display =\n",
              "          google.colab.kernel.accessAllowed ? 'block' : 'none';\n",
              "\n",
              "        async function convertToInteractive(key) {\n",
              "          const element = document.querySelector('#df-0c282807-f934-4f1a-b8c6-bfb8bcbf063e');\n",
              "          const dataTable =\n",
              "            await google.colab.kernel.invokeFunction('convertToInteractive',\n",
              "                                                     [key], {});\n",
              "          if (!dataTable) return;\n",
              "\n",
              "          const docLinkHtml = 'Like what you see? Visit the ' +\n",
              "            '<a target=\"_blank\" href=https://colab.research.google.com/notebooks/data_table.ipynb>data table notebook</a>'\n",
              "            + ' to learn more about interactive tables.';\n",
              "          element.innerHTML = '';\n",
              "          dataTable['output_type'] = 'display_data';\n",
              "          await google.colab.output.renderOutput(dataTable, element);\n",
              "          const docLink = document.createElement('div');\n",
              "          docLink.innerHTML = docLinkHtml;\n",
              "          element.appendChild(docLink);\n",
              "        }\n",
              "      </script>\n",
              "    </div>\n",
              "  </div>\n",
              "  "
            ]
          },
          "metadata": {},
          "execution_count": 37
        }
      ]
    },
    {
      "cell_type": "markdown",
      "source": [
        "## Transformation pipelines"
      ],
      "metadata": {
        "id": "ZhlA8H_dZJV_"
      }
    },
    {
      "cell_type": "code",
      "source": [
        "hn = j.drop(columns = ['ocean_proximity','ocean_proximity'], axis = 1)\n",
        "hc = j['ocean_proximity']"
      ],
      "metadata": {
        "id": "XyIGLHCnbAHo"
      },
      "execution_count": 38,
      "outputs": []
    },
    {
      "cell_type": "code",
      "source": [
        "from sklearn.pipeline import Pipeline\n",
        "from sklearn.preprocessing import StandardScaler, OneHotEncoder\n",
        "from sklearn.impute import SimpleImputer\n",
        "\n",
        "num_pipe = Pipeline([\n",
        "                     ('imputer',SimpleImputer(strategy = 'median')),\n",
        "                     ('atb_add',caa()),\n",
        "                     ('std_scaler',StandardScaler())\n",
        "])"
      ],
      "metadata": {
        "id": "pIQcb4SNZNzb"
      },
      "execution_count": 39,
      "outputs": []
    },
    {
      "cell_type": "code",
      "source": [
        "t.columns"
      ],
      "metadata": {
        "colab": {
          "base_uri": "https://localhost:8080/"
        },
        "id": "YhG88Hb3fZJ7",
        "outputId": "c5675efe-a075-4113-90fa-5c6a281988d4"
      },
      "execution_count": 40,
      "outputs": [
        {
          "output_type": "execute_result",
          "data": {
            "text/plain": [
              "Index(['longitude', 'latitude', 'housing_median_age', 'total_rooms',\n",
              "       'total_bedrooms', 'population', 'households', 'median_income',\n",
              "       'ocean_proximity'],\n",
              "      dtype='object')"
            ]
          },
          "metadata": {},
          "execution_count": 40
        }
      ]
    },
    {
      "cell_type": "code",
      "source": [
        "from sklearn.compose import ColumnTransformer\n",
        "\n",
        "na = ['longitude', 'latitude', 'housing_median_age', 'total_rooms',\n",
        "       'total_bedrooms', 'population', 'households', 'median_income']\n",
        "ca = ['ocean_proximity']\n",
        "\n",
        "full_pipe = ColumnTransformer([('num',num_pipe,na),\n",
        "                               ('cat',OneHotEncoder(),ca),\n",
        "])\n",
        "\n",
        "hp = full_pipe.fit_transform(t)"
      ],
      "metadata": {
        "id": "hdO-pWVBb74F"
      },
      "execution_count": 41,
      "outputs": []
    },
    {
      "cell_type": "code",
      "source": [
        "hp"
      ],
      "metadata": {
        "colab": {
          "base_uri": "https://localhost:8080/"
        },
        "id": "KW-lMoOKdC_k",
        "outputId": "7b449adc-d576-4e2b-e0cb-65b254cd5d0c"
      },
      "execution_count": 42,
      "outputs": [
        {
          "output_type": "execute_result",
          "data": {
            "text/plain": [
              "array([[ 1.16463045, -1.12544636, -1.24085079, ...,  0.        ,\n",
              "         0.        ,  0.        ],\n",
              "       [-0.82957402,  1.10717969, -0.52698954, ...,  0.        ,\n",
              "         0.        ,  0.        ],\n",
              "       [ 0.0279339 ,  0.45327248,  0.34550754, ...,  0.        ,\n",
              "         0.        ,  0.        ],\n",
              "       ...,\n",
              "       [ 0.62619524, -0.7657974 ,  1.69391211, ...,  0.        ,\n",
              "         0.        ,  0.        ],\n",
              "       [-1.34308168,  1.42012099, -0.8442612 , ...,  0.        ,\n",
              "         0.        ,  0.        ],\n",
              "       [-1.34308168,  1.03244743,  1.85254794, ...,  0.        ,\n",
              "         1.        ,  0.        ]])"
            ]
          },
          "metadata": {},
          "execution_count": 42
        }
      ]
    },
    {
      "cell_type": "code",
      "source": [
        "hp.shape"
      ],
      "metadata": {
        "colab": {
          "base_uri": "https://localhost:8080/"
        },
        "id": "sdY1JFDodGUP",
        "outputId": "d04868d2-260f-43fa-d24c-c22dae52b393"
      },
      "execution_count": 43,
      "outputs": [
        {
          "output_type": "execute_result",
          "data": {
            "text/plain": [
              "(16512, 16)"
            ]
          },
          "metadata": {},
          "execution_count": 43
        }
      ]
    },
    {
      "cell_type": "markdown",
      "source": [
        "## Model"
      ],
      "metadata": {
        "id": "WZINDwJ9iX3n"
      }
    },
    {
      "cell_type": "markdown",
      "source": [
        "Linear Regression"
      ],
      "metadata": {
        "id": "rEH4C91xtaMp"
      }
    },
    {
      "cell_type": "code",
      "source": [
        "from sklearn.linear_model import LinearRegression\n",
        "\n",
        "lr = LinearRegression()\n",
        "lr.fit(hp,hl)"
      ],
      "metadata": {
        "colab": {
          "base_uri": "https://localhost:8080/"
        },
        "id": "QJVkzTQMiacp",
        "outputId": "9921041c-0d8c-451e-b436-a04a0881e40b"
      },
      "execution_count": 44,
      "outputs": [
        {
          "output_type": "execute_result",
          "data": {
            "text/plain": [
              "LinearRegression()"
            ]
          },
          "metadata": {},
          "execution_count": 44
        }
      ]
    },
    {
      "cell_type": "code",
      "source": [
        "sd = t.iloc[:5]\n",
        "sl = hl.iloc[:5]\n",
        "\n",
        "sdp = full_pipe.transform(sd)\n",
        "print('prediction : ',lr.predict(sdp))\n",
        "print()\n",
        "print('labels : ',list(sl))"
      ],
      "metadata": {
        "colab": {
          "base_uri": "https://localhost:8080/"
        },
        "id": "QlZM6LSXjdUC",
        "outputId": "a52e8e37-1d73-4d69-e8d8-21de27335f8e"
      },
      "execution_count": 45,
      "outputs": [
        {
          "output_type": "stream",
          "name": "stdout",
          "text": [
            "prediction :  [205583.61370527  95740.86799299  62515.9683648  246248.65668776\n",
            " 110158.7637658 ]\n",
            "\n",
            "labels :  [196000.0, 125000.0, 55100.0, 266000.0, 118400.0]\n"
          ]
        }
      ]
    },
    {
      "cell_type": "code",
      "source": [
        "sdp"
      ],
      "metadata": {
        "colab": {
          "base_uri": "https://localhost:8080/"
        },
        "id": "1FluL3H1kNBt",
        "outputId": "e3f279be-1969-4e8c-965a-2e33130f5fb8"
      },
      "execution_count": 46,
      "outputs": [
        {
          "output_type": "execute_result",
          "data": {
            "text/plain": [
              "array([[ 1.16463045, -1.12544636, -1.24085079,  0.51942566,  0.26675741,\n",
              "         0.30490893,  0.302215  ,  0.1125571 ,  0.29778876, -0.02322898,\n",
              "        -0.62129399,  1.        ,  0.        ,  0.        ,  0.        ,\n",
              "         0.        ],\n",
              "       [-0.82957402,  1.10717969, -0.52698954, -0.5096519 , -0.5643137 ,\n",
              "        -0.55841322, -0.51957427, -0.75227241, -0.14622483, -0.06130691,\n",
              "        -0.27033623,  0.        ,  1.        ,  0.        ,  0.        ,\n",
              "         0.        ],\n",
              "       [ 0.0279339 ,  0.45327248,  0.34550754, -0.6485543 , -0.62146472,\n",
              "        -0.31541057, -0.65566676, -1.03560222, -0.2096219 ,  0.19735941,\n",
              "         0.15766269,  0.        ,  1.        ,  0.        ,  0.        ,\n",
              "         0.        ],\n",
              "       [ 0.72091995, -0.78448046,  0.58346128, -0.32183371, -0.46429941,\n",
              "        -0.40996069, -0.42797356,  0.32073925,  0.14824091, -0.02605522,\n",
              "        -0.56304722,  1.        ,  0.        ,  0.        ,  0.        ,\n",
              "         0.        ],\n",
              "       [-0.86945811,  1.42946253, -1.00289704,  0.15486455,  0.10006693,\n",
              "        -0.05031677, -0.04848488, -0.32590947,  0.32445844, -0.0285393 ,\n",
              "        -0.28625294,  0.        ,  1.        ,  0.        ,  0.        ,\n",
              "         0.        ]])"
            ]
          },
          "metadata": {},
          "execution_count": 46
        }
      ]
    },
    {
      "cell_type": "code",
      "source": [
        "from sklearn.metrics import mean_squared_error, mean_absolute_error\n",
        "\n",
        "hn = lr.predict(hp)\n",
        "\n",
        "print('mean squared error : ', np.sqrt(mean_squared_error(hl,hn)))\n",
        "print('mean absolute error : ', mean_absolute_error(hl,hn))"
      ],
      "metadata": {
        "colab": {
          "base_uri": "https://localhost:8080/"
        },
        "id": "-zlk8OsXkPNc",
        "outputId": "65beff47-52a6-40dd-a621-c5f34bcdd61e"
      },
      "execution_count": 47,
      "outputs": [
        {
          "output_type": "stream",
          "name": "stdout",
          "text": [
            "mean squared error :  67983.96121425589\n",
            "mean absolute error :  49226.98337643414\n"
          ]
        }
      ]
    },
    {
      "cell_type": "markdown",
      "source": [
        "Decision Tree Regressor"
      ],
      "metadata": {
        "id": "SMq58vjbtWWs"
      }
    },
    {
      "cell_type": "code",
      "source": [
        "from sklearn.tree import DecisionTreeRegressor\n",
        "\n",
        "dt = DecisionTreeRegressor()\n",
        "dt.fit(hp,hl)"
      ],
      "metadata": {
        "colab": {
          "base_uri": "https://localhost:8080/"
        },
        "id": "n3iZEf1XmKN-",
        "outputId": "65131d96-b1f5-4c10-ddbd-2f82421ba872"
      },
      "execution_count": 48,
      "outputs": [
        {
          "output_type": "execute_result",
          "data": {
            "text/plain": [
              "DecisionTreeRegressor()"
            ]
          },
          "metadata": {},
          "execution_count": 48
        }
      ]
    },
    {
      "cell_type": "code",
      "source": [
        "hn = dt.predict(hp)\n",
        "\n",
        "print('mean squared error : ', np.sqrt(mean_squared_error(hl,hn)))\n",
        "print('mean absolute error : ', mean_absolute_error(hl,hn))"
      ],
      "metadata": {
        "colab": {
          "base_uri": "https://localhost:8080/"
        },
        "id": "fl3jjaJsmZNA",
        "outputId": "73b0f2d0-f569-4941-f78b-e71e6668c895"
      },
      "execution_count": 49,
      "outputs": [
        {
          "output_type": "stream",
          "name": "stdout",
          "text": [
            "mean squared error :  0.0\n",
            "mean absolute error :  0.0\n"
          ]
        }
      ]
    },
    {
      "cell_type": "markdown",
      "source": [
        "### Cross validation"
      ],
      "metadata": {
        "id": "_3zCTcGcnBu2"
      }
    },
    {
      "cell_type": "code",
      "source": [
        "from sklearn.model_selection import cross_val_score\n",
        "\n",
        "scores = cross_val_score(dt,hp,hl,scoring = 'neg_mean_squared_error', cv = 10)\n",
        "\n",
        "rmse = np.sqrt(-scores)"
      ],
      "metadata": {
        "id": "Qsu0XeOgnFAk"
      },
      "execution_count": 50,
      "outputs": []
    },
    {
      "cell_type": "code",
      "source": [
        "def display_scores(s):\n",
        "  print('scores : ',s)\n",
        "  print('mean : ',s.mean())\n",
        "  print('standard deviation : ',s.std())\n",
        "\n",
        "display_scores(rmse)"
      ],
      "metadata": {
        "colab": {
          "base_uri": "https://localhost:8080/"
        },
        "id": "77xSORjUn4MZ",
        "outputId": "8a56986f-2561-4d05-a8f8-431a75b516c3"
      },
      "execution_count": 51,
      "outputs": [
        {
          "output_type": "stream",
          "name": "stdout",
          "text": [
            "scores :  [70477.98158672 68444.62091619 72201.50849614 69374.12068535\n",
            " 70581.12739048 67629.43335832 70992.25464388 70129.24877265\n",
            " 71091.2613478  68270.93258671]\n",
            "mean :  69919.24897842322\n",
            "standard deviation :  1376.950362607405\n"
          ]
        }
      ]
    },
    {
      "cell_type": "code",
      "source": [
        "scores = cross_val_score(lr,hp,hl,scoring = 'neg_mean_squared_error', cv = 10)\n",
        "rmse = np.sqrt(-scores)\n",
        "display_scores(rmse)"
      ],
      "metadata": {
        "colab": {
          "base_uri": "https://localhost:8080/"
        },
        "id": "v3YP-bolo1XZ",
        "outputId": "528469b5-f56c-4273-9c34-b551499c55df"
      },
      "execution_count": 52,
      "outputs": [
        {
          "output_type": "stream",
          "name": "stdout",
          "text": [
            "scores :  [66935.70521585 68893.87301725 69963.29317622 68206.06369561\n",
            " 70005.48042151 67160.35005783 66586.0534263  71168.51908242\n",
            " 67005.03426018 67254.8310818 ]\n",
            "mean :  68317.92034349657\n",
            "standard deviation :  1520.820062609981\n"
          ]
        }
      ]
    },
    {
      "cell_type": "markdown",
      "source": [
        "Random Forest Regressor"
      ],
      "metadata": {
        "id": "Ji9lp7VWtSXz"
      }
    },
    {
      "cell_type": "code",
      "source": [
        "from sklearn.ensemble import RandomForestRegressor\n",
        "\n",
        "rf = RandomForestRegressor(n_estimators=100, random_state=9)\n",
        "rf.fit(hp,hl)"
      ],
      "metadata": {
        "colab": {
          "base_uri": "https://localhost:8080/"
        },
        "id": "IJua97SepHjk",
        "outputId": "f12af634-5114-4c54-b333-156ab993cabb"
      },
      "execution_count": 53,
      "outputs": [
        {
          "output_type": "execute_result",
          "data": {
            "text/plain": [
              "RandomForestRegressor(random_state=9)"
            ]
          },
          "metadata": {},
          "execution_count": 53
        }
      ]
    },
    {
      "cell_type": "code",
      "source": [
        "hn = rf.predict(hp)\n",
        "\n",
        "scores = cross_val_score(rf,hp,hl,scoring = 'neg_mean_squared_error', cv = 10)\n",
        "rmse = np.sqrt(-scores)\n",
        "display_scores(rmse)"
      ],
      "metadata": {
        "colab": {
          "base_uri": "https://localhost:8080/"
        },
        "id": "EGoCCHaSpdh0",
        "outputId": "df598a0d-ccd4-4226-e881-02a2535ecde2"
      },
      "execution_count": 54,
      "outputs": [
        {
          "output_type": "stream",
          "name": "stdout",
          "text": [
            "scores :  [49889.75173942 48568.20836711 51108.54454606 50080.73574048\n",
            " 50215.96058408 48735.74549339 49754.97112667 49362.03252941\n",
            " 50308.9089821  48430.9117995 ]\n",
            "mean :  49645.57709082071\n",
            "standard deviation :  819.2006993193083\n"
          ]
        }
      ]
    },
    {
      "cell_type": "code",
      "source": [
        "scores = cross_val_score(lr,hp,hl,scoring = 'neg_mean_squared_error')\n",
        "pd.Series(np.sqrt(-scores)).describe()"
      ],
      "metadata": {
        "colab": {
          "base_uri": "https://localhost:8080/"
        },
        "id": "JAlzWQ9zp23R",
        "outputId": "44d876b3-4f43-420d-da77-2d23f1ac75a4"
      },
      "execution_count": 55,
      "outputs": [
        {
          "output_type": "execute_result",
          "data": {
            "text/plain": [
              "count        5.000000\n",
              "mean     68492.971358\n",
              "std       1024.522581\n",
              "min      67125.650267\n",
              "25%      67926.165253\n",
              "50%      68646.906278\n",
              "75%      68936.126939\n",
              "max      69830.008053\n",
              "dtype: float64"
            ]
          },
          "metadata": {},
          "execution_count": 55
        }
      ]
    },
    {
      "cell_type": "markdown",
      "source": [
        "Support Vector Machine"
      ],
      "metadata": {
        "id": "D2OEqxqJtO9h"
      }
    },
    {
      "cell_type": "code",
      "source": [
        "from sklearn.svm import SVR\n",
        "\n",
        "svr = SVR(kernel = 'linear')\n",
        "svr.fit(hp, hl)\n",
        "hn = svr.predict(hp)\n",
        "\n",
        "scores = cross_val_score(svr,hp,hl,scoring = 'neg_mean_squared_error', cv = 10)\n",
        "rmse = np.sqrt(-scores)\n",
        "display_scores(rmse)"
      ],
      "metadata": {
        "colab": {
          "base_uri": "https://localhost:8080/"
        },
        "id": "Bq5gqik9qMUy",
        "outputId": "7ecb2439-2a9c-45d0-c0d4-ef25464a4e4c"
      },
      "execution_count": 56,
      "outputs": [
        {
          "output_type": "stream",
          "name": "stdout",
          "text": [
            "scores :  [108894.60047937 111683.29280687 106225.67159937 107629.49560685\n",
            " 115714.87995415 111061.58500141 111619.68099536 115056.92045976\n",
            " 113437.04362931 110137.50208837]\n",
            "mean :  111146.06726208379\n",
            "standard deviation :  2908.613577603358\n"
          ]
        }
      ]
    },
    {
      "cell_type": "markdown",
      "source": [
        "### Fine-tune model"
      ],
      "metadata": {
        "id": "p26H2FL6qzQr"
      }
    },
    {
      "cell_type": "markdown",
      "source": [
        "Grid search"
      ],
      "metadata": {
        "id": "B_nganjBrfnK"
      }
    },
    {
      "cell_type": "code",
      "source": [
        "from sklearn.model_selection import GridSearchCV\n",
        "\n",
        "pg = [{'n_estimators':[3,10,30],'max_features':[2,4,6,8]},\n",
        "      {'bootstrap':[False],'n_estimators':[3,10],'max_features':[2,3,4]}]\n",
        "\n",
        "rf = RandomForestRegressor(random_state=9)\n",
        "\n",
        "gs = GridSearchCV(rf, pg, cv=5, scoring = 'neg_mean_squared_error',\n",
        "                  return_train_score = True)\n",
        "gs.fit(hp,hl)"
      ],
      "metadata": {
        "colab": {
          "base_uri": "https://localhost:8080/"
        },
        "id": "Cxw7ZTM9rjy1",
        "outputId": "3d73c5d3-036b-460c-c5ed-0ebaec16931e"
      },
      "execution_count": 57,
      "outputs": [
        {
          "output_type": "execute_result",
          "data": {
            "text/plain": [
              "GridSearchCV(cv=5, estimator=RandomForestRegressor(random_state=9),\n",
              "             param_grid=[{'max_features': [2, 4, 6, 8],\n",
              "                          'n_estimators': [3, 10, 30]},\n",
              "                         {'bootstrap': [False], 'max_features': [2, 3, 4],\n",
              "                          'n_estimators': [3, 10]}],\n",
              "             return_train_score=True, scoring='neg_mean_squared_error')"
            ]
          },
          "metadata": {},
          "execution_count": 57
        }
      ]
    },
    {
      "cell_type": "code",
      "source": [
        "gs.best_params_"
      ],
      "metadata": {
        "colab": {
          "base_uri": "https://localhost:8080/"
        },
        "id": "TZ2m4yehtJLp",
        "outputId": "11259896-0935-4983-d919-c5ef3abd1690"
      },
      "execution_count": 58,
      "outputs": [
        {
          "output_type": "execute_result",
          "data": {
            "text/plain": [
              "{'max_features': 6, 'n_estimators': 30}"
            ]
          },
          "metadata": {},
          "execution_count": 58
        }
      ]
    },
    {
      "cell_type": "code",
      "source": [
        "gs.best_estimator_"
      ],
      "metadata": {
        "colab": {
          "base_uri": "https://localhost:8080/"
        },
        "id": "O2JBlYg3th3Z",
        "outputId": "7ba837f3-ad75-44cb-a840-4f95f0dbac91"
      },
      "execution_count": 59,
      "outputs": [
        {
          "output_type": "execute_result",
          "data": {
            "text/plain": [
              "RandomForestRegressor(max_features=6, n_estimators=30, random_state=9)"
            ]
          },
          "metadata": {},
          "execution_count": 59
        }
      ]
    },
    {
      "cell_type": "code",
      "source": [
        "cv = gs.cv_results_\n",
        "\n",
        "for mean_score, params in zip(cv['mean_test_score'], cv['params']):\n",
        "  print(np.sqrt(-mean_score),params)"
      ],
      "metadata": {
        "colab": {
          "base_uri": "https://localhost:8080/"
        },
        "id": "sdYRgmYztoWb",
        "outputId": "38389cd4-bf60-4a14-c7f1-f9396d735656"
      },
      "execution_count": 60,
      "outputs": [
        {
          "output_type": "stream",
          "name": "stdout",
          "text": [
            "62463.060344655496 {'max_features': 2, 'n_estimators': 3}\n",
            "55009.35789970503 {'max_features': 2, 'n_estimators': 10}\n",
            "52364.41343580147 {'max_features': 2, 'n_estimators': 30}\n",
            "60319.67650688086 {'max_features': 4, 'n_estimators': 3}\n",
            "52287.33091007534 {'max_features': 4, 'n_estimators': 10}\n",
            "50314.8548760673 {'max_features': 4, 'n_estimators': 30}\n",
            "59125.97659045358 {'max_features': 6, 'n_estimators': 3}\n",
            "52199.52665449093 {'max_features': 6, 'n_estimators': 10}\n",
            "49507.66628862041 {'max_features': 6, 'n_estimators': 30}\n",
            "59735.35203050823 {'max_features': 8, 'n_estimators': 3}\n",
            "52137.18192518673 {'max_features': 8, 'n_estimators': 10}\n",
            "49817.3770084275 {'max_features': 8, 'n_estimators': 30}\n",
            "60372.2048331506 {'bootstrap': False, 'max_features': 2, 'n_estimators': 3}\n",
            "53608.57148359926 {'bootstrap': False, 'max_features': 2, 'n_estimators': 10}\n",
            "58932.011041523336 {'bootstrap': False, 'max_features': 3, 'n_estimators': 3}\n",
            "52180.36127506282 {'bootstrap': False, 'max_features': 3, 'n_estimators': 10}\n",
            "58794.63384923785 {'bootstrap': False, 'max_features': 4, 'n_estimators': 3}\n",
            "51220.24395941007 {'bootstrap': False, 'max_features': 4, 'n_estimators': 10}\n"
          ]
        }
      ]
    },
    {
      "cell_type": "code",
      "source": [
        "pd.DataFrame(gs.cv_results_)"
      ],
      "metadata": {
        "colab": {
          "base_uri": "https://localhost:8080/",
          "height": 1000
        },
        "id": "a8GPVqKOuGmR",
        "outputId": "50994f93-dd5e-4ea4-bef8-49ac6247ba93"
      },
      "execution_count": 61,
      "outputs": [
        {
          "output_type": "execute_result",
          "data": {
            "text/plain": [
              "    mean_fit_time  std_fit_time  mean_score_time  std_score_time  \\\n",
              "0        0.072690      0.000777         0.005166        0.000143   \n",
              "1        0.232387      0.004630         0.014581        0.000911   \n",
              "2        0.825870      0.166826         0.041493        0.002491   \n",
              "3        0.123916      0.015717         0.005279        0.000351   \n",
              "4        0.384693      0.006842         0.013819        0.000240   \n",
              "5        1.138221      0.009420         0.038300        0.000434   \n",
              "6        0.163482      0.002773         0.005034        0.000219   \n",
              "7        0.525415      0.006322         0.013676        0.000189   \n",
              "8        1.577005      0.011263         0.037860        0.000445   \n",
              "9        0.209806      0.004769         0.005100        0.000123   \n",
              "10       0.687120      0.005923         0.015336        0.002442   \n",
              "11       2.111517      0.141254         0.061520        0.042253   \n",
              "12       0.115277      0.004114         0.005872        0.000139   \n",
              "13       0.366161      0.003176         0.016247        0.000177   \n",
              "14       0.148267      0.002622         0.005914        0.000183   \n",
              "15       0.483684      0.004073         0.016556        0.000850   \n",
              "16       0.190303      0.004602         0.005819        0.000210   \n",
              "17       0.613831      0.003512         0.016618        0.000361   \n",
              "\n",
              "   param_max_features param_n_estimators param_bootstrap  \\\n",
              "0                   2                  3             NaN   \n",
              "1                   2                 10             NaN   \n",
              "2                   2                 30             NaN   \n",
              "3                   4                  3             NaN   \n",
              "4                   4                 10             NaN   \n",
              "5                   4                 30             NaN   \n",
              "6                   6                  3             NaN   \n",
              "7                   6                 10             NaN   \n",
              "8                   6                 30             NaN   \n",
              "9                   8                  3             NaN   \n",
              "10                  8                 10             NaN   \n",
              "11                  8                 30             NaN   \n",
              "12                  2                  3           False   \n",
              "13                  2                 10           False   \n",
              "14                  3                  3           False   \n",
              "15                  3                 10           False   \n",
              "16                  4                  3           False   \n",
              "17                  4                 10           False   \n",
              "\n",
              "                                               params  split0_test_score  \\\n",
              "0              {'max_features': 2, 'n_estimators': 3}      -3.764482e+09   \n",
              "1             {'max_features': 2, 'n_estimators': 10}      -2.987527e+09   \n",
              "2             {'max_features': 2, 'n_estimators': 30}      -2.674467e+09   \n",
              "3              {'max_features': 4, 'n_estimators': 3}      -3.547670e+09   \n",
              "4             {'max_features': 4, 'n_estimators': 10}      -2.592626e+09   \n",
              "5             {'max_features': 4, 'n_estimators': 30}      -2.411889e+09   \n",
              "6              {'max_features': 6, 'n_estimators': 3}      -3.322806e+09   \n",
              "7             {'max_features': 6, 'n_estimators': 10}      -2.573330e+09   \n",
              "8             {'max_features': 6, 'n_estimators': 30}      -2.354341e+09   \n",
              "9              {'max_features': 8, 'n_estimators': 3}      -3.546246e+09   \n",
              "10            {'max_features': 8, 'n_estimators': 10}      -2.619021e+09   \n",
              "11            {'max_features': 8, 'n_estimators': 30}      -2.385945e+09   \n",
              "12  {'bootstrap': False, 'max_features': 2, 'n_est...      -3.377720e+09   \n",
              "13  {'bootstrap': False, 'max_features': 2, 'n_est...      -2.869557e+09   \n",
              "14  {'bootstrap': False, 'max_features': 3, 'n_est...      -3.624553e+09   \n",
              "15  {'bootstrap': False, 'max_features': 3, 'n_est...      -2.805919e+09   \n",
              "16  {'bootstrap': False, 'max_features': 4, 'n_est...      -3.401609e+09   \n",
              "17  {'bootstrap': False, 'max_features': 4, 'n_est...      -2.540589e+09   \n",
              "\n",
              "    split1_test_score  ...  mean_test_score  std_test_score  rank_test_score  \\\n",
              "0       -3.677117e+09  ...    -3.901634e+09    1.519305e+08               18   \n",
              "1       -2.942701e+09  ...    -3.026029e+09    6.403866e+07               11   \n",
              "2       -2.704220e+09  ...    -2.742032e+09    5.441171e+07                9   \n",
              "3       -3.786726e+09  ...    -3.638463e+09    8.433850e+07               16   \n",
              "4       -2.888600e+09  ...    -2.733965e+09    9.746225e+07                8   \n",
              "5       -2.624128e+09  ...    -2.531585e+09    6.855939e+07                3   \n",
              "6       -3.507402e+09  ...    -3.495881e+09    9.981593e+07               14   \n",
              "7       -2.711564e+09  ...    -2.724791e+09    8.942834e+07                7   \n",
              "8       -2.499097e+09  ...    -2.451009e+09    5.882577e+07                1   \n",
              "9       -3.759343e+09  ...    -3.568312e+09    1.257141e+08               15   \n",
              "10      -2.766661e+09  ...    -2.718286e+09    6.055072e+07                5   \n",
              "11      -2.556676e+09  ...    -2.481771e+09    5.992135e+07                2   \n",
              "12      -3.503938e+09  ...    -3.644803e+09    1.817195e+08               17   \n",
              "13      -2.891091e+09  ...    -2.873879e+09    4.080028e+07               10   \n",
              "14      -3.336929e+09  ...    -3.472982e+09    9.738134e+07               13   \n",
              "15      -2.665521e+09  ...    -2.722790e+09    5.267485e+07                6   \n",
              "16      -3.468082e+09  ...    -3.456809e+09    5.944614e+07               12   \n",
              "17      -2.655701e+09  ...    -2.623513e+09    4.330342e+07                4   \n",
              "\n",
              "    split0_train_score  split1_train_score  split2_train_score  \\\n",
              "0        -1.058609e+09       -9.858817e+08       -1.113166e+09   \n",
              "1        -5.772516e+08       -5.567247e+08       -5.843918e+08   \n",
              "2        -4.271164e+08       -4.201514e+08       -4.264076e+08   \n",
              "3        -9.845284e+08       -1.021932e+09       -9.826055e+08   \n",
              "4        -5.140464e+08       -5.268740e+08       -5.033149e+08   \n",
              "5        -3.950251e+08       -3.900277e+08       -3.806245e+08   \n",
              "6        -9.228164e+08       -9.184017e+08       -9.320490e+08   \n",
              "7        -5.001714e+08       -5.008859e+08       -4.987259e+08   \n",
              "8        -3.750846e+08       -3.767790e+08       -3.798941e+08   \n",
              "9        -9.277717e+08       -9.098994e+08       -9.021147e+08   \n",
              "10       -5.084742e+08       -5.045254e+08       -4.973914e+08   \n",
              "11       -3.840411e+08       -3.772669e+08       -3.790291e+08   \n",
              "12       -0.000000e+00       -0.000000e+00       -3.331231e+04   \n",
              "13       -1.892649e+00       -0.000000e+00       -2.998107e+03   \n",
              "14       -0.000000e+00       -0.000000e+00       -0.000000e+00   \n",
              "15       -0.000000e+00       -9.463245e+02       -0.000000e+00   \n",
              "16       -0.000000e+00       -0.000000e+00       -0.000000e+00   \n",
              "17       -0.000000e+00       -9.463245e+02       -0.000000e+00   \n",
              "\n",
              "    split3_train_score  split4_train_score  mean_train_score  std_train_score  \n",
              "0        -1.098045e+09       -1.097967e+09     -1.070734e+09     4.611940e+07  \n",
              "1        -5.930665e+08       -5.767067e+08     -5.776283e+08     1.201694e+07  \n",
              "2        -4.280665e+08       -4.209136e+08     -4.245311e+08     3.315768e+06  \n",
              "3        -9.974291e+08       -9.231793e+08     -9.819349e+08     3.255537e+07  \n",
              "4        -5.166642e+08       -5.052111e+08     -5.132221e+08     8.499774e+06  \n",
              "5        -3.916234e+08       -3.825960e+08     -3.879793e+08     5.480743e+06  \n",
              "6        -9.263012e+08       -9.499945e+08     -9.299126e+08     1.098860e+07  \n",
              "7        -5.032417e+08       -4.974771e+08     -5.001004e+08     1.962669e+06  \n",
              "8        -3.752216e+08       -3.767552e+08     -3.767469e+08     1.731800e+06  \n",
              "9        -9.144875e+08       -8.863425e+08     -9.081232e+08     1.371291e+07  \n",
              "10       -5.067859e+08       -4.920634e+08     -5.018481e+08     6.181537e+06  \n",
              "11       -3.752517e+08       -3.736819e+08     -3.778541e+08     3.582861e+06  \n",
              "12       -0.000000e+00       -0.000000e+00     -6.662461e+03     1.332492e+04  \n",
              "13       -9.462528e+02       -0.000000e+00     -7.892506e+02     1.163569e+03  \n",
              "14       -0.000000e+00       -0.000000e+00      0.000000e+00     0.000000e+00  \n",
              "15       -0.000000e+00       -0.000000e+00     -1.892649e+02     3.785298e+02  \n",
              "16       -0.000000e+00       -0.000000e+00      0.000000e+00     0.000000e+00  \n",
              "17       -0.000000e+00       -0.000000e+00     -1.892649e+02     3.785298e+02  \n",
              "\n",
              "[18 rows x 23 columns]"
            ],
            "text/html": [
              "\n",
              "  <div id=\"df-e8b65683-e7a3-459e-a7e7-2a401450abd5\">\n",
              "    <div class=\"colab-df-container\">\n",
              "      <div>\n",
              "<style scoped>\n",
              "    .dataframe tbody tr th:only-of-type {\n",
              "        vertical-align: middle;\n",
              "    }\n",
              "\n",
              "    .dataframe tbody tr th {\n",
              "        vertical-align: top;\n",
              "    }\n",
              "\n",
              "    .dataframe thead th {\n",
              "        text-align: right;\n",
              "    }\n",
              "</style>\n",
              "<table border=\"1\" class=\"dataframe\">\n",
              "  <thead>\n",
              "    <tr style=\"text-align: right;\">\n",
              "      <th></th>\n",
              "      <th>mean_fit_time</th>\n",
              "      <th>std_fit_time</th>\n",
              "      <th>mean_score_time</th>\n",
              "      <th>std_score_time</th>\n",
              "      <th>param_max_features</th>\n",
              "      <th>param_n_estimators</th>\n",
              "      <th>param_bootstrap</th>\n",
              "      <th>params</th>\n",
              "      <th>split0_test_score</th>\n",
              "      <th>split1_test_score</th>\n",
              "      <th>...</th>\n",
              "      <th>mean_test_score</th>\n",
              "      <th>std_test_score</th>\n",
              "      <th>rank_test_score</th>\n",
              "      <th>split0_train_score</th>\n",
              "      <th>split1_train_score</th>\n",
              "      <th>split2_train_score</th>\n",
              "      <th>split3_train_score</th>\n",
              "      <th>split4_train_score</th>\n",
              "      <th>mean_train_score</th>\n",
              "      <th>std_train_score</th>\n",
              "    </tr>\n",
              "  </thead>\n",
              "  <tbody>\n",
              "    <tr>\n",
              "      <th>0</th>\n",
              "      <td>0.072690</td>\n",
              "      <td>0.000777</td>\n",
              "      <td>0.005166</td>\n",
              "      <td>0.000143</td>\n",
              "      <td>2</td>\n",
              "      <td>3</td>\n",
              "      <td>NaN</td>\n",
              "      <td>{'max_features': 2, 'n_estimators': 3}</td>\n",
              "      <td>-3.764482e+09</td>\n",
              "      <td>-3.677117e+09</td>\n",
              "      <td>...</td>\n",
              "      <td>-3.901634e+09</td>\n",
              "      <td>1.519305e+08</td>\n",
              "      <td>18</td>\n",
              "      <td>-1.058609e+09</td>\n",
              "      <td>-9.858817e+08</td>\n",
              "      <td>-1.113166e+09</td>\n",
              "      <td>-1.098045e+09</td>\n",
              "      <td>-1.097967e+09</td>\n",
              "      <td>-1.070734e+09</td>\n",
              "      <td>4.611940e+07</td>\n",
              "    </tr>\n",
              "    <tr>\n",
              "      <th>1</th>\n",
              "      <td>0.232387</td>\n",
              "      <td>0.004630</td>\n",
              "      <td>0.014581</td>\n",
              "      <td>0.000911</td>\n",
              "      <td>2</td>\n",
              "      <td>10</td>\n",
              "      <td>NaN</td>\n",
              "      <td>{'max_features': 2, 'n_estimators': 10}</td>\n",
              "      <td>-2.987527e+09</td>\n",
              "      <td>-2.942701e+09</td>\n",
              "      <td>...</td>\n",
              "      <td>-3.026029e+09</td>\n",
              "      <td>6.403866e+07</td>\n",
              "      <td>11</td>\n",
              "      <td>-5.772516e+08</td>\n",
              "      <td>-5.567247e+08</td>\n",
              "      <td>-5.843918e+08</td>\n",
              "      <td>-5.930665e+08</td>\n",
              "      <td>-5.767067e+08</td>\n",
              "      <td>-5.776283e+08</td>\n",
              "      <td>1.201694e+07</td>\n",
              "    </tr>\n",
              "    <tr>\n",
              "      <th>2</th>\n",
              "      <td>0.825870</td>\n",
              "      <td>0.166826</td>\n",
              "      <td>0.041493</td>\n",
              "      <td>0.002491</td>\n",
              "      <td>2</td>\n",
              "      <td>30</td>\n",
              "      <td>NaN</td>\n",
              "      <td>{'max_features': 2, 'n_estimators': 30}</td>\n",
              "      <td>-2.674467e+09</td>\n",
              "      <td>-2.704220e+09</td>\n",
              "      <td>...</td>\n",
              "      <td>-2.742032e+09</td>\n",
              "      <td>5.441171e+07</td>\n",
              "      <td>9</td>\n",
              "      <td>-4.271164e+08</td>\n",
              "      <td>-4.201514e+08</td>\n",
              "      <td>-4.264076e+08</td>\n",
              "      <td>-4.280665e+08</td>\n",
              "      <td>-4.209136e+08</td>\n",
              "      <td>-4.245311e+08</td>\n",
              "      <td>3.315768e+06</td>\n",
              "    </tr>\n",
              "    <tr>\n",
              "      <th>3</th>\n",
              "      <td>0.123916</td>\n",
              "      <td>0.015717</td>\n",
              "      <td>0.005279</td>\n",
              "      <td>0.000351</td>\n",
              "      <td>4</td>\n",
              "      <td>3</td>\n",
              "      <td>NaN</td>\n",
              "      <td>{'max_features': 4, 'n_estimators': 3}</td>\n",
              "      <td>-3.547670e+09</td>\n",
              "      <td>-3.786726e+09</td>\n",
              "      <td>...</td>\n",
              "      <td>-3.638463e+09</td>\n",
              "      <td>8.433850e+07</td>\n",
              "      <td>16</td>\n",
              "      <td>-9.845284e+08</td>\n",
              "      <td>-1.021932e+09</td>\n",
              "      <td>-9.826055e+08</td>\n",
              "      <td>-9.974291e+08</td>\n",
              "      <td>-9.231793e+08</td>\n",
              "      <td>-9.819349e+08</td>\n",
              "      <td>3.255537e+07</td>\n",
              "    </tr>\n",
              "    <tr>\n",
              "      <th>4</th>\n",
              "      <td>0.384693</td>\n",
              "      <td>0.006842</td>\n",
              "      <td>0.013819</td>\n",
              "      <td>0.000240</td>\n",
              "      <td>4</td>\n",
              "      <td>10</td>\n",
              "      <td>NaN</td>\n",
              "      <td>{'max_features': 4, 'n_estimators': 10}</td>\n",
              "      <td>-2.592626e+09</td>\n",
              "      <td>-2.888600e+09</td>\n",
              "      <td>...</td>\n",
              "      <td>-2.733965e+09</td>\n",
              "      <td>9.746225e+07</td>\n",
              "      <td>8</td>\n",
              "      <td>-5.140464e+08</td>\n",
              "      <td>-5.268740e+08</td>\n",
              "      <td>-5.033149e+08</td>\n",
              "      <td>-5.166642e+08</td>\n",
              "      <td>-5.052111e+08</td>\n",
              "      <td>-5.132221e+08</td>\n",
              "      <td>8.499774e+06</td>\n",
              "    </tr>\n",
              "    <tr>\n",
              "      <th>5</th>\n",
              "      <td>1.138221</td>\n",
              "      <td>0.009420</td>\n",
              "      <td>0.038300</td>\n",
              "      <td>0.000434</td>\n",
              "      <td>4</td>\n",
              "      <td>30</td>\n",
              "      <td>NaN</td>\n",
              "      <td>{'max_features': 4, 'n_estimators': 30}</td>\n",
              "      <td>-2.411889e+09</td>\n",
              "      <td>-2.624128e+09</td>\n",
              "      <td>...</td>\n",
              "      <td>-2.531585e+09</td>\n",
              "      <td>6.855939e+07</td>\n",
              "      <td>3</td>\n",
              "      <td>-3.950251e+08</td>\n",
              "      <td>-3.900277e+08</td>\n",
              "      <td>-3.806245e+08</td>\n",
              "      <td>-3.916234e+08</td>\n",
              "      <td>-3.825960e+08</td>\n",
              "      <td>-3.879793e+08</td>\n",
              "      <td>5.480743e+06</td>\n",
              "    </tr>\n",
              "    <tr>\n",
              "      <th>6</th>\n",
              "      <td>0.163482</td>\n",
              "      <td>0.002773</td>\n",
              "      <td>0.005034</td>\n",
              "      <td>0.000219</td>\n",
              "      <td>6</td>\n",
              "      <td>3</td>\n",
              "      <td>NaN</td>\n",
              "      <td>{'max_features': 6, 'n_estimators': 3}</td>\n",
              "      <td>-3.322806e+09</td>\n",
              "      <td>-3.507402e+09</td>\n",
              "      <td>...</td>\n",
              "      <td>-3.495881e+09</td>\n",
              "      <td>9.981593e+07</td>\n",
              "      <td>14</td>\n",
              "      <td>-9.228164e+08</td>\n",
              "      <td>-9.184017e+08</td>\n",
              "      <td>-9.320490e+08</td>\n",
              "      <td>-9.263012e+08</td>\n",
              "      <td>-9.499945e+08</td>\n",
              "      <td>-9.299126e+08</td>\n",
              "      <td>1.098860e+07</td>\n",
              "    </tr>\n",
              "    <tr>\n",
              "      <th>7</th>\n",
              "      <td>0.525415</td>\n",
              "      <td>0.006322</td>\n",
              "      <td>0.013676</td>\n",
              "      <td>0.000189</td>\n",
              "      <td>6</td>\n",
              "      <td>10</td>\n",
              "      <td>NaN</td>\n",
              "      <td>{'max_features': 6, 'n_estimators': 10}</td>\n",
              "      <td>-2.573330e+09</td>\n",
              "      <td>-2.711564e+09</td>\n",
              "      <td>...</td>\n",
              "      <td>-2.724791e+09</td>\n",
              "      <td>8.942834e+07</td>\n",
              "      <td>7</td>\n",
              "      <td>-5.001714e+08</td>\n",
              "      <td>-5.008859e+08</td>\n",
              "      <td>-4.987259e+08</td>\n",
              "      <td>-5.032417e+08</td>\n",
              "      <td>-4.974771e+08</td>\n",
              "      <td>-5.001004e+08</td>\n",
              "      <td>1.962669e+06</td>\n",
              "    </tr>\n",
              "    <tr>\n",
              "      <th>8</th>\n",
              "      <td>1.577005</td>\n",
              "      <td>0.011263</td>\n",
              "      <td>0.037860</td>\n",
              "      <td>0.000445</td>\n",
              "      <td>6</td>\n",
              "      <td>30</td>\n",
              "      <td>NaN</td>\n",
              "      <td>{'max_features': 6, 'n_estimators': 30}</td>\n",
              "      <td>-2.354341e+09</td>\n",
              "      <td>-2.499097e+09</td>\n",
              "      <td>...</td>\n",
              "      <td>-2.451009e+09</td>\n",
              "      <td>5.882577e+07</td>\n",
              "      <td>1</td>\n",
              "      <td>-3.750846e+08</td>\n",
              "      <td>-3.767790e+08</td>\n",
              "      <td>-3.798941e+08</td>\n",
              "      <td>-3.752216e+08</td>\n",
              "      <td>-3.767552e+08</td>\n",
              "      <td>-3.767469e+08</td>\n",
              "      <td>1.731800e+06</td>\n",
              "    </tr>\n",
              "    <tr>\n",
              "      <th>9</th>\n",
              "      <td>0.209806</td>\n",
              "      <td>0.004769</td>\n",
              "      <td>0.005100</td>\n",
              "      <td>0.000123</td>\n",
              "      <td>8</td>\n",
              "      <td>3</td>\n",
              "      <td>NaN</td>\n",
              "      <td>{'max_features': 8, 'n_estimators': 3}</td>\n",
              "      <td>-3.546246e+09</td>\n",
              "      <td>-3.759343e+09</td>\n",
              "      <td>...</td>\n",
              "      <td>-3.568312e+09</td>\n",
              "      <td>1.257141e+08</td>\n",
              "      <td>15</td>\n",
              "      <td>-9.277717e+08</td>\n",
              "      <td>-9.098994e+08</td>\n",
              "      <td>-9.021147e+08</td>\n",
              "      <td>-9.144875e+08</td>\n",
              "      <td>-8.863425e+08</td>\n",
              "      <td>-9.081232e+08</td>\n",
              "      <td>1.371291e+07</td>\n",
              "    </tr>\n",
              "    <tr>\n",
              "      <th>10</th>\n",
              "      <td>0.687120</td>\n",
              "      <td>0.005923</td>\n",
              "      <td>0.015336</td>\n",
              "      <td>0.002442</td>\n",
              "      <td>8</td>\n",
              "      <td>10</td>\n",
              "      <td>NaN</td>\n",
              "      <td>{'max_features': 8, 'n_estimators': 10}</td>\n",
              "      <td>-2.619021e+09</td>\n",
              "      <td>-2.766661e+09</td>\n",
              "      <td>...</td>\n",
              "      <td>-2.718286e+09</td>\n",
              "      <td>6.055072e+07</td>\n",
              "      <td>5</td>\n",
              "      <td>-5.084742e+08</td>\n",
              "      <td>-5.045254e+08</td>\n",
              "      <td>-4.973914e+08</td>\n",
              "      <td>-5.067859e+08</td>\n",
              "      <td>-4.920634e+08</td>\n",
              "      <td>-5.018481e+08</td>\n",
              "      <td>6.181537e+06</td>\n",
              "    </tr>\n",
              "    <tr>\n",
              "      <th>11</th>\n",
              "      <td>2.111517</td>\n",
              "      <td>0.141254</td>\n",
              "      <td>0.061520</td>\n",
              "      <td>0.042253</td>\n",
              "      <td>8</td>\n",
              "      <td>30</td>\n",
              "      <td>NaN</td>\n",
              "      <td>{'max_features': 8, 'n_estimators': 30}</td>\n",
              "      <td>-2.385945e+09</td>\n",
              "      <td>-2.556676e+09</td>\n",
              "      <td>...</td>\n",
              "      <td>-2.481771e+09</td>\n",
              "      <td>5.992135e+07</td>\n",
              "      <td>2</td>\n",
              "      <td>-3.840411e+08</td>\n",
              "      <td>-3.772669e+08</td>\n",
              "      <td>-3.790291e+08</td>\n",
              "      <td>-3.752517e+08</td>\n",
              "      <td>-3.736819e+08</td>\n",
              "      <td>-3.778541e+08</td>\n",
              "      <td>3.582861e+06</td>\n",
              "    </tr>\n",
              "    <tr>\n",
              "      <th>12</th>\n",
              "      <td>0.115277</td>\n",
              "      <td>0.004114</td>\n",
              "      <td>0.005872</td>\n",
              "      <td>0.000139</td>\n",
              "      <td>2</td>\n",
              "      <td>3</td>\n",
              "      <td>False</td>\n",
              "      <td>{'bootstrap': False, 'max_features': 2, 'n_est...</td>\n",
              "      <td>-3.377720e+09</td>\n",
              "      <td>-3.503938e+09</td>\n",
              "      <td>...</td>\n",
              "      <td>-3.644803e+09</td>\n",
              "      <td>1.817195e+08</td>\n",
              "      <td>17</td>\n",
              "      <td>-0.000000e+00</td>\n",
              "      <td>-0.000000e+00</td>\n",
              "      <td>-3.331231e+04</td>\n",
              "      <td>-0.000000e+00</td>\n",
              "      <td>-0.000000e+00</td>\n",
              "      <td>-6.662461e+03</td>\n",
              "      <td>1.332492e+04</td>\n",
              "    </tr>\n",
              "    <tr>\n",
              "      <th>13</th>\n",
              "      <td>0.366161</td>\n",
              "      <td>0.003176</td>\n",
              "      <td>0.016247</td>\n",
              "      <td>0.000177</td>\n",
              "      <td>2</td>\n",
              "      <td>10</td>\n",
              "      <td>False</td>\n",
              "      <td>{'bootstrap': False, 'max_features': 2, 'n_est...</td>\n",
              "      <td>-2.869557e+09</td>\n",
              "      <td>-2.891091e+09</td>\n",
              "      <td>...</td>\n",
              "      <td>-2.873879e+09</td>\n",
              "      <td>4.080028e+07</td>\n",
              "      <td>10</td>\n",
              "      <td>-1.892649e+00</td>\n",
              "      <td>-0.000000e+00</td>\n",
              "      <td>-2.998107e+03</td>\n",
              "      <td>-9.462528e+02</td>\n",
              "      <td>-0.000000e+00</td>\n",
              "      <td>-7.892506e+02</td>\n",
              "      <td>1.163569e+03</td>\n",
              "    </tr>\n",
              "    <tr>\n",
              "      <th>14</th>\n",
              "      <td>0.148267</td>\n",
              "      <td>0.002622</td>\n",
              "      <td>0.005914</td>\n",
              "      <td>0.000183</td>\n",
              "      <td>3</td>\n",
              "      <td>3</td>\n",
              "      <td>False</td>\n",
              "      <td>{'bootstrap': False, 'max_features': 3, 'n_est...</td>\n",
              "      <td>-3.624553e+09</td>\n",
              "      <td>-3.336929e+09</td>\n",
              "      <td>...</td>\n",
              "      <td>-3.472982e+09</td>\n",
              "      <td>9.738134e+07</td>\n",
              "      <td>13</td>\n",
              "      <td>-0.000000e+00</td>\n",
              "      <td>-0.000000e+00</td>\n",
              "      <td>-0.000000e+00</td>\n",
              "      <td>-0.000000e+00</td>\n",
              "      <td>-0.000000e+00</td>\n",
              "      <td>0.000000e+00</td>\n",
              "      <td>0.000000e+00</td>\n",
              "    </tr>\n",
              "    <tr>\n",
              "      <th>15</th>\n",
              "      <td>0.483684</td>\n",
              "      <td>0.004073</td>\n",
              "      <td>0.016556</td>\n",
              "      <td>0.000850</td>\n",
              "      <td>3</td>\n",
              "      <td>10</td>\n",
              "      <td>False</td>\n",
              "      <td>{'bootstrap': False, 'max_features': 3, 'n_est...</td>\n",
              "      <td>-2.805919e+09</td>\n",
              "      <td>-2.665521e+09</td>\n",
              "      <td>...</td>\n",
              "      <td>-2.722790e+09</td>\n",
              "      <td>5.267485e+07</td>\n",
              "      <td>6</td>\n",
              "      <td>-0.000000e+00</td>\n",
              "      <td>-9.463245e+02</td>\n",
              "      <td>-0.000000e+00</td>\n",
              "      <td>-0.000000e+00</td>\n",
              "      <td>-0.000000e+00</td>\n",
              "      <td>-1.892649e+02</td>\n",
              "      <td>3.785298e+02</td>\n",
              "    </tr>\n",
              "    <tr>\n",
              "      <th>16</th>\n",
              "      <td>0.190303</td>\n",
              "      <td>0.004602</td>\n",
              "      <td>0.005819</td>\n",
              "      <td>0.000210</td>\n",
              "      <td>4</td>\n",
              "      <td>3</td>\n",
              "      <td>False</td>\n",
              "      <td>{'bootstrap': False, 'max_features': 4, 'n_est...</td>\n",
              "      <td>-3.401609e+09</td>\n",
              "      <td>-3.468082e+09</td>\n",
              "      <td>...</td>\n",
              "      <td>-3.456809e+09</td>\n",
              "      <td>5.944614e+07</td>\n",
              "      <td>12</td>\n",
              "      <td>-0.000000e+00</td>\n",
              "      <td>-0.000000e+00</td>\n",
              "      <td>-0.000000e+00</td>\n",
              "      <td>-0.000000e+00</td>\n",
              "      <td>-0.000000e+00</td>\n",
              "      <td>0.000000e+00</td>\n",
              "      <td>0.000000e+00</td>\n",
              "    </tr>\n",
              "    <tr>\n",
              "      <th>17</th>\n",
              "      <td>0.613831</td>\n",
              "      <td>0.003512</td>\n",
              "      <td>0.016618</td>\n",
              "      <td>0.000361</td>\n",
              "      <td>4</td>\n",
              "      <td>10</td>\n",
              "      <td>False</td>\n",
              "      <td>{'bootstrap': False, 'max_features': 4, 'n_est...</td>\n",
              "      <td>-2.540589e+09</td>\n",
              "      <td>-2.655701e+09</td>\n",
              "      <td>...</td>\n",
              "      <td>-2.623513e+09</td>\n",
              "      <td>4.330342e+07</td>\n",
              "      <td>4</td>\n",
              "      <td>-0.000000e+00</td>\n",
              "      <td>-9.463245e+02</td>\n",
              "      <td>-0.000000e+00</td>\n",
              "      <td>-0.000000e+00</td>\n",
              "      <td>-0.000000e+00</td>\n",
              "      <td>-1.892649e+02</td>\n",
              "      <td>3.785298e+02</td>\n",
              "    </tr>\n",
              "  </tbody>\n",
              "</table>\n",
              "<p>18 rows × 23 columns</p>\n",
              "</div>\n",
              "      <button class=\"colab-df-convert\" onclick=\"convertToInteractive('df-e8b65683-e7a3-459e-a7e7-2a401450abd5')\"\n",
              "              title=\"Convert this dataframe to an interactive table.\"\n",
              "              style=\"display:none;\">\n",
              "        \n",
              "  <svg xmlns=\"http://www.w3.org/2000/svg\" height=\"24px\"viewBox=\"0 0 24 24\"\n",
              "       width=\"24px\">\n",
              "    <path d=\"M0 0h24v24H0V0z\" fill=\"none\"/>\n",
              "    <path d=\"M18.56 5.44l.94 2.06.94-2.06 2.06-.94-2.06-.94-.94-2.06-.94 2.06-2.06.94zm-11 1L8.5 8.5l.94-2.06 2.06-.94-2.06-.94L8.5 2.5l-.94 2.06-2.06.94zm10 10l.94 2.06.94-2.06 2.06-.94-2.06-.94-.94-2.06-.94 2.06-2.06.94z\"/><path d=\"M17.41 7.96l-1.37-1.37c-.4-.4-.92-.59-1.43-.59-.52 0-1.04.2-1.43.59L10.3 9.45l-7.72 7.72c-.78.78-.78 2.05 0 2.83L4 21.41c.39.39.9.59 1.41.59.51 0 1.02-.2 1.41-.59l7.78-7.78 2.81-2.81c.8-.78.8-2.07 0-2.86zM5.41 20L4 18.59l7.72-7.72 1.47 1.35L5.41 20z\"/>\n",
              "  </svg>\n",
              "      </button>\n",
              "      \n",
              "  <style>\n",
              "    .colab-df-container {\n",
              "      display:flex;\n",
              "      flex-wrap:wrap;\n",
              "      gap: 12px;\n",
              "    }\n",
              "\n",
              "    .colab-df-convert {\n",
              "      background-color: #E8F0FE;\n",
              "      border: none;\n",
              "      border-radius: 50%;\n",
              "      cursor: pointer;\n",
              "      display: none;\n",
              "      fill: #1967D2;\n",
              "      height: 32px;\n",
              "      padding: 0 0 0 0;\n",
              "      width: 32px;\n",
              "    }\n",
              "\n",
              "    .colab-df-convert:hover {\n",
              "      background-color: #E2EBFA;\n",
              "      box-shadow: 0px 1px 2px rgba(60, 64, 67, 0.3), 0px 1px 3px 1px rgba(60, 64, 67, 0.15);\n",
              "      fill: #174EA6;\n",
              "    }\n",
              "\n",
              "    [theme=dark] .colab-df-convert {\n",
              "      background-color: #3B4455;\n",
              "      fill: #D2E3FC;\n",
              "    }\n",
              "\n",
              "    [theme=dark] .colab-df-convert:hover {\n",
              "      background-color: #434B5C;\n",
              "      box-shadow: 0px 1px 3px 1px rgba(0, 0, 0, 0.15);\n",
              "      filter: drop-shadow(0px 1px 2px rgba(0, 0, 0, 0.3));\n",
              "      fill: #FFFFFF;\n",
              "    }\n",
              "  </style>\n",
              "\n",
              "      <script>\n",
              "        const buttonEl =\n",
              "          document.querySelector('#df-e8b65683-e7a3-459e-a7e7-2a401450abd5 button.colab-df-convert');\n",
              "        buttonEl.style.display =\n",
              "          google.colab.kernel.accessAllowed ? 'block' : 'none';\n",
              "\n",
              "        async function convertToInteractive(key) {\n",
              "          const element = document.querySelector('#df-e8b65683-e7a3-459e-a7e7-2a401450abd5');\n",
              "          const dataTable =\n",
              "            await google.colab.kernel.invokeFunction('convertToInteractive',\n",
              "                                                     [key], {});\n",
              "          if (!dataTable) return;\n",
              "\n",
              "          const docLinkHtml = 'Like what you see? Visit the ' +\n",
              "            '<a target=\"_blank\" href=https://colab.research.google.com/notebooks/data_table.ipynb>data table notebook</a>'\n",
              "            + ' to learn more about interactive tables.';\n",
              "          element.innerHTML = '';\n",
              "          dataTable['output_type'] = 'display_data';\n",
              "          await google.colab.output.renderOutput(dataTable, element);\n",
              "          const docLink = document.createElement('div');\n",
              "          docLink.innerHTML = docLinkHtml;\n",
              "          element.appendChild(docLink);\n",
              "        }\n",
              "      </script>\n",
              "    </div>\n",
              "  </div>\n",
              "  "
            ]
          },
          "metadata": {},
          "execution_count": 61
        }
      ]
    },
    {
      "cell_type": "markdown",
      "source": [
        "Random search"
      ],
      "metadata": {
        "id": "w3E66jN0x14U"
      }
    },
    {
      "cell_type": "code",
      "source": [
        "from sklearn.model_selection import RandomizedSearchCV\n",
        "from scipy.stats import randint\n",
        "\n",
        "pd = {'n_estimators':randint(low=1, high=200),\n",
        "      'max_features':randint(low=1, high=8)}\n",
        "\n",
        "rs = RandomizedSearchCV(rf, pd, n_iter = 10, cv = 5, scoring = 'neg_mean_squared_error',\n",
        "                        random_state = 9)\n",
        "rs.fit(hp,hl)"
      ],
      "metadata": {
        "colab": {
          "base_uri": "https://localhost:8080/"
        },
        "id": "6YVcyeUFx4H9",
        "outputId": "e935d222-5f9f-47d8-db25-ac467812b101"
      },
      "execution_count": 62,
      "outputs": [
        {
          "output_type": "execute_result",
          "data": {
            "text/plain": [
              "RandomizedSearchCV(cv=5, estimator=RandomForestRegressor(random_state=9),\n",
              "                   param_distributions={'max_features': <scipy.stats._distn_infrastructure.rv_frozen object at 0x7fa12c728b50>,\n",
              "                                        'n_estimators': <scipy.stats._distn_infrastructure.rv_frozen object at 0x7fa12c7d8410>},\n",
              "                   random_state=9, scoring='neg_mean_squared_error')"
            ]
          },
          "metadata": {},
          "execution_count": 62
        }
      ]
    },
    {
      "cell_type": "code",
      "source": [
        "cv = rs.cv_results_\n",
        "\n",
        "for mean_score, params in zip(cv['mean_test_score'], cv['params']):\n",
        "  print(np.sqrt(-mean_score),params)"
      ],
      "metadata": {
        "colab": {
          "base_uri": "https://localhost:8080/"
        },
        "id": "9373MS7u0j7N",
        "outputId": "0119c9db-754c-4c67-cbe7-67a9436192a7"
      },
      "execution_count": 63,
      "outputs": [
        {
          "output_type": "stream",
          "name": "stdout",
          "text": [
            "49191.10029756976 {'max_features': 7, 'n_estimators': 93}\n",
            "48901.85708210102 {'max_features': 7, 'n_estimators': 183}\n",
            "53919.7173544702 {'max_features': 1, 'n_estimators': 151}\n",
            "49112.39101234396 {'max_features': 6, 'n_estimators': 66}\n",
            "48901.54441640449 {'max_features': 7, 'n_estimators': 181}\n",
            "50003.39477819512 {'max_features': 4, 'n_estimators': 41}\n",
            "50044.747143147106 {'max_features': 3, 'n_estimators': 118}\n",
            "49194.5257686496 {'max_features': 4, 'n_estimators': 162}\n",
            "48859.85271511845 {'max_features': 6, 'n_estimators': 129}\n",
            "48820.51898419191 {'max_features': 5, 'n_estimators': 188}\n"
          ]
        }
      ]
    },
    {
      "cell_type": "markdown",
      "source": [
        "Best model"
      ],
      "metadata": {
        "id": "uCChuPNi0qny"
      }
    },
    {
      "cell_type": "code",
      "source": [
        "fi = gs.best_estimator_.feature_importances_\n",
        "fi"
      ],
      "metadata": {
        "colab": {
          "base_uri": "https://localhost:8080/"
        },
        "id": "fT_uSZNe0sv-",
        "outputId": "3e48aeff-6bb3-4fb8-a2a8-bb9c6f7c510d"
      },
      "execution_count": 64,
      "outputs": [
        {
          "output_type": "execute_result",
          "data": {
            "text/plain": [
              "array([0.08059151, 0.06839831, 0.0399587 , 0.01687187, 0.01657445,\n",
              "       0.01768238, 0.01543476, 0.32868665, 0.05543332, 0.10193168,\n",
              "       0.0724319 , 0.01169663, 0.16543426, 0.00035641, 0.00448398,\n",
              "       0.0040332 ])"
            ]
          },
          "metadata": {},
          "execution_count": 64
        }
      ]
    },
    {
      "cell_type": "code",
      "source": [
        "x_atbs = ['rooms/hhold','pop/hhold','bedrooms/room']\n",
        "cen = full_pipe.named_transformers_['cat']\n",
        "ohe_atbs = list(cen.categories_[0])\n",
        "num_atbs = ['longitude', 'latitude', 'housing_median_age', 'total_rooms',\n",
        "       'total_bedrooms', 'population', 'households', 'median_income']\n",
        "atbs = num_atbs + x_atbs + ohe_atbs\n",
        "sorted(zip(fi,atbs))"
      ],
      "metadata": {
        "id": "CUS8m0tD06A0",
        "colab": {
          "base_uri": "https://localhost:8080/"
        },
        "outputId": "d82b0724-ec18-4f48-f404-5de7efc83645"
      },
      "execution_count": 73,
      "outputs": [
        {
          "output_type": "execute_result",
          "data": {
            "text/plain": [
              "[(0.00035640713003589063, 'ISLAND'),\n",
              " (0.004033197709607809, 'NEAR OCEAN'),\n",
              " (0.0044839830624314354, 'NEAR BAY'),\n",
              " (0.011696627390374132, '<1H OCEAN'),\n",
              " (0.015434764205932127, 'households'),\n",
              " (0.01657444920058827, 'total_bedrooms'),\n",
              " (0.016871865476152444, 'total_rooms'),\n",
              " (0.01768237913622394, 'population'),\n",
              " (0.03995869979225991, 'housing_median_age'),\n",
              " (0.05543332113720332, 'rooms/hhold'),\n",
              " (0.06839830764766697, 'latitude'),\n",
              " (0.072431901007094, 'bedrooms/room'),\n",
              " (0.08059151432797704, 'longitude'),\n",
              " (0.10193167840954163, 'pop/hhold'),\n",
              " (0.16543425592004243, 'INLAND'),\n",
              " (0.3286866484468688, 'median_income')]"
            ]
          },
          "metadata": {},
          "execution_count": 73
        }
      ]
    },
    {
      "cell_type": "markdown",
      "source": [
        "Evaluate on test set"
      ],
      "metadata": {
        "id": "Uto0h4L84is6"
      }
    },
    {
      "cell_type": "code",
      "source": [
        "m = gs.best_estimator_\n",
        "\n",
        "test = es.drop(['income_cat'], axis = 1)\n",
        "xe = test.drop(['median_house_value'], axis = 1)\n",
        "ye = test['median_house_value'].copy()\n",
        "\n",
        "xp = full_pipe.transform(xe)\n",
        "fp = m.predict(xp)\n",
        "\n",
        "print('rmse : ',np.sqrt(mean_squared_error(ye,fp)))"
      ],
      "metadata": {
        "colab": {
          "base_uri": "https://localhost:8080/"
        },
        "id": "G5U5GjSy4l4x",
        "outputId": "cee33d47-e8cc-45ca-92e7-fdd9f3bc6572"
      },
      "execution_count": 78,
      "outputs": [
        {
          "output_type": "stream",
          "name": "stdout",
          "text": [
            "rmse :  49620.58081711917\n"
          ]
        }
      ]
    },
    {
      "cell_type": "code",
      "source": [
        "from scipy import stats\n",
        "\n",
        "con = 0.95\n",
        "sq_e = (fp-ye)**2\n",
        "np.sqrt(stats.t.interval(con, len(sq_e)-1,loc = sq_e.mean(), scale = stats.sem(sq_e)))"
      ],
      "metadata": {
        "colab": {
          "base_uri": "https://localhost:8080/"
        },
        "id": "08XJyqim6TA5",
        "outputId": "8c7711df-eb08-415e-a311-0e7e9572e2ab"
      },
      "execution_count": 80,
      "outputs": [
        {
          "output_type": "execute_result",
          "data": {
            "text/plain": [
              "array([47269.64058054, 51865.06686242])"
            ]
          },
          "metadata": {},
          "execution_count": 80
        }
      ]
    },
    {
      "cell_type": "markdown",
      "source": [
        "Full pipeline with preparation and prediction"
      ],
      "metadata": {
        "id": "yWI1tDeY79lj"
      }
    },
    {
      "cell_type": "code",
      "source": [
        "Predict_pipe = Pipeline([\n",
        "                       ('preparation',full_pipe),\n",
        "                       ('linear',LinearRegression())\n",
        "])\n",
        "\n",
        "Predict_pipe.fit(t, hl)\n",
        "Predict_pipe.predict(sd)"
      ],
      "metadata": {
        "colab": {
          "base_uri": "https://localhost:8080/"
        },
        "id": "hrutE5mh8D-9",
        "outputId": "ff7581c2-ddc8-489a-db62-9dfadb734056"
      },
      "execution_count": 83,
      "outputs": [
        {
          "output_type": "execute_result",
          "data": {
            "text/plain": [
              "array([205583.61370527,  95740.86799299,  62515.9683648 , 246248.65668776,\n",
              "       110158.7637658 ])"
            ]
          },
          "metadata": {},
          "execution_count": 83
        }
      ]
    },
    {
      "cell_type": "markdown",
      "source": [
        "Model persistence using joblib"
      ],
      "metadata": {
        "id": "BJweYztd9Bdp"
      }
    },
    {
      "cell_type": "code",
      "source": [
        "model = Predict_pipe\n",
        "\n",
        "import joblib\n",
        "\n",
        "joblib.dump(model,'linear_model.pkl')\n",
        "model_loaded = joblib.load('linear_model.pkl')"
      ],
      "metadata": {
        "id": "jqIgQ8II9GuF"
      },
      "execution_count": 84,
      "outputs": []
    },
    {
      "cell_type": "markdown",
      "source": [
        "### Exercise solutions"
      ],
      "metadata": {
        "id": "yIkJpSp2-IgY"
      }
    },
    {
      "cell_type": "markdown",
      "source": [
        "1. Question: Try a Support Vector Machine regressor (sklearn.svm.SVR), with various hyperparameters such as kernel=\"linear\" (with various values for the C hyperparameter) or kernel=\"rbf\" (with various values for the C and gamma hyperparameters). Don't worry about what these hyperparameters mean for now. How does the best SVR predictor perform?"
      ],
      "metadata": {
        "id": "-HMTnBTf-Qzc"
      }
    },
    {
      "cell_type": "code",
      "source": [
        "pg1 = [{'kernel':['linear'],'C':[10.,30.,100.,300.,1000.,3000.,10000.,30000.]},\n",
        "       {'kernel':['rbf'],'C':[0.01,0.03,0.1,0.3,1.,3.],'gamma':[.01,0.03,0.1,0.3,1.0,3.0]}]\n",
        "svm = SVR()\n",
        "gs1 = GridSearchCV(svm, pg1, cv = 5, scoring = 'neg_mean_squared_error', verbose = 2)\n",
        "gs1.fit(hp,hl)"
      ],
      "metadata": {
        "colab": {
          "base_uri": "https://localhost:8080/"
        },
        "id": "sG1DfoNU-VJ2",
        "outputId": "0fdb2db0-e99b-42e7-e765-72ca555e7951"
      },
      "execution_count": 87,
      "outputs": [
        {
          "output_type": "stream",
          "name": "stdout",
          "text": [
            "Fitting 5 folds for each of 44 candidates, totalling 220 fits\n",
            "[CV] END ..............................C=10.0, kernel=linear; total time=  10.1s\n",
            "[CV] END ..............................C=10.0, kernel=linear; total time=   7.8s\n",
            "[CV] END ..............................C=10.0, kernel=linear; total time=  13.2s\n",
            "[CV] END ..............................C=10.0, kernel=linear; total time=  13.6s\n",
            "[CV] END ..............................C=10.0, kernel=linear; total time=  15.7s\n",
            "[CV] END ..............................C=30.0, kernel=linear; total time=  15.8s\n",
            "[CV] END ..............................C=30.0, kernel=linear; total time=  13.5s\n",
            "[CV] END ..............................C=30.0, kernel=linear; total time=  11.5s\n",
            "[CV] END ..............................C=30.0, kernel=linear; total time=   7.8s\n",
            "[CV] END ..............................C=30.0, kernel=linear; total time=  10.5s\n",
            "[CV] END .............................C=100.0, kernel=linear; total time=   7.6s\n",
            "[CV] END .............................C=100.0, kernel=linear; total time=   7.7s\n",
            "[CV] END .............................C=100.0, kernel=linear; total time=   7.6s\n",
            "[CV] END .............................C=100.0, kernel=linear; total time=  10.7s\n",
            "[CV] END .............................C=100.0, kernel=linear; total time=  12.1s\n",
            "[CV] END .............................C=300.0, kernel=linear; total time=  12.3s\n",
            "[CV] END .............................C=300.0, kernel=linear; total time=  13.5s\n",
            "[CV] END .............................C=300.0, kernel=linear; total time=  12.1s\n",
            "[CV] END .............................C=300.0, kernel=linear; total time=  12.8s\n",
            "[CV] END .............................C=300.0, kernel=linear; total time=  11.4s\n",
            "[CV] END ............................C=1000.0, kernel=linear; total time=  12.9s\n",
            "[CV] END ............................C=1000.0, kernel=linear; total time=  13.6s\n",
            "[CV] END ............................C=1000.0, kernel=linear; total time=  14.8s\n",
            "[CV] END ............................C=1000.0, kernel=linear; total time=  13.6s\n",
            "[CV] END ............................C=1000.0, kernel=linear; total time=  12.1s\n",
            "[CV] END ............................C=3000.0, kernel=linear; total time=  14.0s\n",
            "[CV] END ............................C=3000.0, kernel=linear; total time=  13.8s\n",
            "[CV] END ............................C=3000.0, kernel=linear; total time=  13.4s\n",
            "[CV] END ............................C=3000.0, kernel=linear; total time=  15.4s\n",
            "[CV] END ............................C=3000.0, kernel=linear; total time=  16.7s\n",
            "[CV] END ...........................C=10000.0, kernel=linear; total time=  16.4s\n",
            "[CV] END ...........................C=10000.0, kernel=linear; total time=  18.1s\n",
            "[CV] END ...........................C=10000.0, kernel=linear; total time=  16.6s\n",
            "[CV] END ...........................C=10000.0, kernel=linear; total time=  16.3s\n",
            "[CV] END ...........................C=10000.0, kernel=linear; total time=  20.7s\n",
            "[CV] END ...........................C=30000.0, kernel=linear; total time=  22.9s\n",
            "[CV] END ...........................C=30000.0, kernel=linear; total time=  30.0s\n",
            "[CV] END ...........................C=30000.0, kernel=linear; total time=  23.3s\n",
            "[CV] END ...........................C=30000.0, kernel=linear; total time=  22.2s\n",
            "[CV] END ...........................C=30000.0, kernel=linear; total time=  27.2s\n",
            "[CV] END .....................C=0.01, gamma=0.01, kernel=rbf; total time=  15.1s\n",
            "[CV] END .....................C=0.01, gamma=0.01, kernel=rbf; total time=  15.1s\n",
            "[CV] END .....................C=0.01, gamma=0.01, kernel=rbf; total time=  15.0s\n",
            "[CV] END .....................C=0.01, gamma=0.01, kernel=rbf; total time=  15.0s\n",
            "[CV] END .....................C=0.01, gamma=0.01, kernel=rbf; total time=  15.0s\n",
            "[CV] END .....................C=0.01, gamma=0.03, kernel=rbf; total time=  15.0s\n",
            "[CV] END .....................C=0.01, gamma=0.03, kernel=rbf; total time=  16.0s\n",
            "[CV] END .....................C=0.01, gamma=0.03, kernel=rbf; total time=  14.9s\n",
            "[CV] END .....................C=0.01, gamma=0.03, kernel=rbf; total time=  15.0s\n",
            "[CV] END .....................C=0.01, gamma=0.03, kernel=rbf; total time=  15.0s\n",
            "[CV] END ......................C=0.01, gamma=0.1, kernel=rbf; total time=  14.9s\n",
            "[CV] END ......................C=0.01, gamma=0.1, kernel=rbf; total time=  14.9s\n",
            "[CV] END ......................C=0.01, gamma=0.1, kernel=rbf; total time=  15.6s\n",
            "[CV] END ......................C=0.01, gamma=0.1, kernel=rbf; total time=  15.2s\n",
            "[CV] END ......................C=0.01, gamma=0.1, kernel=rbf; total time=  14.9s\n",
            "[CV] END ......................C=0.01, gamma=0.3, kernel=rbf; total time=  14.5s\n",
            "[CV] END ......................C=0.01, gamma=0.3, kernel=rbf; total time=  14.6s\n",
            "[CV] END ......................C=0.01, gamma=0.3, kernel=rbf; total time=  14.5s\n",
            "[CV] END ......................C=0.01, gamma=0.3, kernel=rbf; total time=  14.5s\n",
            "[CV] END ......................C=0.01, gamma=0.3, kernel=rbf; total time=  15.2s\n",
            "[CV] END ......................C=0.01, gamma=1.0, kernel=rbf; total time=  14.6s\n",
            "[CV] END ......................C=0.01, gamma=1.0, kernel=rbf; total time=  14.4s\n",
            "[CV] END ......................C=0.01, gamma=1.0, kernel=rbf; total time=  14.3s\n",
            "[CV] END ......................C=0.01, gamma=1.0, kernel=rbf; total time=  14.3s\n",
            "[CV] END ......................C=0.01, gamma=1.0, kernel=rbf; total time=  14.2s\n",
            "[CV] END ......................C=0.01, gamma=3.0, kernel=rbf; total time=  15.2s\n",
            "[CV] END ......................C=0.01, gamma=3.0, kernel=rbf; total time=  15.9s\n",
            "[CV] END ......................C=0.01, gamma=3.0, kernel=rbf; total time=  15.5s\n",
            "[CV] END ......................C=0.01, gamma=3.0, kernel=rbf; total time=  15.2s\n",
            "[CV] END ......................C=0.01, gamma=3.0, kernel=rbf; total time=  15.2s\n",
            "[CV] END .....................C=0.03, gamma=0.01, kernel=rbf; total time=  15.0s\n",
            "[CV] END .....................C=0.03, gamma=0.01, kernel=rbf; total time=  15.0s\n",
            "[CV] END .....................C=0.03, gamma=0.01, kernel=rbf; total time=  15.0s\n",
            "[CV] END .....................C=0.03, gamma=0.01, kernel=rbf; total time=  16.0s\n",
            "[CV] END .....................C=0.03, gamma=0.01, kernel=rbf; total time=  15.1s\n",
            "[CV] END .....................C=0.03, gamma=0.03, kernel=rbf; total time=  15.0s\n",
            "[CV] END .....................C=0.03, gamma=0.03, kernel=rbf; total time=  15.1s\n",
            "[CV] END .....................C=0.03, gamma=0.03, kernel=rbf; total time=  14.9s\n",
            "[CV] END .....................C=0.03, gamma=0.03, kernel=rbf; total time=  15.1s\n",
            "[CV] END .....................C=0.03, gamma=0.03, kernel=rbf; total time=  15.0s\n",
            "[CV] END ......................C=0.03, gamma=0.1, kernel=rbf; total time=  16.0s\n",
            "[CV] END ......................C=0.03, gamma=0.1, kernel=rbf; total time=  14.9s\n",
            "[CV] END ......................C=0.03, gamma=0.1, kernel=rbf; total time=  14.9s\n",
            "[CV] END ......................C=0.03, gamma=0.1, kernel=rbf; total time=  14.8s\n",
            "[CV] END ......................C=0.03, gamma=0.1, kernel=rbf; total time=  14.9s\n",
            "[CV] END ......................C=0.03, gamma=0.3, kernel=rbf; total time=  14.6s\n",
            "[CV] END ......................C=0.03, gamma=0.3, kernel=rbf; total time=  14.6s\n",
            "[CV] END ......................C=0.03, gamma=0.3, kernel=rbf; total time=  15.5s\n",
            "[CV] END ......................C=0.03, gamma=0.3, kernel=rbf; total time=  23.6s\n",
            "[CV] END ......................C=0.03, gamma=0.3, kernel=rbf; total time=  23.5s\n",
            "[CV] END ......................C=0.03, gamma=1.0, kernel=rbf; total time=  24.3s\n",
            "[CV] END ......................C=0.03, gamma=1.0, kernel=rbf; total time=  26.4s\n",
            "[CV] END ......................C=0.03, gamma=1.0, kernel=rbf; total time=  22.0s\n",
            "[CV] END ......................C=0.03, gamma=1.0, kernel=rbf; total time=  26.6s\n",
            "[CV] END ......................C=0.03, gamma=1.0, kernel=rbf; total time=  26.4s\n",
            "[CV] END ......................C=0.03, gamma=3.0, kernel=rbf; total time=  27.0s\n",
            "[CV] END ......................C=0.03, gamma=3.0, kernel=rbf; total time=  25.3s\n",
            "[CV] END ......................C=0.03, gamma=3.0, kernel=rbf; total time=  26.4s\n",
            "[CV] END ......................C=0.03, gamma=3.0, kernel=rbf; total time=  27.4s\n",
            "[CV] END ......................C=0.03, gamma=3.0, kernel=rbf; total time=  25.7s\n",
            "[CV] END ......................C=0.1, gamma=0.01, kernel=rbf; total time=  30.0s\n",
            "[CV] END ......................C=0.1, gamma=0.01, kernel=rbf; total time=  31.5s\n",
            "[CV] END ......................C=0.1, gamma=0.01, kernel=rbf; total time=  23.4s\n",
            "[CV] END ......................C=0.1, gamma=0.01, kernel=rbf; total time=  26.1s\n",
            "[CV] END ......................C=0.1, gamma=0.01, kernel=rbf; total time=  30.4s\n",
            "[CV] END ......................C=0.1, gamma=0.03, kernel=rbf; total time=  27.0s\n",
            "[CV] END ......................C=0.1, gamma=0.03, kernel=rbf; total time=  23.3s\n",
            "[CV] END ......................C=0.1, gamma=0.03, kernel=rbf; total time=  27.0s\n",
            "[CV] END ......................C=0.1, gamma=0.03, kernel=rbf; total time=  27.2s\n",
            "[CV] END ......................C=0.1, gamma=0.03, kernel=rbf; total time=  28.3s\n",
            "[CV] END .......................C=0.1, gamma=0.1, kernel=rbf; total time=  24.5s\n",
            "[CV] END .......................C=0.1, gamma=0.1, kernel=rbf; total time=  28.7s\n",
            "[CV] END .......................C=0.1, gamma=0.1, kernel=rbf; total time=  28.0s\n",
            "[CV] END .......................C=0.1, gamma=0.1, kernel=rbf; total time=  27.8s\n",
            "[CV] END .......................C=0.1, gamma=0.1, kernel=rbf; total time=  26.6s\n",
            "[CV] END .......................C=0.1, gamma=0.3, kernel=rbf; total time=  27.8s\n",
            "[CV] END .......................C=0.1, gamma=0.3, kernel=rbf; total time=  30.3s\n",
            "[CV] END .......................C=0.1, gamma=0.3, kernel=rbf; total time=  25.5s\n",
            "[CV] END .......................C=0.1, gamma=0.3, kernel=rbf; total time=  22.5s\n",
            "[CV] END .......................C=0.1, gamma=0.3, kernel=rbf; total time=  30.8s\n",
            "[CV] END .......................C=0.1, gamma=1.0, kernel=rbf; total time=  16.8s\n",
            "[CV] END .......................C=0.1, gamma=1.0, kernel=rbf; total time=  19.9s\n",
            "[CV] END .......................C=0.1, gamma=1.0, kernel=rbf; total time=  18.8s\n",
            "[CV] END .......................C=0.1, gamma=1.0, kernel=rbf; total time=  29.9s\n",
            "[CV] END .......................C=0.1, gamma=1.0, kernel=rbf; total time=  18.8s\n",
            "[CV] END .......................C=0.1, gamma=3.0, kernel=rbf; total time=  22.4s\n",
            "[CV] END .......................C=0.1, gamma=3.0, kernel=rbf; total time=  15.2s\n",
            "[CV] END .......................C=0.1, gamma=3.0, kernel=rbf; total time=  15.2s\n",
            "[CV] END .......................C=0.1, gamma=3.0, kernel=rbf; total time=  16.0s\n",
            "[CV] END .......................C=0.1, gamma=3.0, kernel=rbf; total time=  16.1s\n",
            "[CV] END ......................C=0.3, gamma=0.01, kernel=rbf; total time=  15.1s\n",
            "[CV] END ......................C=0.3, gamma=0.01, kernel=rbf; total time=  15.0s\n",
            "[CV] END ......................C=0.3, gamma=0.01, kernel=rbf; total time=  25.7s\n",
            "[CV] END ......................C=0.3, gamma=0.01, kernel=rbf; total time=  22.4s\n",
            "[CV] END ......................C=0.3, gamma=0.01, kernel=rbf; total time=  21.2s\n",
            "[CV] END ......................C=0.3, gamma=0.03, kernel=rbf; total time=  28.9s\n",
            "[CV] END ......................C=0.3, gamma=0.03, kernel=rbf; total time=  27.4s\n",
            "[CV] END ......................C=0.3, gamma=0.03, kernel=rbf; total time=  26.8s\n",
            "[CV] END ......................C=0.3, gamma=0.03, kernel=rbf; total time=  14.9s\n",
            "[CV] END ......................C=0.3, gamma=0.03, kernel=rbf; total time=  23.3s\n",
            "[CV] END .......................C=0.3, gamma=0.1, kernel=rbf; total time=  30.6s\n",
            "[CV] END .......................C=0.3, gamma=0.1, kernel=rbf; total time=  14.9s\n",
            "[CV] END .......................C=0.3, gamma=0.1, kernel=rbf; total time=  15.1s\n",
            "[CV] END .......................C=0.3, gamma=0.1, kernel=rbf; total time=  33.5s\n",
            "[CV] END .......................C=0.3, gamma=0.1, kernel=rbf; total time=  22.6s\n",
            "[CV] END .......................C=0.3, gamma=0.3, kernel=rbf; total time=  14.6s\n",
            "[CV] END .......................C=0.3, gamma=0.3, kernel=rbf; total time=  14.6s\n",
            "[CV] END .......................C=0.3, gamma=0.3, kernel=rbf; total time=  14.5s\n",
            "[CV] END .......................C=0.3, gamma=0.3, kernel=rbf; total time=  14.5s\n",
            "[CV] END .......................C=0.3, gamma=0.3, kernel=rbf; total time=  14.6s\n",
            "[CV] END .......................C=0.3, gamma=1.0, kernel=rbf; total time=  15.1s\n",
            "[CV] END .......................C=0.3, gamma=1.0, kernel=rbf; total time=  14.2s\n",
            "[CV] END .......................C=0.3, gamma=1.0, kernel=rbf; total time=  14.2s\n",
            "[CV] END .......................C=0.3, gamma=1.0, kernel=rbf; total time=  14.2s\n",
            "[CV] END .......................C=0.3, gamma=1.0, kernel=rbf; total time=  14.3s\n",
            "[CV] END .......................C=0.3, gamma=3.0, kernel=rbf; total time=  15.2s\n",
            "[CV] END .......................C=0.3, gamma=3.0, kernel=rbf; total time=  15.2s\n",
            "[CV] END .......................C=0.3, gamma=3.0, kernel=rbf; total time=  16.0s\n",
            "[CV] END .......................C=0.3, gamma=3.0, kernel=rbf; total time=  15.2s\n",
            "[CV] END .......................C=0.3, gamma=3.0, kernel=rbf; total time=  15.1s\n",
            "[CV] END ......................C=1.0, gamma=0.01, kernel=rbf; total time=  15.0s\n",
            "[CV] END ......................C=1.0, gamma=0.01, kernel=rbf; total time=  14.9s\n",
            "[CV] END ......................C=1.0, gamma=0.01, kernel=rbf; total time=  14.9s\n",
            "[CV] END ......................C=1.0, gamma=0.01, kernel=rbf; total time=  15.0s\n",
            "[CV] END ......................C=1.0, gamma=0.01, kernel=rbf; total time=  15.9s\n",
            "[CV] END ......................C=1.0, gamma=0.03, kernel=rbf; total time=  14.9s\n",
            "[CV] END ......................C=1.0, gamma=0.03, kernel=rbf; total time=  15.0s\n",
            "[CV] END ......................C=1.0, gamma=0.03, kernel=rbf; total time=  14.9s\n",
            "[CV] END ......................C=1.0, gamma=0.03, kernel=rbf; total time=  14.9s\n",
            "[CV] END ......................C=1.0, gamma=0.03, kernel=rbf; total time=  14.9s\n",
            "[CV] END .......................C=1.0, gamma=0.1, kernel=rbf; total time=  14.8s\n",
            "[CV] END .......................C=1.0, gamma=0.1, kernel=rbf; total time=  15.1s\n",
            "[CV] END .......................C=1.0, gamma=0.1, kernel=rbf; total time=  15.5s\n",
            "[CV] END .......................C=1.0, gamma=0.1, kernel=rbf; total time=  14.8s\n",
            "[CV] END .......................C=1.0, gamma=0.1, kernel=rbf; total time=  14.9s\n",
            "[CV] END .......................C=1.0, gamma=0.3, kernel=rbf; total time=  14.6s\n",
            "[CV] END .......................C=1.0, gamma=0.3, kernel=rbf; total time=  14.5s\n",
            "[CV] END .......................C=1.0, gamma=0.3, kernel=rbf; total time=  14.5s\n",
            "[CV] END .......................C=1.0, gamma=0.3, kernel=rbf; total time=  14.6s\n",
            "[CV] END .......................C=1.0, gamma=0.3, kernel=rbf; total time=  15.6s\n",
            "[CV] END .......................C=1.0, gamma=1.0, kernel=rbf; total time=  14.3s\n",
            "[CV] END .......................C=1.0, gamma=1.0, kernel=rbf; total time=  14.3s\n",
            "[CV] END .......................C=1.0, gamma=1.0, kernel=rbf; total time=  14.4s\n",
            "[CV] END .......................C=1.0, gamma=1.0, kernel=rbf; total time=  14.2s\n",
            "[CV] END .......................C=1.0, gamma=1.0, kernel=rbf; total time=  14.2s\n",
            "[CV] END .......................C=1.0, gamma=3.0, kernel=rbf; total time=  15.2s\n",
            "[CV] END .......................C=1.0, gamma=3.0, kernel=rbf; total time=  16.2s\n",
            "[CV] END .......................C=1.0, gamma=3.0, kernel=rbf; total time=  15.3s\n",
            "[CV] END .......................C=1.0, gamma=3.0, kernel=rbf; total time=  15.1s\n",
            "[CV] END .......................C=1.0, gamma=3.0, kernel=rbf; total time=  15.2s\n",
            "[CV] END ......................C=3.0, gamma=0.01, kernel=rbf; total time=  14.9s\n",
            "[CV] END ......................C=3.0, gamma=0.01, kernel=rbf; total time=  15.0s\n",
            "[CV] END ......................C=3.0, gamma=0.01, kernel=rbf; total time=  14.9s\n",
            "[CV] END ......................C=3.0, gamma=0.01, kernel=rbf; total time=  15.9s\n",
            "[CV] END ......................C=3.0, gamma=0.01, kernel=rbf; total time=  15.0s\n",
            "[CV] END ......................C=3.0, gamma=0.03, kernel=rbf; total time=  15.0s\n",
            "[CV] END ......................C=3.0, gamma=0.03, kernel=rbf; total time=  15.0s\n",
            "[CV] END ......................C=3.0, gamma=0.03, kernel=rbf; total time=  14.9s\n",
            "[CV] END ......................C=3.0, gamma=0.03, kernel=rbf; total time=  15.0s\n",
            "[CV] END ......................C=3.0, gamma=0.03, kernel=rbf; total time=  15.0s\n",
            "[CV] END .......................C=3.0, gamma=0.1, kernel=rbf; total time=  15.8s\n",
            "[CV] END .......................C=3.0, gamma=0.1, kernel=rbf; total time=  14.9s\n",
            "[CV] END .......................C=3.0, gamma=0.1, kernel=rbf; total time=  14.8s\n",
            "[CV] END .......................C=3.0, gamma=0.1, kernel=rbf; total time=  14.9s\n",
            "[CV] END .......................C=3.0, gamma=0.1, kernel=rbf; total time=  14.8s\n",
            "[CV] END .......................C=3.0, gamma=0.3, kernel=rbf; total time=  14.5s\n",
            "[CV] END .......................C=3.0, gamma=0.3, kernel=rbf; total time=  14.7s\n",
            "[CV] END .......................C=3.0, gamma=0.3, kernel=rbf; total time=  15.4s\n",
            "[CV] END .......................C=3.0, gamma=0.3, kernel=rbf; total time=  14.5s\n",
            "[CV] END .......................C=3.0, gamma=0.3, kernel=rbf; total time=  14.5s\n",
            "[CV] END .......................C=3.0, gamma=1.0, kernel=rbf; total time=  14.2s\n",
            "[CV] END .......................C=3.0, gamma=1.0, kernel=rbf; total time=  14.2s\n",
            "[CV] END .......................C=3.0, gamma=1.0, kernel=rbf; total time=  14.1s\n",
            "[CV] END .......................C=3.0, gamma=1.0, kernel=rbf; total time=  14.2s\n",
            "[CV] END .......................C=3.0, gamma=1.0, kernel=rbf; total time=  14.2s\n",
            "[CV] END .......................C=3.0, gamma=3.0, kernel=rbf; total time=  16.1s\n",
            "[CV] END .......................C=3.0, gamma=3.0, kernel=rbf; total time=  15.1s\n",
            "[CV] END .......................C=3.0, gamma=3.0, kernel=rbf; total time=  15.2s\n",
            "[CV] END .......................C=3.0, gamma=3.0, kernel=rbf; total time=  15.2s\n",
            "[CV] END .......................C=3.0, gamma=3.0, kernel=rbf; total time=  15.1s\n"
          ]
        },
        {
          "output_type": "execute_result",
          "data": {
            "text/plain": [
              "GridSearchCV(cv=5, estimator=SVR(),\n",
              "             param_grid=[{'C': [10.0, 30.0, 100.0, 300.0, 1000.0, 3000.0,\n",
              "                                10000.0, 30000.0],\n",
              "                          'kernel': ['linear']},\n",
              "                         {'C': [0.01, 0.03, 0.1, 0.3, 1.0, 3.0],\n",
              "                          'gamma': [0.01, 0.03, 0.1, 0.3, 1.0, 3.0],\n",
              "                          'kernel': ['rbf']}],\n",
              "             scoring='neg_mean_squared_error', verbose=2)"
            ]
          },
          "metadata": {},
          "execution_count": 87
        }
      ]
    },
    {
      "cell_type": "code",
      "source": [
        "nmse = gs1.best_score_\n",
        "rmse = np.sqrt(-nmse)\n",
        "rmse"
      ],
      "metadata": {
        "colab": {
          "base_uri": "https://localhost:8080/"
        },
        "id": "s2_K-9kJALl5",
        "outputId": "c84d4fe8-bc79-48d5-a45f-e1c81c77533f"
      },
      "execution_count": 89,
      "outputs": [
        {
          "output_type": "execute_result",
          "data": {
            "text/plain": [
              "69735.45591109115"
            ]
          },
          "metadata": {},
          "execution_count": 89
        }
      ]
    },
    {
      "cell_type": "code",
      "source": [
        "gs1.best_params_"
      ],
      "metadata": {
        "colab": {
          "base_uri": "https://localhost:8080/"
        },
        "id": "Mw-XJhSXAX6y",
        "outputId": "911c8f8b-54dc-4d8b-b6ac-2c289dba1c7b"
      },
      "execution_count": 90,
      "outputs": [
        {
          "output_type": "execute_result",
          "data": {
            "text/plain": [
              "{'C': 30000.0, 'kernel': 'linear'}"
            ]
          },
          "metadata": {},
          "execution_count": 90
        }
      ]
    },
    {
      "cell_type": "markdown",
      "source": [
        "2.\n",
        "Question: Try replacing GridSearchCV with RandomizedSearchCV."
      ],
      "metadata": {
        "id": "IR-bQehhAdej"
      }
    },
    {
      "cell_type": "code",
      "source": [
        "from scipy.stats import expon, reciprocal\n",
        "\n",
        "pd2 = {'kernel':['linear','rbf'],\n",
        "       'C':reciprocal(20,20000),\n",
        "       'gamma':expon(scale = 1.0)}\n",
        "\n",
        "rs2 = RandomizedSearchCV(svm, pd2, n_iter = 50, cv = 5, scoring = 'neg_mean_squared_error',\n",
        "                         verbose = 2, random_state = 42)\n",
        "rs2.fit(hp,hl)"
      ],
      "metadata": {
        "colab": {
          "base_uri": "https://localhost:8080/"
        },
        "id": "HvvuNFFQAhZ8",
        "outputId": "481cff6d-a27c-495d-9ff1-b23d6cd760c1"
      },
      "execution_count": 91,
      "outputs": [
        {
          "output_type": "stream",
          "name": "stdout",
          "text": [
            "Fitting 5 folds for each of 50 candidates, totalling 250 fits\n",
            "[CV] END C=265.8583788632432, gamma=3.010121430917521, kernel=linear; total time=   7.6s\n",
            "[CV] END C=265.8583788632432, gamma=3.010121430917521, kernel=linear; total time=   7.7s\n",
            "[CV] END C=265.8583788632432, gamma=3.010121430917521, kernel=linear; total time=   7.7s\n",
            "[CV] END C=265.8583788632432, gamma=3.010121430917521, kernel=linear; total time=   7.7s\n",
            "[CV] END C=265.8583788632432, gamma=3.010121430917521, kernel=linear; total time=   7.6s\n",
            "[CV] END C=4366.193678104918, gamma=0.9084469696321253, kernel=rbf; total time=  14.1s\n",
            "[CV] END C=4366.193678104918, gamma=0.9084469696321253, kernel=rbf; total time=  14.1s\n",
            "[CV] END C=4366.193678104918, gamma=0.9084469696321253, kernel=rbf; total time=  14.1s\n",
            "[CV] END C=4366.193678104918, gamma=0.9084469696321253, kernel=rbf; total time=  15.2s\n",
            "[CV] END C=4366.193678104918, gamma=0.9084469696321253, kernel=rbf; total time=  14.1s\n",
            "[CV] END C=58.750769152656574, gamma=0.059838768608680676, kernel=rbf; total time=  14.8s\n",
            "[CV] END C=58.750769152656574, gamma=0.059838768608680676, kernel=rbf; total time=  14.8s\n",
            "[CV] END C=58.750769152656574, gamma=0.059838768608680676, kernel=rbf; total time=  14.8s\n",
            "[CV] END C=58.750769152656574, gamma=0.059838768608680676, kernel=rbf; total time=  14.7s\n",
            "[CV] END C=58.750769152656574, gamma=0.059838768608680676, kernel=rbf; total time=  15.0s\n",
            "[CV] END C=200.5191380457913, gamma=0.15416196746656105, kernel=linear; total time=   7.6s\n",
            "[CV] END C=200.5191380457913, gamma=0.15416196746656105, kernel=linear; total time=   8.8s\n",
            "[CV] END C=200.5191380457913, gamma=0.15416196746656105, kernel=linear; total time=   7.7s\n",
            "[CV] END C=200.5191380457913, gamma=0.15416196746656105, kernel=linear; total time=   7.8s\n",
            "[CV] END C=200.5191380457913, gamma=0.15416196746656105, kernel=linear; total time=   7.6s\n",
            "[CV] END C=23.055974256464793, gamma=3.503557475158312, kernel=rbf; total time=  15.9s\n",
            "[CV] END C=23.055974256464793, gamma=3.503557475158312, kernel=rbf; total time=  16.5s\n",
            "[CV] END C=23.055974256464793, gamma=3.503557475158312, kernel=rbf; total time=  15.7s\n",
            "[CV] END C=23.055974256464793, gamma=3.503557475158312, kernel=rbf; total time=  15.7s\n",
            "[CV] END C=23.055974256464793, gamma=3.503557475158312, kernel=rbf; total time=  16.8s\n",
            "[CV] END C=13082.421055385465, gamma=0.0007790692366582295, kernel=rbf; total time=  14.3s\n",
            "[CV] END C=13082.421055385465, gamma=0.0007790692366582295, kernel=rbf; total time=  14.3s\n",
            "[CV] END C=13082.421055385465, gamma=0.0007790692366582295, kernel=rbf; total time=  14.3s\n",
            "[CV] END C=13082.421055385465, gamma=0.0007790692366582295, kernel=rbf; total time=  14.3s\n",
            "[CV] END C=13082.421055385465, gamma=0.0007790692366582295, kernel=rbf; total time=  14.4s\n",
            "[CV] END C=70.99757664393003, gamma=0.3627537294604771, kernel=rbf; total time=  14.3s\n",
            "[CV] END C=70.99757664393003, gamma=0.3627537294604771, kernel=rbf; total time=  14.3s\n",
            "[CV] END C=70.99757664393003, gamma=0.3627537294604771, kernel=rbf; total time=  15.3s\n",
            "[CV] END C=70.99757664393003, gamma=0.3627537294604771, kernel=rbf; total time=  14.4s\n",
            "[CV] END C=70.99757664393003, gamma=0.3627537294604771, kernel=rbf; total time=  14.3s\n",
            "[CV] END C=21.000465008462697, gamma=0.023332523598323388, kernel=linear; total time=   7.6s\n",
            "[CV] END C=21.000465008462697, gamma=0.023332523598323388, kernel=linear; total time=   7.6s\n",
            "[CV] END C=21.000465008462697, gamma=0.023332523598323388, kernel=linear; total time=   7.6s\n",
            "[CV] END C=21.000465008462697, gamma=0.023332523598323388, kernel=linear; total time=   7.6s\n",
            "[CV] END C=21.000465008462697, gamma=0.023332523598323388, kernel=linear; total time=   7.6s\n",
            "[CV] END C=1369.584019114956, gamma=0.15023452872733867, kernel=rbf; total time=  14.0s\n",
            "[CV] END C=1369.584019114956, gamma=0.15023452872733867, kernel=rbf; total time=  14.0s\n",
            "[CV] END C=1369.584019114956, gamma=0.15023452872733867, kernel=rbf; total time=  15.1s\n",
            "[CV] END C=1369.584019114956, gamma=0.15023452872733867, kernel=rbf; total time=  14.1s\n",
            "[CV] END C=1369.584019114956, gamma=0.15023452872733867, kernel=rbf; total time=  14.0s\n",
            "[CV] END C=16683.860588281546, gamma=0.26497040005002437, kernel=rbf; total time=  14.4s\n",
            "[CV] END C=16683.860588281546, gamma=0.26497040005002437, kernel=rbf; total time=  14.4s\n",
            "[CV] END C=16683.860588281546, gamma=0.26497040005002437, kernel=rbf; total time=  14.5s\n",
            "[CV] END C=16683.860588281546, gamma=0.26497040005002437, kernel=rbf; total time=  14.5s\n",
            "[CV] END C=16683.860588281546, gamma=0.26497040005002437, kernel=rbf; total time=  15.4s\n",
            "[CV] END C=4534.797304756079, gamma=0.2227358621286903, kernel=linear; total time=   8.6s\n",
            "[CV] END C=4534.797304756079, gamma=0.2227358621286903, kernel=linear; total time=   9.1s\n",
            "[CV] END C=4534.797304756079, gamma=0.2227358621286903, kernel=linear; total time=   9.2s\n",
            "[CV] END C=4534.797304756079, gamma=0.2227358621286903, kernel=linear; total time=   9.2s\n",
            "[CV] END C=4534.797304756079, gamma=0.2227358621286903, kernel=linear; total time=  10.1s\n",
            "[CV] END C=17812.40877232336, gamma=0.628789100540856, kernel=linear; total time=  12.1s\n",
            "[CV] END C=17812.40877232336, gamma=0.628789100540856, kernel=linear; total time=  13.2s\n",
            "[CV] END C=17812.40877232336, gamma=0.628789100540856, kernel=linear; total time=  13.4s\n",
            "[CV] END C=17812.40877232336, gamma=0.628789100540856, kernel=linear; total time=  12.7s\n",
            "[CV] END C=17812.40877232336, gamma=0.628789100540856, kernel=linear; total time=  13.9s\n",
            "[CV] END C=1329.4271730636049, gamma=0.18696125197741642, kernel=linear; total time=   8.1s\n",
            "[CV] END C=1329.4271730636049, gamma=0.18696125197741642, kernel=linear; total time=   8.2s\n",
            "[CV] END C=1329.4271730636049, gamma=0.18696125197741642, kernel=linear; total time=   8.2s\n",
            "[CV] END C=1329.4271730636049, gamma=0.18696125197741642, kernel=linear; total time=   8.5s\n",
            "[CV] END C=1329.4271730636049, gamma=0.18696125197741642, kernel=linear; total time=   8.1s\n",
            "[CV] END C=21.91920907385168, gamma=2.850796878935603, kernel=rbf; total time=  15.1s\n",
            "[CV] END C=21.91920907385168, gamma=2.850796878935603, kernel=rbf; total time=  15.1s\n",
            "[CV] END C=21.91920907385168, gamma=2.850796878935603, kernel=rbf; total time=  15.3s\n",
            "[CV] END C=21.91920907385168, gamma=2.850796878935603, kernel=rbf; total time=  15.2s\n",
            "[CV] END C=21.91920907385168, gamma=2.850796878935603, kernel=rbf; total time=  16.0s\n",
            "[CV] END C=5323.80377697811, gamma=0.3632878599687583, kernel=linear; total time=   9.0s\n",
            "[CV] END C=5323.80377697811, gamma=0.3632878599687583, kernel=linear; total time=  10.2s\n",
            "[CV] END C=5323.80377697811, gamma=0.3632878599687583, kernel=linear; total time=   9.1s\n",
            "[CV] END C=5323.80377697811, gamma=0.3632878599687583, kernel=linear; total time=   9.0s\n",
            "[CV] END C=5323.80377697811, gamma=0.3632878599687583, kernel=linear; total time=   9.4s\n",
            "[CV] END C=98.56244595391004, gamma=0.2757870542258224, kernel=rbf; total time=  14.4s\n",
            "[CV] END C=98.56244595391004, gamma=0.2757870542258224, kernel=rbf; total time=  14.4s\n",
            "[CV] END C=98.56244595391004, gamma=0.2757870542258224, kernel=rbf; total time=  14.4s\n",
            "[CV] END C=98.56244595391004, gamma=0.2757870542258224, kernel=rbf; total time=  15.5s\n",
            "[CV] END C=98.56244595391004, gamma=0.2757870542258224, kernel=rbf; total time=  14.4s\n",
            "[CV] END C=46.467007030780216, gamma=0.6835472281341501, kernel=linear; total time=   7.6s\n",
            "[CV] END C=46.467007030780216, gamma=0.6835472281341501, kernel=linear; total time=   7.6s\n",
            "[CV] END C=46.467007030780216, gamma=0.6835472281341501, kernel=linear; total time=   7.6s\n",
            "[CV] END C=46.467007030780216, gamma=0.6835472281341501, kernel=linear; total time=   7.5s\n",
            "[CV] END C=46.467007030780216, gamma=0.6835472281341501, kernel=linear; total time=   7.6s\n",
            "[CV] END C=66.24055402931889, gamma=0.4960365360493639, kernel=rbf; total time=  14.3s\n",
            "[CV] END C=66.24055402931889, gamma=0.4960365360493639, kernel=rbf; total time=  14.3s\n",
            "[CV] END C=66.24055402931889, gamma=0.4960365360493639, kernel=rbf; total time=  14.3s\n",
            "[CV] END C=66.24055402931889, gamma=0.4960365360493639, kernel=rbf; total time=  15.3s\n",
            "[CV] END C=66.24055402931889, gamma=0.4960365360493639, kernel=rbf; total time=  14.3s\n",
            "[CV] END C=1943.5550610119265, gamma=0.37354658165762367, kernel=rbf; total time=  13.9s\n",
            "[CV] END C=1943.5550610119265, gamma=0.37354658165762367, kernel=rbf; total time=  14.0s\n",
            "[CV] END C=1943.5550610119265, gamma=0.37354658165762367, kernel=rbf; total time=  14.1s\n",
            "[CV] END C=1943.5550610119265, gamma=0.37354658165762367, kernel=rbf; total time=  14.0s\n",
            "[CV] END C=1943.5550610119265, gamma=0.37354658165762367, kernel=rbf; total time=  13.9s\n",
            "[CV] END C=84.11142374014415, gamma=0.838636245624803, kernel=linear; total time=   7.5s\n",
            "[CV] END C=84.11142374014415, gamma=0.838636245624803, kernel=linear; total time=   7.6s\n",
            "[CV] END C=84.11142374014415, gamma=0.838636245624803, kernel=linear; total time=   8.6s\n",
            "[CV] END C=84.11142374014415, gamma=0.838636245624803, kernel=linear; total time=   7.5s\n",
            "[CV] END C=84.11142374014415, gamma=0.838636245624803, kernel=linear; total time=   7.6s\n",
            "[CV] END C=16210.032252823165, gamma=1.4922453771381408, kernel=rbf; total time=  15.7s\n",
            "[CV] END C=16210.032252823165, gamma=1.4922453771381408, kernel=rbf; total time=  15.7s\n",
            "[CV] END C=16210.032252823165, gamma=1.4922453771381408, kernel=rbf; total time=  15.8s\n",
            "[CV] END C=16210.032252823165, gamma=1.4922453771381408, kernel=rbf; total time=  15.8s\n",
            "[CV] END C=16210.032252823165, gamma=1.4922453771381408, kernel=rbf; total time=  15.7s\n",
            "[CV] END C=306.53544782768205, gamma=2.6126336514161914, kernel=linear; total time=   7.6s\n",
            "[CV] END C=306.53544782768205, gamma=2.6126336514161914, kernel=linear; total time=   8.7s\n",
            "[CV] END C=306.53544782768205, gamma=2.6126336514161914, kernel=linear; total time=   7.6s\n",
            "[CV] END C=306.53544782768205, gamma=2.6126336514161914, kernel=linear; total time=   7.7s\n",
            "[CV] END C=306.53544782768205, gamma=2.6126336514161914, kernel=linear; total time=   7.6s\n",
            "[CV] END C=11658.769085989476, gamma=0.09265545895311562, kernel=linear; total time=  10.5s\n",
            "[CV] END C=11658.769085989476, gamma=0.09265545895311562, kernel=linear; total time=  11.3s\n",
            "[CV] END C=11658.769085989476, gamma=0.09265545895311562, kernel=linear; total time=  10.7s\n",
            "[CV] END C=11658.769085989476, gamma=0.09265545895311562, kernel=linear; total time=  10.9s\n",
            "[CV] END C=11658.769085989476, gamma=0.09265545895311562, kernel=linear; total time=  11.2s\n",
            "[CV] END C=730.3529297503513, gamma=3.248614270240346, kernel=linear; total time=   7.7s\n",
            "[CV] END C=730.3529297503513, gamma=3.248614270240346, kernel=linear; total time=   7.7s\n",
            "[CV] END C=730.3529297503513, gamma=3.248614270240346, kernel=linear; total time=   7.9s\n",
            "[CV] END C=730.3529297503513, gamma=3.248614270240346, kernel=linear; total time=   9.1s\n",
            "[CV] END C=730.3529297503513, gamma=3.248614270240346, kernel=linear; total time=   7.8s\n",
            "[CV] END C=293.13107772450667, gamma=0.3165604432088257, kernel=linear; total time=   7.6s\n",
            "[CV] END C=293.13107772450667, gamma=0.3165604432088257, kernel=linear; total time=   7.6s\n",
            "[CV] END C=293.13107772450667, gamma=0.3165604432088257, kernel=linear; total time=   7.7s\n",
            "[CV] END C=293.13107772450667, gamma=0.3165604432088257, kernel=linear; total time=   7.7s\n",
            "[CV] END C=293.13107772450667, gamma=0.3165604432088257, kernel=linear; total time=   7.6s\n",
            "[CV] END C=1151.551837501408, gamma=3.3597284456608496, kernel=rbf; total time=  15.5s\n",
            "[CV] END C=1151.551837501408, gamma=3.3597284456608496, kernel=rbf; total time=  15.6s\n",
            "[CV] END C=1151.551837501408, gamma=3.3597284456608496, kernel=rbf; total time=  15.6s\n",
            "[CV] END C=1151.551837501408, gamma=3.3597284456608496, kernel=rbf; total time=  16.5s\n",
            "[CV] END C=1151.551837501408, gamma=3.3597284456608496, kernel=rbf; total time=  15.6s\n",
            "[CV] END C=849.4117124523736, gamma=0.15189814782062885, kernel=linear; total time=   7.8s\n",
            "[CV] END C=849.4117124523736, gamma=0.15189814782062885, kernel=linear; total time=   7.9s\n",
            "[CV] END C=849.4117124523736, gamma=0.15189814782062885, kernel=linear; total time=   8.0s\n",
            "[CV] END C=849.4117124523736, gamma=0.15189814782062885, kernel=linear; total time=   8.2s\n",
            "[CV] END C=849.4117124523736, gamma=0.15189814782062885, kernel=linear; total time=   7.9s\n",
            "[CV] END C=62.636980362822364, gamma=0.01575994483585621, kernel=linear; total time=   7.6s\n",
            "[CV] END C=62.636980362822364, gamma=0.01575994483585621, kernel=linear; total time=   7.6s\n",
            "[CV] END C=62.636980362822364, gamma=0.01575994483585621, kernel=linear; total time=   7.6s\n",
            "[CV] END C=62.636980362822364, gamma=0.01575994483585621, kernel=linear; total time=   7.6s\n",
            "[CV] END C=62.636980362822364, gamma=0.01575994483585621, kernel=linear; total time=   7.6s\n",
            "[CV] END C=4147.289035581005, gamma=0.22153944050588595, kernel=rbf; total time=  14.1s\n",
            "[CV] END C=4147.289035581005, gamma=0.22153944050588595, kernel=rbf; total time=  15.0s\n",
            "[CV] END C=4147.289035581005, gamma=0.22153944050588595, kernel=rbf; total time=  14.3s\n",
            "[CV] END C=4147.289035581005, gamma=0.22153944050588595, kernel=rbf; total time=  13.9s\n",
            "[CV] END C=4147.289035581005, gamma=0.22153944050588595, kernel=rbf; total time=  14.1s\n",
            "[CV] END C=22.04293722310332, gamma=0.22169760231351215, kernel=rbf; total time=  14.5s\n",
            "[CV] END C=22.04293722310332, gamma=0.22169760231351215, kernel=rbf; total time=  14.6s\n",
            "[CV] END C=22.04293722310332, gamma=0.22169760231351215, kernel=rbf; total time=  14.5s\n",
            "[CV] END C=22.04293722310332, gamma=0.22169760231351215, kernel=rbf; total time=  15.6s\n",
            "[CV] END C=22.04293722310332, gamma=0.22169760231351215, kernel=rbf; total time=  14.5s\n",
            "[CV] END C=3076.461608055798, gamma=1.4752145260435134, kernel=linear; total time=   8.4s\n",
            "[CV] END C=3076.461608055798, gamma=1.4752145260435134, kernel=linear; total time=   8.8s\n",
            "[CV] END C=3076.461608055798, gamma=1.4752145260435134, kernel=linear; total time=   8.5s\n",
            "[CV] END C=3076.461608055798, gamma=1.4752145260435134, kernel=linear; total time=   8.7s\n",
            "[CV] END C=3076.461608055798, gamma=1.4752145260435134, kernel=linear; total time=   8.8s\n",
            "[CV] END C=12020.779509547774, gamma=1.052904084582266, kernel=rbf; total time=  14.8s\n",
            "[CV] END C=12020.779509547774, gamma=1.052904084582266, kernel=rbf; total time=  14.7s\n",
            "[CV] END C=12020.779509547774, gamma=1.052904084582266, kernel=rbf; total time=  14.9s\n",
            "[CV] END C=12020.779509547774, gamma=1.052904084582266, kernel=rbf; total time=  15.7s\n",
            "[CV] END C=12020.779509547774, gamma=1.052904084582266, kernel=rbf; total time=  14.7s\n",
            "[CV] END C=7768.555509406282, gamma=0.9763011917123741, kernel=rbf; total time=  14.2s\n",
            "[CV] END C=7768.555509406282, gamma=0.9763011917123741, kernel=rbf; total time=  14.2s\n",
            "[CV] END C=7768.555509406282, gamma=0.9763011917123741, kernel=rbf; total time=  14.3s\n",
            "[CV] END C=7768.555509406282, gamma=0.9763011917123741, kernel=rbf; total time=  14.4s\n",
            "[CV] END C=7768.555509406282, gamma=0.9763011917123741, kernel=rbf; total time=  14.3s\n",
            "[CV] END C=38.6598660676393, gamma=0.4633351167983427, kernel=rbf; total time=  14.5s\n",
            "[CV] END C=38.6598660676393, gamma=0.4633351167983427, kernel=rbf; total time=  15.2s\n",
            "[CV] END C=38.6598660676393, gamma=0.4633351167983427, kernel=rbf; total time=  14.4s\n",
            "[CV] END C=38.6598660676393, gamma=0.4633351167983427, kernel=rbf; total time=  14.3s\n",
            "[CV] END C=38.6598660676393, gamma=0.4633351167983427, kernel=rbf; total time=  14.3s\n",
            "[CV] END C=189.05142782144608, gamma=1.3078757839577408, kernel=rbf; total time=  14.2s\n",
            "[CV] END C=189.05142782144608, gamma=1.3078757839577408, kernel=rbf; total time=  14.2s\n",
            "[CV] END C=189.05142782144608, gamma=1.3078757839577408, kernel=rbf; total time=  14.1s\n",
            "[CV] END C=189.05142782144608, gamma=1.3078757839577408, kernel=rbf; total time=  15.1s\n",
            "[CV] END C=189.05142782144608, gamma=1.3078757839577408, kernel=rbf; total time=  14.2s\n",
            "[CV] END C=133.41214740356392, gamma=0.8238105204914145, kernel=linear; total time=   7.6s\n",
            "[CV] END C=133.41214740356392, gamma=0.8238105204914145, kernel=linear; total time=   7.5s\n",
            "[CV] END C=133.41214740356392, gamma=0.8238105204914145, kernel=linear; total time=   7.5s\n",
            "[CV] END C=133.41214740356392, gamma=0.8238105204914145, kernel=linear; total time=   7.5s\n",
            "[CV] END C=133.41214740356392, gamma=0.8238105204914145, kernel=linear; total time=   7.5s\n",
            "[CV] END C=45.68911370004105, gamma=1.2491263443165994, kernel=linear; total time=   7.5s\n",
            "[CV] END C=45.68911370004105, gamma=1.2491263443165994, kernel=linear; total time=   7.5s\n",
            "[CV] END C=45.68911370004105, gamma=1.2491263443165994, kernel=linear; total time=   7.5s\n",
            "[CV] END C=45.68911370004105, gamma=1.2491263443165994, kernel=linear; total time=   7.5s\n",
            "[CV] END C=45.68911370004105, gamma=1.2491263443165994, kernel=linear; total time=   7.6s\n",
            "[CV] END C=2925.624330978563, gamma=0.2691677514619319, kernel=rbf; total time=  14.0s\n",
            "[CV] END C=2925.624330978563, gamma=0.2691677514619319, kernel=rbf; total time=  14.9s\n",
            "[CV] END C=2925.624330978563, gamma=0.2691677514619319, kernel=rbf; total time=  14.0s\n",
            "[CV] END C=2925.624330978563, gamma=0.2691677514619319, kernel=rbf; total time=  13.9s\n",
            "[CV] END C=2925.624330978563, gamma=0.2691677514619319, kernel=rbf; total time=  13.9s\n",
            "[CV] END C=605.9220885642495, gamma=0.739678838777267, kernel=linear; total time=   7.7s\n",
            "[CV] END C=605.9220885642495, gamma=0.739678838777267, kernel=linear; total time=   7.9s\n",
            "[CV] END C=605.9220885642495, gamma=0.739678838777267, kernel=linear; total time=   7.9s\n",
            "[CV] END C=605.9220885642495, gamma=0.739678838777267, kernel=linear; total time=   8.0s\n",
            "[CV] END C=605.9220885642495, gamma=0.739678838777267, kernel=linear; total time=   7.8s\n",
            "[CV] END C=43.0231751036392, gamma=0.578634378499143, kernel=linear; total time=   7.5s\n",
            "[CV] END C=43.0231751036392, gamma=0.578634378499143, kernel=linear; total time=   7.5s\n",
            "[CV] END C=43.0231751036392, gamma=0.578634378499143, kernel=linear; total time=   8.6s\n",
            "[CV] END C=43.0231751036392, gamma=0.578634378499143, kernel=linear; total time=   7.6s\n",
            "[CV] END C=43.0231751036392, gamma=0.578634378499143, kernel=linear; total time=   7.6s\n",
            "[CV] END C=24.849494167320387, gamma=1.0117295509275495, kernel=rbf; total time=  14.2s\n",
            "[CV] END C=24.849494167320387, gamma=1.0117295509275495, kernel=rbf; total time=  14.2s\n",
            "[CV] END C=24.849494167320387, gamma=1.0117295509275495, kernel=rbf; total time=  14.1s\n",
            "[CV] END C=24.849494167320387, gamma=1.0117295509275495, kernel=rbf; total time=  14.1s\n",
            "[CV] END C=24.849494167320387, gamma=1.0117295509275495, kernel=rbf; total time=  14.2s\n",
            "[CV] END C=979.1668719110207, gamma=1.1891370222133257, kernel=linear; total time=   7.8s\n",
            "[CV] END C=979.1668719110207, gamma=1.1891370222133257, kernel=linear; total time=   7.9s\n",
            "[CV] END C=979.1668719110207, gamma=1.1891370222133257, kernel=linear; total time=   9.2s\n",
            "[CV] END C=979.1668719110207, gamma=1.1891370222133257, kernel=linear; total time=   8.4s\n",
            "[CV] END C=979.1668719110207, gamma=1.1891370222133257, kernel=linear; total time=   7.9s\n",
            "[CV] END C=111.9197375601216, gamma=0.5282819748826726, kernel=linear; total time=   7.6s\n",
            "[CV] END C=111.9197375601216, gamma=0.5282819748826726, kernel=linear; total time=   7.6s\n",
            "[CV] END C=111.9197375601216, gamma=0.5282819748826726, kernel=linear; total time=   7.6s\n",
            "[CV] END C=111.9197375601216, gamma=0.5282819748826726, kernel=linear; total time=   7.5s\n",
            "[CV] END C=111.9197375601216, gamma=0.5282819748826726, kernel=linear; total time=   7.6s\n",
            "[CV] END C=81.32305215236218, gamma=2.8621383676481322, kernel=linear; total time=   7.5s\n",
            "[CV] END C=81.32305215236218, gamma=2.8621383676481322, kernel=linear; total time=   7.6s\n",
            "[CV] END C=81.32305215236218, gamma=2.8621383676481322, kernel=linear; total time=   7.6s\n",
            "[CV] END C=81.32305215236218, gamma=2.8621383676481322, kernel=linear; total time=   7.5s\n",
            "[CV] END C=81.32305215236218, gamma=2.8621383676481322, kernel=linear; total time=   7.5s\n",
            "[CV] END C=148.00771518174747, gamma=0.17580835850006285, kernel=rbf; total time=  14.4s\n",
            "[CV] END C=148.00771518174747, gamma=0.17580835850006285, kernel=rbf; total time=  15.4s\n",
            "[CV] END C=148.00771518174747, gamma=0.17580835850006285, kernel=rbf; total time=  14.4s\n",
            "[CV] END C=148.00771518174747, gamma=0.17580835850006285, kernel=rbf; total time=  14.4s\n",
            "[CV] END C=148.00771518174747, gamma=0.17580835850006285, kernel=rbf; total time=  14.5s\n",
            "[CV] END C=1493.1111549491416, gamma=0.3504567255332862, kernel=linear; total time=   8.0s\n",
            "[CV] END C=1493.1111549491416, gamma=0.3504567255332862, kernel=linear; total time=   8.0s\n",
            "[CV] END C=1493.1111549491416, gamma=0.3504567255332862, kernel=linear; total time=   8.1s\n",
            "[CV] END C=1493.1111549491416, gamma=0.3504567255332862, kernel=linear; total time=   8.1s\n",
            "[CV] END C=1493.1111549491416, gamma=0.3504567255332862, kernel=linear; total time=   8.2s\n",
            "[CV] END C=8230.226099122177, gamma=1.6279689407405564, kernel=rbf; total time=  14.7s\n",
            "[CV] END C=8230.226099122177, gamma=1.6279689407405564, kernel=rbf; total time=  15.8s\n",
            "[CV] END C=8230.226099122177, gamma=1.6279689407405564, kernel=rbf; total time=  14.6s\n",
            "[CV] END C=8230.226099122177, gamma=1.6279689407405564, kernel=rbf; total time=  14.7s\n",
            "[CV] END C=8230.226099122177, gamma=1.6279689407405564, kernel=rbf; total time=  14.7s\n",
            "[CV] END C=355.27106614205434, gamma=2.147979593060577, kernel=rbf; total time=  14.5s\n",
            "[CV] END C=355.27106614205434, gamma=2.147979593060577, kernel=rbf; total time=  14.5s\n",
            "[CV] END C=355.27106614205434, gamma=2.147979593060577, kernel=rbf; total time=  14.5s\n",
            "[CV] END C=355.27106614205434, gamma=2.147979593060577, kernel=rbf; total time=  15.5s\n",
            "[CV] END C=355.27106614205434, gamma=2.147979593060577, kernel=rbf; total time=  14.6s\n",
            "[CV] END C=5288.718615679725, gamma=2.2642426492862313, kernel=linear; total time=   8.7s\n",
            "[CV] END C=5288.718615679725, gamma=2.2642426492862313, kernel=linear; total time=   9.1s\n",
            "[CV] END C=5288.718615679725, gamma=2.2642426492862313, kernel=linear; total time=   8.9s\n",
            "[CV] END C=5288.718615679725, gamma=2.2642426492862313, kernel=linear; total time=   9.1s\n",
            "[CV] END C=5288.718615679725, gamma=2.2642426492862313, kernel=linear; total time=   9.4s\n",
            "[CV] END C=10507.885221400173, gamma=0.3176359085304841, kernel=linear; total time=  10.3s\n",
            "[CV] END C=10507.885221400173, gamma=0.3176359085304841, kernel=linear; total time=  11.9s\n",
            "[CV] END C=10507.885221400173, gamma=0.3176359085304841, kernel=linear; total time=  10.9s\n",
            "[CV] END C=10507.885221400173, gamma=0.3176359085304841, kernel=linear; total time=  10.2s\n",
            "[CV] END C=10507.885221400173, gamma=0.3176359085304841, kernel=linear; total time=  12.1s\n"
          ]
        },
        {
          "output_type": "execute_result",
          "data": {
            "text/plain": [
              "RandomizedSearchCV(cv=5, estimator=SVR(), n_iter=50,\n",
              "                   param_distributions={'C': <scipy.stats._distn_infrastructure.rv_frozen object at 0x7fa11ba60750>,\n",
              "                                        'gamma': <scipy.stats._distn_infrastructure.rv_frozen object at 0x7fa11baca350>,\n",
              "                                        'kernel': ['linear', 'rbf']},\n",
              "                   random_state=42, scoring='neg_mean_squared_error',\n",
              "                   verbose=2)"
            ]
          },
          "metadata": {},
          "execution_count": 91
        }
      ]
    },
    {
      "cell_type": "code",
      "source": [
        "nmse = rs2.best_score_\n",
        "rmse = np.sqrt(-nmse)\n",
        "rmse"
      ],
      "metadata": {
        "colab": {
          "base_uri": "https://localhost:8080/"
        },
        "id": "JmvJIltpB1OQ",
        "outputId": "4b13fb4c-2ffa-421d-afb9-46dd9cb261c0"
      },
      "execution_count": 92,
      "outputs": [
        {
          "output_type": "execute_result",
          "data": {
            "text/plain": [
              "58518.3867829494"
            ]
          },
          "metadata": {},
          "execution_count": 92
        }
      ]
    },
    {
      "cell_type": "code",
      "source": [
        "rs2.best_params_"
      ],
      "metadata": {
        "colab": {
          "base_uri": "https://localhost:8080/"
        },
        "id": "EIVHKm7nCCib",
        "outputId": "929d3624-bcb4-47f2-cb4c-fbe140cbf77f"
      },
      "execution_count": 93,
      "outputs": [
        {
          "output_type": "execute_result",
          "data": {
            "text/plain": [
              "{'C': 16683.860588281546, 'gamma': 0.26497040005002437, 'kernel': 'rbf'}"
            ]
          },
          "metadata": {},
          "execution_count": 93
        }
      ]
    },
    {
      "cell_type": "code",
      "source": [
        "expon_distrib = expon(scale=1.)\n",
        "samples = expon_distrib.rvs(10000, random_state=42)\n",
        "plt.figure(figsize=(10, 4))\n",
        "plt.subplot(121)\n",
        "plt.title(\"Exponential distribution (scale=1.0)\")\n",
        "plt.hist(samples, bins=50)\n",
        "plt.subplot(122)\n",
        "plt.title(\"Log of this distribution\")\n",
        "plt.hist(np.log(samples), bins=50)\n",
        "plt.show()"
      ],
      "metadata": {
        "colab": {
          "base_uri": "https://localhost:8080/",
          "height": 284
        },
        "id": "BAuu9iK5CFeh",
        "outputId": "b0b0c367-0ab5-44d5-e4d5-f349b1c86d16"
      },
      "execution_count": 94,
      "outputs": [
        {
          "output_type": "display_data",
          "data": {
            "text/plain": [
              "<Figure size 720x288 with 2 Axes>"
            ],
            "image/png": "[encoded data removed]"
          },
          "metadata": {
            "needs_background": "light"
          }
        }
      ]
    },
    {
      "cell_type": "code",
      "source": [
        "reciprocal_distrib = reciprocal(20, 200000)\n",
        "samples = reciprocal_distrib.rvs(10000, random_state=42)\n",
        "plt.figure(figsize=(10, 4))\n",
        "plt.subplot(121)\n",
        "plt.title(\"Reciprocal distribution (scale=1.0)\")\n",
        "plt.hist(samples, bins=50)\n",
        "plt.subplot(122)\n",
        "plt.title(\"Log of this distribution\")\n",
        "plt.hist(np.log(samples), bins=50)\n",
        "plt.show()"
      ],
      "metadata": {
        "colab": {
          "base_uri": "https://localhost:8080/",
          "height": 284
        },
        "id": "YjMG3QVCCLau",
        "outputId": "12000cd8-d486-4b2e-ab89-4c7a930767c1"
      },
      "execution_count": 95,
      "outputs": [
        {
          "output_type": "display_data",
          "data": {
            "text/plain": [
              "<Figure size 720x288 with 2 Axes>"
            ],
            "image/png": "[encoded data removed]"
          },
          "metadata": {
            "needs_background": "light"
          }
        }
      ]
    },
    {
      "cell_type": "markdown",
      "source": [
        "3. Question: Try adding a transformer in the preparation pipeline to select only the most important attributes."
      ],
      "metadata": {
        "id": "0PjGQ4t-COxt"
      }
    },
    {
      "cell_type": "code",
      "source": [
        "def top_indices(arr,k):\n",
        "  return np.sort(np.argpartition(np.array(arr), -k)[-k:])\n",
        "\n",
        "class topfeature_selector(BaseEstimator, TransformerMixin):\n",
        "  def __init__(self, fi, k):\n",
        "    self.fi = fi\n",
        "    self.k = k\n",
        "\n",
        "  def fit(self,X,y = None):\n",
        "    self.feature_indices_ = top_indices(self.fi,self.k)\n",
        "    return self\n",
        "  \n",
        "  def transform(self,X):\n",
        "    return X[:, self.feature_indices_]"
      ],
      "metadata": {
        "id": "Fjc25ir0CS6Q"
      },
      "execution_count": 96,
      "outputs": []
    },
    {
      "cell_type": "code",
      "source": [
        "k = 5"
      ],
      "metadata": {
        "id": "uCfD63gqGetF"
      },
      "execution_count": 97,
      "outputs": []
    },
    {
      "cell_type": "code",
      "source": [
        "top_fi = top_indices(fi, k )\n",
        "top_fi"
      ],
      "metadata": {
        "colab": {
          "base_uri": "https://localhost:8080/"
        },
        "id": "ZIW12MJpGgKG",
        "outputId": "c7d77ac2-7280-4c6d-a9b8-0fe6c6d80e9f"
      },
      "execution_count": 98,
      "outputs": [
        {
          "output_type": "execute_result",
          "data": {
            "text/plain": [
              "array([ 0,  7,  9, 10, 12])"
            ]
          },
          "metadata": {},
          "execution_count": 98
        }
      ]
    },
    {
      "cell_type": "code",
      "source": [
        "np.array(atbs)[top_fi]"
      ],
      "metadata": {
        "colab": {
          "base_uri": "https://localhost:8080/"
        },
        "id": "YQdmnx4JGsIT",
        "outputId": "d92292b9-4bbc-421a-cdb0-a9048806caad"
      },
      "execution_count": 99,
      "outputs": [
        {
          "output_type": "execute_result",
          "data": {
            "text/plain": [
              "array(['longitude', 'median_income', 'pop/hhold', 'bedrooms/room',\n",
              "       'INLAND'], dtype='<U18')"
            ]
          },
          "metadata": {},
          "execution_count": 99
        }
      ]
    },
    {
      "cell_type": "code",
      "source": [
        "sorted(zip(fi,atbs), reverse = True)[:k]"
      ],
      "metadata": {
        "colab": {
          "base_uri": "https://localhost:8080/"
        },
        "id": "7pRJzMG3G53M",
        "outputId": "ba6e0045-e7c9-4dfd-dac2-a37db4db42bd"
      },
      "execution_count": 100,
      "outputs": [
        {
          "output_type": "execute_result",
          "data": {
            "text/plain": [
              "[(0.3286866484468688, 'median_income'),\n",
              " (0.16543425592004243, 'INLAND'),\n",
              " (0.10193167840954163, 'pop/hhold'),\n",
              " (0.08059151432797704, 'longitude'),\n",
              " (0.072431901007094, 'bedrooms/room')]"
            ]
          },
          "metadata": {},
          "execution_count": 100
        }
      ]
    },
    {
      "cell_type": "code",
      "source": [
        "selection_pipe = Pipeline([\n",
        "                           ('preparation',full_pipe),\n",
        "                           ('feature_selection',topfeature_selector(fi,k))\n",
        "])"
      ],
      "metadata": {
        "id": "0BHnnnQuHDsf"
      },
      "execution_count": 101,
      "outputs": []
    },
    {
      "cell_type": "code",
      "source": [
        "tfh = selection_pipe.fit_transform(t)"
      ],
      "metadata": {
        "id": "3Idr-gv4H05-"
      },
      "execution_count": 102,
      "outputs": []
    },
    {
      "cell_type": "code",
      "source": [
        "tfh[0:3]"
      ],
      "metadata": {
        "colab": {
          "base_uri": "https://localhost:8080/"
        },
        "id": "pWkW6fZ1IKdK",
        "outputId": "77d0713c-8782-4b38-8bca-ee81cf313486"
      },
      "execution_count": 103,
      "outputs": [
        {
          "output_type": "execute_result",
          "data": {
            "text/plain": [
              "array([[ 1.16463045,  0.1125571 , -0.02322898, -0.62129399,  0.        ],\n",
              "       [-0.82957402, -0.75227241, -0.06130691, -0.27033623,  1.        ],\n",
              "       [ 0.0279339 , -1.03560222,  0.19735941,  0.15766269,  1.        ]])"
            ]
          },
          "metadata": {},
          "execution_count": 103
        }
      ]
    },
    {
      "cell_type": "code",
      "source": [
        "hp[0:3,top_fi]"
      ],
      "metadata": {
        "colab": {
          "base_uri": "https://localhost:8080/"
        },
        "id": "ve3BCA2RINZP",
        "outputId": "4cc64abd-2467-41b7-e7d5-0dfd6547e915"
      },
      "execution_count": 105,
      "outputs": [
        {
          "output_type": "execute_result",
          "data": {
            "text/plain": [
              "array([[ 1.16463045,  0.1125571 , -0.02322898, -0.62129399,  0.        ],\n",
              "       [-0.82957402, -0.75227241, -0.06130691, -0.27033623,  1.        ],\n",
              "       [ 0.0279339 , -1.03560222,  0.19735941,  0.15766269,  1.        ]])"
            ]
          },
          "metadata": {},
          "execution_count": 105
        }
      ]
    },
    {
      "cell_type": "markdown",
      "source": [
        "4. Question: Try creating a single pipeline that does the full data preparation plus the final prediction."
      ],
      "metadata": {
        "id": "0UD19k94Ia4U"
      }
    },
    {
      "cell_type": "code",
      "source": [
        "svm_pipe = Pipeline([\n",
        "    ('preparation', full_pipe),\n",
        "    ('feature_selection', topfeature_selector(fi, k)),\n",
        "    ('svm_reg', SVR(**rs2.best_params_))\n",
        "])"
      ],
      "metadata": {
        "id": "emdXMdt9Ie-a"
      },
      "execution_count": 106,
      "outputs": []
    },
    {
      "cell_type": "code",
      "source": [
        "svm_pipe.fit(t,hl)"
      ],
      "metadata": {
        "colab": {
          "base_uri": "https://localhost:8080/"
        },
        "id": "0V-8xLq1a8no",
        "outputId": "74c94fbc-d1f8-42a0-ef18-5d5e234dca6e"
      },
      "execution_count": 108,
      "outputs": [
        {
          "output_type": "execute_result",
          "data": {
            "text/plain": [
              "Pipeline(steps=[('preparation',\n",
              "                 ColumnTransformer(transformers=[('num',\n",
              "                                                  Pipeline(steps=[('imputer',\n",
              "                                                                   SimpleImputer(strategy='median')),\n",
              "                                                                  ('atb_add',\n",
              "                                                                   caa()),\n",
              "                                                                  ('std_scaler',\n",
              "                                                                   StandardScaler())]),\n",
              "                                                  ['longitude', 'latitude',\n",
              "                                                   'housing_median_age',\n",
              "                                                   'total_rooms',\n",
              "                                                   'total_bedrooms',\n",
              "                                                   'population', 'households',\n",
              "                                                   'median_income']),\n",
              "                                                 ('cat', OneHotEncoder(),\n",
              "                                                  ['ocean_proximity'])])),\n",
              "                ('feature_selection',\n",
              "                 topfeature_selector(fi=array([0.08059151, 0.06839831, 0.0399587 , 0.01687187, 0.01657445,\n",
              "       0.01768238, 0.01543476, 0.32868665, 0.05543332, 0.10193168,\n",
              "       0.0724319 , 0.01169663, 0.16543426, 0.00035641, 0.00448398,\n",
              "       0.0040332 ]),\n",
              "                                     k=5)),\n",
              "                ('svm_reg',\n",
              "                 SVR(C=16683.860588281546, gamma=0.26497040005002437))])"
            ]
          },
          "metadata": {},
          "execution_count": 108
        }
      ]
    },
    {
      "cell_type": "code",
      "source": [
        "sd = t.iloc[:4]\n",
        "sl = hl.iloc[:4]\n",
        "\n",
        "print('predictions:\\t',svm_pipe.predict(sd))\n",
        "print('labels:\\t',list(sl))"
      ],
      "metadata": {
        "colab": {
          "base_uri": "https://localhost:8080/"
        },
        "id": "k6fhDx91JLgL",
        "outputId": "74febc5c-8913-440f-f315-03b8e4cdc28e"
      },
      "execution_count": 109,
      "outputs": [
        {
          "output_type": "stream",
          "name": "stdout",
          "text": [
            "predictions:\t [182948.84219652  94699.32096056  52381.11406221 225773.01389526]\n",
            "labels:\t [196000.0, 125000.0, 55100.0, 266000.0]\n"
          ]
        }
      ]
    },
    {
      "cell_type": "markdown",
      "source": [
        "5. Question: Automatically explore some preparation options using GridSearchCV."
      ],
      "metadata": {
        "id": "MserRkh8Jop4"
      }
    },
    {
      "cell_type": "code",
      "source": [
        "full_pipe.named_transformers_[\"cat\"].handle_unknown = 'ignore'\n",
        "\n",
        "pg4 = [{\n",
        "    'preparation__num__imputer__strategy': ['mean', 'median', 'most_frequent'],\n",
        "    'feature_selection__k': list(range(1, len(fi) + 1))\n",
        "}]\n",
        "\n",
        "gs3 = GridSearchCV(svm_pipe, pg4, cv=5,\n",
        "                                scoring='neg_mean_squared_error', verbose=2)\n",
        "gs3.fit(t, hl)"
      ],
      "metadata": {
        "colab": {
          "base_uri": "https://localhost:8080/"
        },
        "id": "tLgIJCO2JrYy",
        "outputId": "c42e725d-8279-4991-c838-6828fc6e4acb"
      },
      "execution_count": null,
      "outputs": [
        {
          "output_type": "stream",
          "name": "stdout",
          "text": [
            "Fitting 5 folds for each of 48 candidates, totalling 240 fits\n",
            "[CV] END feature_selection__k=1, preparation__num__imputer__strategy=mean; total time=  12.0s\n",
            "[CV] END feature_selection__k=1, preparation__num__imputer__strategy=mean; total time=  11.8s\n",
            "[CV] END feature_selection__k=1, preparation__num__imputer__strategy=mean; total time=  11.9s\n",
            "[CV] END feature_selection__k=1, preparation__num__imputer__strategy=mean; total time=  11.9s\n",
            "[CV] END feature_selection__k=1, preparation__num__imputer__strategy=mean; total time=  11.9s\n",
            "[CV] END feature_selection__k=1, preparation__num__imputer__strategy=median; total time=  13.0s\n",
            "[CV] END feature_selection__k=1, preparation__num__imputer__strategy=median; total time=  11.8s\n",
            "[CV] END feature_selection__k=1, preparation__num__imputer__strategy=median; total time=  12.0s\n",
            "[CV] END feature_selection__k=1, preparation__num__imputer__strategy=median; total time=  12.0s\n",
            "[CV] END feature_selection__k=1, preparation__num__imputer__strategy=median; total time=  11.9s\n",
            "[CV] END feature_selection__k=1, preparation__num__imputer__strategy=most_frequent; total time=  11.9s\n",
            "[CV] END feature_selection__k=1, preparation__num__imputer__strategy=most_frequent; total time=  11.9s\n",
            "[CV] END feature_selection__k=1, preparation__num__imputer__strategy=most_frequent; total time=  11.9s\n",
            "[CV] END feature_selection__k=1, preparation__num__imputer__strategy=most_frequent; total time=  12.0s\n",
            "[CV] END feature_selection__k=1, preparation__num__imputer__strategy=most_frequent; total time=  13.1s\n",
            "[CV] END feature_selection__k=2, preparation__num__imputer__strategy=mean; total time=  12.2s\n",
            "[CV] END feature_selection__k=2, preparation__num__imputer__strategy=mean; total time=  12.3s\n",
            "[CV] END feature_selection__k=2, preparation__num__imputer__strategy=mean; total time=  12.2s\n",
            "[CV] END feature_selection__k=2, preparation__num__imputer__strategy=mean; total time=  12.3s\n",
            "[CV] END feature_selection__k=2, preparation__num__imputer__strategy=mean; total time=  12.2s\n",
            "[CV] END feature_selection__k=2, preparation__num__imputer__strategy=median; total time=  12.2s\n",
            "[CV] END feature_selection__k=2, preparation__num__imputer__strategy=median; total time=  12.4s\n",
            "[CV] END feature_selection__k=2, preparation__num__imputer__strategy=median; total time=  12.2s\n",
            "[CV] END feature_selection__k=2, preparation__num__imputer__strategy=median; total time=  12.3s\n",
            "[CV] END feature_selection__k=2, preparation__num__imputer__strategy=median; total time=  13.3s\n",
            "[CV] END feature_selection__k=2, preparation__num__imputer__strategy=most_frequent; total time=  12.2s\n",
            "[CV] END feature_selection__k=2, preparation__num__imputer__strategy=most_frequent; total time=  12.3s\n",
            "[CV] END feature_selection__k=2, preparation__num__imputer__strategy=most_frequent; total time=  12.2s\n",
            "[CV] END feature_selection__k=2, preparation__num__imputer__strategy=most_frequent; total time=  12.2s\n",
            "[CV] END feature_selection__k=2, preparation__num__imputer__strategy=most_frequent; total time=  12.2s\n",
            "[CV] END feature_selection__k=3, preparation__num__imputer__strategy=mean; total time=  12.3s\n",
            "[CV] END feature_selection__k=3, preparation__num__imputer__strategy=mean; total time=  12.4s\n",
            "[CV] END feature_selection__k=3, preparation__num__imputer__strategy=mean; total time=  12.4s\n",
            "[CV] END feature_selection__k=3, preparation__num__imputer__strategy=mean; total time=  13.4s\n",
            "[CV] END feature_selection__k=3, preparation__num__imputer__strategy=mean; total time=  12.3s\n",
            "[CV] END feature_selection__k=3, preparation__num__imputer__strategy=median; total time=  12.4s\n",
            "[CV] END feature_selection__k=3, preparation__num__imputer__strategy=median; total time=  12.2s\n",
            "[CV] END feature_selection__k=3, preparation__num__imputer__strategy=median; total time=  12.4s\n",
            "[CV] END feature_selection__k=3, preparation__num__imputer__strategy=median; total time=  12.3s\n",
            "[CV] END feature_selection__k=3, preparation__num__imputer__strategy=median; total time=  12.4s\n",
            "[CV] END feature_selection__k=3, preparation__num__imputer__strategy=most_frequent; total time=  12.5s\n",
            "[CV] END feature_selection__k=3, preparation__num__imputer__strategy=most_frequent; total time=  12.3s\n",
            "[CV] END feature_selection__k=3, preparation__num__imputer__strategy=most_frequent; total time=  13.4s\n",
            "[CV] END feature_selection__k=3, preparation__num__imputer__strategy=most_frequent; total time=  12.3s\n",
            "[CV] END feature_selection__k=3, preparation__num__imputer__strategy=most_frequent; total time=  12.3s\n",
            "[CV] END feature_selection__k=4, preparation__num__imputer__strategy=mean; total time=  12.7s\n",
            "[CV] END feature_selection__k=4, preparation__num__imputer__strategy=mean; total time=  12.5s\n",
            "[CV] END feature_selection__k=4, preparation__num__imputer__strategy=mean; total time=  12.7s\n",
            "[CV] END feature_selection__k=4, preparation__num__imputer__strategy=mean; total time=  12.6s\n",
            "[CV] END feature_selection__k=4, preparation__num__imputer__strategy=mean; total time=  12.7s\n",
            "[CV] END feature_selection__k=4, preparation__num__imputer__strategy=median; total time=  12.6s\n",
            "[CV] END feature_selection__k=4, preparation__num__imputer__strategy=median; total time=  13.7s\n",
            "[CV] END feature_selection__k=4, preparation__num__imputer__strategy=median; total time=  12.7s\n",
            "[CV] END feature_selection__k=4, preparation__num__imputer__strategy=median; total time=  12.7s\n",
            "[CV] END feature_selection__k=4, preparation__num__imputer__strategy=median; total time=  12.6s\n",
            "[CV] END feature_selection__k=4, preparation__num__imputer__strategy=most_frequent; total time=  12.6s\n",
            "[CV] END feature_selection__k=4, preparation__num__imputer__strategy=most_frequent; total time=  12.7s\n",
            "[CV] END feature_selection__k=4, preparation__num__imputer__strategy=most_frequent; total time=  12.7s\n",
            "[CV] END feature_selection__k=4, preparation__num__imputer__strategy=most_frequent; total time=  12.6s\n",
            "[CV] END feature_selection__k=4, preparation__num__imputer__strategy=most_frequent; total time=  12.6s\n",
            "[CV] END feature_selection__k=5, preparation__num__imputer__strategy=mean; total time=  13.8s\n",
            "[CV] END feature_selection__k=5, preparation__num__imputer__strategy=mean; total time=  12.7s\n",
            "[CV] END feature_selection__k=5, preparation__num__imputer__strategy=mean; total time=  12.7s\n",
            "[CV] END feature_selection__k=5, preparation__num__imputer__strategy=mean; total time=  12.7s\n",
            "[CV] END feature_selection__k=5, preparation__num__imputer__strategy=mean; total time=  12.8s\n",
            "[CV] END feature_selection__k=5, preparation__num__imputer__strategy=median; total time=  12.7s\n",
            "[CV] END feature_selection__k=5, preparation__num__imputer__strategy=median; total time=  12.7s\n",
            "[CV] END feature_selection__k=5, preparation__num__imputer__strategy=median; total time=  12.7s\n",
            "[CV] END feature_selection__k=5, preparation__num__imputer__strategy=median; total time=  12.7s\n",
            "[CV] END feature_selection__k=5, preparation__num__imputer__strategy=median; total time=  13.8s\n",
            "[CV] END feature_selection__k=5, preparation__num__imputer__strategy=most_frequent; total time=  12.7s\n",
            "[CV] END feature_selection__k=5, preparation__num__imputer__strategy=most_frequent; total time=  12.7s\n",
            "[CV] END feature_selection__k=5, preparation__num__imputer__strategy=most_frequent; total time=  12.7s\n",
            "[CV] END feature_selection__k=5, preparation__num__imputer__strategy=most_frequent; total time=  12.8s\n",
            "[CV] END feature_selection__k=5, preparation__num__imputer__strategy=most_frequent; total time=  12.7s\n",
            "[CV] END feature_selection__k=6, preparation__num__imputer__strategy=mean; total time=  12.9s\n",
            "[CV] END feature_selection__k=6, preparation__num__imputer__strategy=mean; total time=  13.0s\n",
            "[CV] END feature_selection__k=6, preparation__num__imputer__strategy=mean; total time=  12.9s\n",
            "[CV] END feature_selection__k=6, preparation__num__imputer__strategy=mean; total time=  14.1s\n",
            "[CV] END feature_selection__k=6, preparation__num__imputer__strategy=mean; total time=  13.0s\n",
            "[CV] END feature_selection__k=6, preparation__num__imputer__strategy=median; total time=  13.0s\n",
            "[CV] END feature_selection__k=6, preparation__num__imputer__strategy=median; total time=  12.9s\n",
            "[CV] END feature_selection__k=6, preparation__num__imputer__strategy=median; total time=  12.9s\n",
            "[CV] END feature_selection__k=6, preparation__num__imputer__strategy=median; total time=  12.9s\n",
            "[CV] END feature_selection__k=6, preparation__num__imputer__strategy=median; total time=  13.0s\n",
            "[CV] END feature_selection__k=6, preparation__num__imputer__strategy=most_frequent; total time=  12.9s\n",
            "[CV] END feature_selection__k=6, preparation__num__imputer__strategy=most_frequent; total time=  12.9s\n",
            "[CV] END feature_selection__k=6, preparation__num__imputer__strategy=most_frequent; total time=  13.9s\n",
            "[CV] END feature_selection__k=6, preparation__num__imputer__strategy=most_frequent; total time=  13.0s\n",
            "[CV] END feature_selection__k=6, preparation__num__imputer__strategy=most_frequent; total time=  13.1s\n",
            "[CV] END feature_selection__k=7, preparation__num__imputer__strategy=mean; total time=  13.3s\n",
            "[CV] END feature_selection__k=7, preparation__num__imputer__strategy=mean; total time=  13.4s\n",
            "[CV] END feature_selection__k=7, preparation__num__imputer__strategy=mean; total time=  13.1s\n",
            "[CV] END feature_selection__k=7, preparation__num__imputer__strategy=mean; total time=  13.1s\n",
            "[CV] END feature_selection__k=7, preparation__num__imputer__strategy=mean; total time=  13.2s\n",
            "[CV] END feature_selection__k=7, preparation__num__imputer__strategy=median; total time=  13.2s\n",
            "[CV] END feature_selection__k=7, preparation__num__imputer__strategy=median; total time=  14.3s\n",
            "[CV] END feature_selection__k=7, preparation__num__imputer__strategy=median; total time=  13.2s\n",
            "[CV] END feature_selection__k=7, preparation__num__imputer__strategy=median; total time=  13.2s\n",
            "[CV] END feature_selection__k=7, preparation__num__imputer__strategy=median; total time=  13.2s\n",
            "[CV] END feature_selection__k=7, preparation__num__imputer__strategy=most_frequent; total time=  13.1s\n",
            "[CV] END feature_selection__k=7, preparation__num__imputer__strategy=most_frequent; total time=  13.3s\n",
            "[CV] END feature_selection__k=7, preparation__num__imputer__strategy=most_frequent; total time=  13.2s\n",
            "[CV] END feature_selection__k=7, preparation__num__imputer__strategy=most_frequent; total time=  13.2s\n",
            "[CV] END feature_selection__k=7, preparation__num__imputer__strategy=most_frequent; total time=  13.2s\n",
            "[CV] END feature_selection__k=8, preparation__num__imputer__strategy=mean; total time=  14.7s\n",
            "[CV] END feature_selection__k=8, preparation__num__imputer__strategy=mean; total time=  13.6s\n",
            "[CV] END feature_selection__k=8, preparation__num__imputer__strategy=mean; total time=  13.5s\n",
            "[CV] END feature_selection__k=8, preparation__num__imputer__strategy=mean; total time=  13.5s\n",
            "[CV] END feature_selection__k=8, preparation__num__imputer__strategy=mean; total time=  13.5s\n",
            "[CV] END feature_selection__k=8, preparation__num__imputer__strategy=median; total time=  13.5s\n",
            "[CV] END feature_selection__k=8, preparation__num__imputer__strategy=median; total time=  13.6s\n",
            "[CV] END feature_selection__k=8, preparation__num__imputer__strategy=median; total time=  13.5s\n",
            "[CV] END feature_selection__k=8, preparation__num__imputer__strategy=median; total time=  14.6s\n",
            "[CV] END feature_selection__k=8, preparation__num__imputer__strategy=median; total time=  13.6s\n",
            "[CV] END feature_selection__k=8, preparation__num__imputer__strategy=most_frequent; total time=  13.6s\n",
            "[CV] END feature_selection__k=8, preparation__num__imputer__strategy=most_frequent; total time=  13.7s\n",
            "[CV] END feature_selection__k=8, preparation__num__imputer__strategy=most_frequent; total time=  13.5s\n",
            "[CV] END feature_selection__k=8, preparation__num__imputer__strategy=most_frequent; total time=  13.5s\n",
            "[CV] END feature_selection__k=8, preparation__num__imputer__strategy=most_frequent; total time=  13.5s\n",
            "[CV] END feature_selection__k=9, preparation__num__imputer__strategy=mean; total time=  14.0s\n",
            "[CV] END feature_selection__k=9, preparation__num__imputer__strategy=mean; total time=  14.0s\n",
            "[CV] END feature_selection__k=9, preparation__num__imputer__strategy=mean; total time=  15.2s\n",
            "[CV] END feature_selection__k=9, preparation__num__imputer__strategy=mean; total time=  14.1s\n",
            "[CV] END feature_selection__k=9, preparation__num__imputer__strategy=mean; total time=  14.1s\n",
            "[CV] END feature_selection__k=9, preparation__num__imputer__strategy=median; total time=  13.9s\n",
            "[CV] END feature_selection__k=9, preparation__num__imputer__strategy=median; total time=  13.9s\n",
            "[CV] END feature_selection__k=9, preparation__num__imputer__strategy=median; total time=  14.0s\n",
            "[CV] END feature_selection__k=9, preparation__num__imputer__strategy=median; total time=  14.0s\n",
            "[CV] END feature_selection__k=9, preparation__num__imputer__strategy=median; total time=  14.0s\n",
            "[CV] END feature_selection__k=9, preparation__num__imputer__strategy=most_frequent; total time=  15.0s\n",
            "[CV] END feature_selection__k=9, preparation__num__imputer__strategy=most_frequent; total time=  14.1s\n",
            "[CV] END feature_selection__k=9, preparation__num__imputer__strategy=most_frequent; total time=  14.0s\n",
            "[CV] END feature_selection__k=9, preparation__num__imputer__strategy=most_frequent; total time=  13.9s\n",
            "[CV] END feature_selection__k=9, preparation__num__imputer__strategy=most_frequent; total time=  13.9s\n",
            "[CV] END feature_selection__k=10, preparation__num__imputer__strategy=mean; total time=  14.2s\n",
            "[CV] END feature_selection__k=10, preparation__num__imputer__strategy=mean; total time=  14.2s\n",
            "[CV] END feature_selection__k=10, preparation__num__imputer__strategy=mean; total time=  14.2s\n",
            "[CV] END feature_selection__k=10, preparation__num__imputer__strategy=mean; total time=  15.2s\n",
            "[CV] END feature_selection__k=10, preparation__num__imputer__strategy=mean; total time=  14.3s\n",
            "[CV] END feature_selection__k=10, preparation__num__imputer__strategy=median; total time=  14.3s\n",
            "[CV] END feature_selection__k=10, preparation__num__imputer__strategy=median; total time=  14.3s\n",
            "[CV] END feature_selection__k=10, preparation__num__imputer__strategy=median; total time=  14.2s\n",
            "[CV] END feature_selection__k=10, preparation__num__imputer__strategy=median; total time=  14.2s\n",
            "[CV] END feature_selection__k=10, preparation__num__imputer__strategy=median; total time=  14.3s\n",
            "[CV] END feature_selection__k=10, preparation__num__imputer__strategy=most_frequent; total time=  14.3s\n",
            "[CV] END feature_selection__k=10, preparation__num__imputer__strategy=most_frequent; total time=  15.3s\n",
            "[CV] END feature_selection__k=10, preparation__num__imputer__strategy=most_frequent; total time=  14.3s\n",
            "[CV] END feature_selection__k=10, preparation__num__imputer__strategy=most_frequent; total time=  14.3s\n",
            "[CV] END feature_selection__k=10, preparation__num__imputer__strategy=most_frequent; total time=  14.2s\n",
            "[CV] END feature_selection__k=11, preparation__num__imputer__strategy=mean; total time=  14.6s\n",
            "[CV] END feature_selection__k=11, preparation__num__imputer__strategy=mean; total time=  14.7s\n",
            "[CV] END feature_selection__k=11, preparation__num__imputer__strategy=mean; total time=  14.7s\n",
            "[CV] END feature_selection__k=11, preparation__num__imputer__strategy=mean; total time=  14.6s\n",
            "[CV] END feature_selection__k=11, preparation__num__imputer__strategy=mean; total time=  15.9s\n",
            "[CV] END feature_selection__k=11, preparation__num__imputer__strategy=median; total time=  14.7s\n",
            "[CV] END feature_selection__k=11, preparation__num__imputer__strategy=median; total time=  14.6s\n",
            "[CV] END feature_selection__k=11, preparation__num__imputer__strategy=median; total time=  14.6s\n",
            "[CV] END feature_selection__k=11, preparation__num__imputer__strategy=median; total time=  14.6s\n",
            "[CV] END feature_selection__k=11, preparation__num__imputer__strategy=median; total time=  14.6s\n",
            "[CV] END feature_selection__k=11, preparation__num__imputer__strategy=most_frequent; total time=  14.6s\n",
            "[CV] END feature_selection__k=11, preparation__num__imputer__strategy=most_frequent; total time=  14.5s\n",
            "[CV] END feature_selection__k=11, preparation__num__imputer__strategy=most_frequent; total time=  15.7s\n",
            "[CV] END feature_selection__k=11, preparation__num__imputer__strategy=most_frequent; total time=  14.8s\n",
            "[CV] END feature_selection__k=11, preparation__num__imputer__strategy=most_frequent; total time=  14.6s\n",
            "[CV] END feature_selection__k=12, preparation__num__imputer__strategy=mean; total time=  15.1s\n",
            "[CV] END feature_selection__k=12, preparation__num__imputer__strategy=mean; total time=  15.0s\n",
            "[CV] END feature_selection__k=12, preparation__num__imputer__strategy=mean; total time=  15.0s\n",
            "[CV] END feature_selection__k=12, preparation__num__imputer__strategy=mean; total time=  15.0s\n",
            "[CV] END feature_selection__k=12, preparation__num__imputer__strategy=mean; total time=  15.0s\n",
            "[CV] END feature_selection__k=12, preparation__num__imputer__strategy=median; total time=  16.2s\n",
            "[CV] END feature_selection__k=12, preparation__num__imputer__strategy=median; total time=  14.9s\n",
            "[CV] END feature_selection__k=12, preparation__num__imputer__strategy=median; total time=  15.0s\n",
            "[CV] END feature_selection__k=12, preparation__num__imputer__strategy=median; total time=  15.0s\n",
            "[CV] END feature_selection__k=12, preparation__num__imputer__strategy=median; total time=  15.0s\n",
            "[CV] END feature_selection__k=12, preparation__num__imputer__strategy=most_frequent; total time=  15.0s\n",
            "[CV] END feature_selection__k=12, preparation__num__imputer__strategy=most_frequent; total time=  15.0s\n",
            "[CV] END feature_selection__k=12, preparation__num__imputer__strategy=most_frequent; total time=  14.9s\n",
            "[CV] END feature_selection__k=12, preparation__num__imputer__strategy=most_frequent; total time=  16.2s\n",
            "[CV] END feature_selection__k=12, preparation__num__imputer__strategy=most_frequent; total time=  15.0s\n",
            "[CV] END feature_selection__k=13, preparation__num__imputer__strategy=mean; total time=  15.5s\n",
            "[CV] END feature_selection__k=13, preparation__num__imputer__strategy=mean; total time=  15.5s\n",
            "[CV] END feature_selection__k=13, preparation__num__imputer__strategy=mean; total time=  15.5s\n",
            "[CV] END feature_selection__k=13, preparation__num__imputer__strategy=mean; total time=  15.4s\n",
            "[CV] END feature_selection__k=13, preparation__num__imputer__strategy=mean; total time=  15.6s\n",
            "[CV] END feature_selection__k=13, preparation__num__imputer__strategy=median; total time=  15.6s\n",
            "[CV] END feature_selection__k=13, preparation__num__imputer__strategy=median; total time=  16.6s\n",
            "[CV] END feature_selection__k=13, preparation__num__imputer__strategy=median; total time=  15.5s\n",
            "[CV] END feature_selection__k=13, preparation__num__imputer__strategy=median; total time=  15.6s\n",
            "[CV] END feature_selection__k=13, preparation__num__imputer__strategy=median; total time=  15.6s\n",
            "[CV] END feature_selection__k=13, preparation__num__imputer__strategy=most_frequent; total time=  15.6s\n",
            "[CV] END feature_selection__k=13, preparation__num__imputer__strategy=most_frequent; total time=  15.4s\n",
            "[CV] END feature_selection__k=13, preparation__num__imputer__strategy=most_frequent; total time=  15.7s\n",
            "[CV] END feature_selection__k=13, preparation__num__imputer__strategy=most_frequent; total time=  15.5s\n",
            "[CV] END feature_selection__k=13, preparation__num__imputer__strategy=most_frequent; total time=  16.6s\n",
            "[CV] END feature_selection__k=14, preparation__num__imputer__strategy=mean; total time=  15.9s\n",
            "[CV] END feature_selection__k=14, preparation__num__imputer__strategy=mean; total time=  15.8s\n",
            "[CV] END feature_selection__k=14, preparation__num__imputer__strategy=mean; total time=  15.7s\n",
            "[CV] END feature_selection__k=14, preparation__num__imputer__strategy=mean; total time=  15.8s\n",
            "[CV] END feature_selection__k=14, preparation__num__imputer__strategy=mean; total time=  15.8s\n",
            "[CV] END feature_selection__k=14, preparation__num__imputer__strategy=median; total time=  15.8s\n",
            "[CV] END feature_selection__k=14, preparation__num__imputer__strategy=median; total time=  15.9s\n",
            "[CV] END feature_selection__k=14, preparation__num__imputer__strategy=median; total time=  16.8s\n",
            "[CV] END feature_selection__k=14, preparation__num__imputer__strategy=median; total time=  15.8s\n",
            "[CV] END feature_selection__k=14, preparation__num__imputer__strategy=median; total time=  16.0s\n",
            "[CV] END feature_selection__k=14, preparation__num__imputer__strategy=most_frequent; total time=  15.7s\n",
            "[CV] END feature_selection__k=14, preparation__num__imputer__strategy=most_frequent; total time=  15.8s\n",
            "[CV] END feature_selection__k=14, preparation__num__imputer__strategy=most_frequent; total time=  15.8s\n",
            "[CV] END feature_selection__k=14, preparation__num__imputer__strategy=most_frequent; total time=  15.9s\n",
            "[CV] END feature_selection__k=14, preparation__num__imputer__strategy=most_frequent; total time=  16.8s\n",
            "[CV] END feature_selection__k=15, preparation__num__imputer__strategy=mean; total time=  16.1s\n",
            "[CV] END feature_selection__k=15, preparation__num__imputer__strategy=mean; total time=  16.2s\n",
            "[CV] END feature_selection__k=15, preparation__num__imputer__strategy=mean; total time=  16.0s\n",
            "[CV] END feature_selection__k=15, preparation__num__imputer__strategy=mean; total time=  16.0s\n",
            "[CV] END feature_selection__k=15, preparation__num__imputer__strategy=mean; total time=  16.3s\n",
            "[CV] END feature_selection__k=15, preparation__num__imputer__strategy=median; total time=  16.2s\n",
            "[CV] END feature_selection__k=15, preparation__num__imputer__strategy=median; total time=  15.9s\n",
            "[CV] END feature_selection__k=15, preparation__num__imputer__strategy=median; total time=  16.7s\n",
            "[CV] END feature_selection__k=15, preparation__num__imputer__strategy=median; total time=  16.0s\n",
            "[CV] END feature_selection__k=15, preparation__num__imputer__strategy=median; total time=  15.9s\n",
            "[CV] END feature_selection__k=15, preparation__num__imputer__strategy=most_frequent; total time=  16.0s\n",
            "[CV] END feature_selection__k=15, preparation__num__imputer__strategy=most_frequent; total time=  15.9s\n",
            "[CV] END feature_selection__k=16, preparation__num__imputer__strategy=mean; total time=  14.6s\n",
            "[CV] END feature_selection__k=16, preparation__num__imputer__strategy=mean; total time=  14.5s\n",
            "[CV] END feature_selection__k=16, preparation__num__imputer__strategy=mean; total time=  14.6s\n",
            "[CV] END feature_selection__k=16, preparation__num__imputer__strategy=mean; total time=  14.5s\n",
            "[CV] END feature_selection__k=16, preparation__num__imputer__strategy=mean; total time=  14.5s\n",
            "[CV] END feature_selection__k=16, preparation__num__imputer__strategy=median; total time=  14.4s\n",
            "[CV] END feature_selection__k=16, preparation__num__imputer__strategy=median; total time=  14.6s\n",
            "[CV] END feature_selection__k=16, preparation__num__imputer__strategy=median; total time=  14.5s\n",
            "[CV] END feature_selection__k=16, preparation__num__imputer__strategy=median; total time=  15.3s\n",
            "[CV] END feature_selection__k=16, preparation__num__imputer__strategy=median; total time=  14.7s\n",
            "[CV] END feature_selection__k=16, preparation__num__imputer__strategy=most_frequent; total time=  15.0s\n",
            "[CV] END feature_selection__k=16, preparation__num__imputer__strategy=most_frequent; total time=  14.5s\n",
            "[CV] END feature_selection__k=16, preparation__num__imputer__strategy=most_frequent; total time=  14.7s\n",
            "[CV] END feature_selection__k=16, preparation__num__imputer__strategy=most_frequent; total time=  14.6s\n"
          ]
        }
      ]
    },
    {
      "cell_type": "code",
      "source": [
        "gs3.best_params_"
      ],
      "metadata": {
        "colab": {
          "base_uri": "https://localhost:8080/"
        },
        "id": "gXcruyakKMaD",
        "outputId": "c42f82ed-2e1b-4bb5-e161-1aefbd22f9b5"
      },
      "execution_count": 111,
      "outputs": [
        {
          "output_type": "execute_result",
          "data": {
            "text/plain": [
              "{'feature_selection__k': 10,\n",
              " 'preparation__num__imputer__strategy': 'most_frequent'}"
            ]
          },
          "metadata": {},
          "execution_count": 111
        }
      ]
    }
  ]
}